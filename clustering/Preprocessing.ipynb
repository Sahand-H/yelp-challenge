{
 "cells": [
  {
   "cell_type": "code",
   "execution_count": 1,
   "metadata": {},
   "outputs": [],
   "source": [
    "import json\n",
    "import pandas as pd\n",
    "import operator\n",
    "from tqdm import tqdm\n",
    "\n",
    "tqdm.pandas()"
   ]
  },
  {
   "cell_type": "code",
   "execution_count": 2,
   "metadata": {},
   "outputs": [],
   "source": [
    "res = pd.read_json('../data/yelp_academic_dataset_business.json', lines=True)"
   ]
  },
  {
   "cell_type": "code",
   "execution_count": 3,
   "metadata": {},
   "outputs": [
    {
     "data": {
      "text/html": [
       "<div>\n",
       "<style scoped>\n",
       "    .dataframe tbody tr th:only-of-type {\n",
       "        vertical-align: middle;\n",
       "    }\n",
       "\n",
       "    .dataframe tbody tr th {\n",
       "        vertical-align: top;\n",
       "    }\n",
       "\n",
       "    .dataframe thead th {\n",
       "        text-align: right;\n",
       "    }\n",
       "</style>\n",
       "<table border=\"1\" class=\"dataframe\">\n",
       "  <thead>\n",
       "    <tr style=\"text-align: right;\">\n",
       "      <th></th>\n",
       "      <th>address</th>\n",
       "      <th>attributes</th>\n",
       "      <th>business_id</th>\n",
       "      <th>categories</th>\n",
       "      <th>city</th>\n",
       "      <th>hours</th>\n",
       "      <th>is_open</th>\n",
       "      <th>latitude</th>\n",
       "      <th>longitude</th>\n",
       "      <th>name</th>\n",
       "      <th>neighborhood</th>\n",
       "      <th>postal_code</th>\n",
       "      <th>review_count</th>\n",
       "      <th>stars</th>\n",
       "      <th>state</th>\n",
       "    </tr>\n",
       "  </thead>\n",
       "  <tbody>\n",
       "    <tr>\n",
       "      <th>0</th>\n",
       "      <td>1314 44 Avenue NE</td>\n",
       "      <td>{'BikeParking': 'False', 'BusinessAcceptsCredi...</td>\n",
       "      <td>Apn5Q_b6Nz61Tq4XzPdf9A</td>\n",
       "      <td>Tours, Breweries, Pizza, Restaurants, Food, Ho...</td>\n",
       "      <td>Calgary</td>\n",
       "      <td>{'Monday': '8:30-17:0', 'Tuesday': '11:0-21:0'...</td>\n",
       "      <td>1</td>\n",
       "      <td>51.091813</td>\n",
       "      <td>-114.031675</td>\n",
       "      <td>Minhas Micro Brewery</td>\n",
       "      <td></td>\n",
       "      <td>T2E 6L6</td>\n",
       "      <td>24</td>\n",
       "      <td>4.0</td>\n",
       "      <td>AB</td>\n",
       "    </tr>\n",
       "    <tr>\n",
       "      <th>1</th>\n",
       "      <td></td>\n",
       "      <td>{'Alcohol': 'none', 'BikeParking': 'False', 'B...</td>\n",
       "      <td>AjEbIBw6ZFfln7ePHha9PA</td>\n",
       "      <td>Chicken Wings, Burgers, Caterers, Street Vendo...</td>\n",
       "      <td>Henderson</td>\n",
       "      <td>{'Friday': '17:0-23:0', 'Saturday': '17:0-23:0...</td>\n",
       "      <td>0</td>\n",
       "      <td>35.960734</td>\n",
       "      <td>-114.939821</td>\n",
       "      <td>CK'S BBQ &amp; Catering</td>\n",
       "      <td></td>\n",
       "      <td>89002</td>\n",
       "      <td>3</td>\n",
       "      <td>4.5</td>\n",
       "      <td>NV</td>\n",
       "    </tr>\n",
       "    <tr>\n",
       "      <th>2</th>\n",
       "      <td>1335 rue Beaubien E</td>\n",
       "      <td>{'Alcohol': 'beer_and_wine', 'Ambience': '{'ro...</td>\n",
       "      <td>O8S5hYJ1SMc8fA4QBtVujA</td>\n",
       "      <td>Breakfast &amp; Brunch, Restaurants, French, Sandw...</td>\n",
       "      <td>Montréal</td>\n",
       "      <td>{'Monday': '10:0-22:0', 'Tuesday': '10:0-22:0'...</td>\n",
       "      <td>0</td>\n",
       "      <td>45.540503</td>\n",
       "      <td>-73.599300</td>\n",
       "      <td>La Bastringue</td>\n",
       "      <td>Rosemont-La Petite-Patrie</td>\n",
       "      <td>H2G 1K7</td>\n",
       "      <td>5</td>\n",
       "      <td>4.0</td>\n",
       "      <td>QC</td>\n",
       "    </tr>\n",
       "    <tr>\n",
       "      <th>3</th>\n",
       "      <td>211 W Monroe St</td>\n",
       "      <td>None</td>\n",
       "      <td>bFzdJJ3wp3PZssNEsyU23g</td>\n",
       "      <td>Insurance, Financial Services</td>\n",
       "      <td>Phoenix</td>\n",
       "      <td>None</td>\n",
       "      <td>1</td>\n",
       "      <td>33.449999</td>\n",
       "      <td>-112.076979</td>\n",
       "      <td>Geico Insurance</td>\n",
       "      <td></td>\n",
       "      <td>85003</td>\n",
       "      <td>8</td>\n",
       "      <td>1.5</td>\n",
       "      <td>AZ</td>\n",
       "    </tr>\n",
       "    <tr>\n",
       "      <th>4</th>\n",
       "      <td>2005 Alyth Place SE</td>\n",
       "      <td>{'BusinessAcceptsCreditCards': 'True'}</td>\n",
       "      <td>8USyCYqpScwiNEb58Bt6CA</td>\n",
       "      <td>Home &amp; Garden, Nurseries &amp; Gardening, Shopping...</td>\n",
       "      <td>Calgary</td>\n",
       "      <td>{'Monday': '8:0-17:0', 'Tuesday': '8:0-17:0', ...</td>\n",
       "      <td>1</td>\n",
       "      <td>51.035591</td>\n",
       "      <td>-114.027366</td>\n",
       "      <td>Action Engine</td>\n",
       "      <td></td>\n",
       "      <td>T2H 0N5</td>\n",
       "      <td>4</td>\n",
       "      <td>2.0</td>\n",
       "      <td>AB</td>\n",
       "    </tr>\n",
       "    <tr>\n",
       "      <th>5</th>\n",
       "      <td>20235 N Cave Creek Rd, Ste 1115</td>\n",
       "      <td>{'BikeParking': 'True', 'BusinessAcceptsCredit...</td>\n",
       "      <td>45bWSZtniwPRiqlivpS8Og</td>\n",
       "      <td>Coffee &amp; Tea, Food</td>\n",
       "      <td>Phoenix</td>\n",
       "      <td>{'Monday': '5:30-20:0', 'Tuesday': '5:30-20:0'...</td>\n",
       "      <td>1</td>\n",
       "      <td>33.671375</td>\n",
       "      <td>-112.030017</td>\n",
       "      <td>The Coffee Bean &amp; Tea Leaf</td>\n",
       "      <td></td>\n",
       "      <td>85024</td>\n",
       "      <td>63</td>\n",
       "      <td>4.0</td>\n",
       "      <td>AZ</td>\n",
       "    </tr>\n",
       "    <tr>\n",
       "      <th>6</th>\n",
       "      <td>631 Bloor St W</td>\n",
       "      <td>{'BusinessParking': '{'garage': False, 'street...</td>\n",
       "      <td>9A2quhZLyWk0akUetBd8hQ</td>\n",
       "      <td>Food, Bakeries</td>\n",
       "      <td>Toronto</td>\n",
       "      <td>None</td>\n",
       "      <td>0</td>\n",
       "      <td>43.664378</td>\n",
       "      <td>-79.414424</td>\n",
       "      <td>Bnc Cake House</td>\n",
       "      <td>Koreatown</td>\n",
       "      <td>M6G 1K8</td>\n",
       "      <td>7</td>\n",
       "      <td>4.0</td>\n",
       "      <td>ON</td>\n",
       "    </tr>\n",
       "    <tr>\n",
       "      <th>7</th>\n",
       "      <td>3417 Derry Road E, Unit 103</td>\n",
       "      <td>{'Alcohol': 'none', 'BusinessAcceptsCreditCard...</td>\n",
       "      <td>6OuOZAok8ikONMS_T3EzXg</td>\n",
       "      <td>Restaurants, Thai</td>\n",
       "      <td>Mississauga</td>\n",
       "      <td>None</td>\n",
       "      <td>1</td>\n",
       "      <td>43.712946</td>\n",
       "      <td>-79.632763</td>\n",
       "      <td>Thai One On</td>\n",
       "      <td>Ridgewood</td>\n",
       "      <td>L4T 1A8</td>\n",
       "      <td>7</td>\n",
       "      <td>2.0</td>\n",
       "      <td>ON</td>\n",
       "    </tr>\n",
       "    <tr>\n",
       "      <th>8</th>\n",
       "      <td>1440 N. Dysart Ave</td>\n",
       "      <td>{'Alcohol': 'none', 'Ambience': '{'romantic': ...</td>\n",
       "      <td>8-NRKkPY1UiFXW20WXKiXg</td>\n",
       "      <td>Mexican, Restaurants</td>\n",
       "      <td>Avondale</td>\n",
       "      <td>{'Monday': '0:0-0:0', 'Tuesday': '0:0-0:0', 'W...</td>\n",
       "      <td>1</td>\n",
       "      <td>33.448106</td>\n",
       "      <td>-112.341302</td>\n",
       "      <td>Filiberto's Mexican Food</td>\n",
       "      <td></td>\n",
       "      <td>85323</td>\n",
       "      <td>40</td>\n",
       "      <td>2.5</td>\n",
       "      <td>AZ</td>\n",
       "    </tr>\n",
       "    <tr>\n",
       "      <th>9</th>\n",
       "      <td>209 Oakland Ave</td>\n",
       "      <td>{'BikeParking': 'True', 'BusinessAcceptsCredit...</td>\n",
       "      <td>UTm5QZThPQlT35mkAcGOjg</td>\n",
       "      <td>Flowers &amp; Gifts, Gift Shops, Shopping</td>\n",
       "      <td>Pittsburgh</td>\n",
       "      <td>{'Monday': '9:0-18:0', 'Tuesday': '9:0-18:0', ...</td>\n",
       "      <td>1</td>\n",
       "      <td>40.441421</td>\n",
       "      <td>-79.956457</td>\n",
       "      <td>Maggie &amp; Stella's Gifts</td>\n",
       "      <td>Oakland</td>\n",
       "      <td>15213</td>\n",
       "      <td>3</td>\n",
       "      <td>3.5</td>\n",
       "      <td>PA</td>\n",
       "    </tr>\n",
       "    <tr>\n",
       "      <th>10</th>\n",
       "      <td>4568 Highway 7 E</td>\n",
       "      <td>{'GoodForKids': 'True', 'NoiseLevel': 'loud', ...</td>\n",
       "      <td>KapTdGyGs7RK0c68Z6hhhg</td>\n",
       "      <td>Restaurants, Japanese</td>\n",
       "      <td>Markham</td>\n",
       "      <td>{'Monday': '11:30-23:0', 'Tuesday': '11:30-23:...</td>\n",
       "      <td>0</td>\n",
       "      <td>43.862484</td>\n",
       "      <td>-79.306960</td>\n",
       "      <td>Sushi 8</td>\n",
       "      <td>Unionville</td>\n",
       "      <td>L3R 1M5</td>\n",
       "      <td>12</td>\n",
       "      <td>1.5</td>\n",
       "      <td>ON</td>\n",
       "    </tr>\n",
       "    <tr>\n",
       "      <th>11</th>\n",
       "      <td>595 Markham Street</td>\n",
       "      <td>{'Alcohol': 'full_bar', 'Ambience': '{'romanti...</td>\n",
       "      <td>tZnSodhPwNr4bzrwJ1CSbw</td>\n",
       "      <td>Cajun/Creole, Southern, Restaurants</td>\n",
       "      <td>Toronto</td>\n",
       "      <td>{'Tuesday': '17:0-1:0', 'Wednesday': '17:0-1:0...</td>\n",
       "      <td>0</td>\n",
       "      <td>43.664125</td>\n",
       "      <td>-79.411886</td>\n",
       "      <td>Southern Accent Restaurant</td>\n",
       "      <td>Palmerston</td>\n",
       "      <td>M6G 2L7</td>\n",
       "      <td>146</td>\n",
       "      <td>4.0</td>\n",
       "      <td>ON</td>\n",
       "    </tr>\n",
       "    <tr>\n",
       "      <th>12</th>\n",
       "      <td>2801 N 15th Ave</td>\n",
       "      <td>{'Alcohol': 'full_bar', 'Ambience': '{'romanti...</td>\n",
       "      <td>_c3ixq9jYKxhLUB0czi0ug</td>\n",
       "      <td>Bars, Sports Bars, Dive Bars, Burgers, Nightli...</td>\n",
       "      <td>Phoenix</td>\n",
       "      <td>{'Monday': '11:0-22:0', 'Tuesday': '11:0-22:0'...</td>\n",
       "      <td>1</td>\n",
       "      <td>33.479807</td>\n",
       "      <td>-112.091188</td>\n",
       "      <td>Original Hamburger Works</td>\n",
       "      <td></td>\n",
       "      <td>85007</td>\n",
       "      <td>277</td>\n",
       "      <td>4.0</td>\n",
       "      <td>AZ</td>\n",
       "    </tr>\n",
       "    <tr>\n",
       "      <th>13</th>\n",
       "      <td>4216 Saint-Laurent Boul</td>\n",
       "      <td>{'Alcohol': 'full_bar', 'Ambience': '{'romanti...</td>\n",
       "      <td>bBUMib8l6Me1ZB1_Qkezkg</td>\n",
       "      <td>Restaurants, Pakistani, Indian, Middle Eastern</td>\n",
       "      <td>Montréal</td>\n",
       "      <td>None</td>\n",
       "      <td>1</td>\n",
       "      <td>45.518036</td>\n",
       "      <td>-73.582174</td>\n",
       "      <td>Mysore Indian Cuisine</td>\n",
       "      <td>Plateau-Mont-Royal</td>\n",
       "      <td>H2W 1Z3</td>\n",
       "      <td>19</td>\n",
       "      <td>3.5</td>\n",
       "      <td>QC</td>\n",
       "    </tr>\n",
       "    <tr>\n",
       "      <th>14</th>\n",
       "      <td>4404 14 Street NW</td>\n",
       "      <td>{'BusinessParking': '{'garage': False, 'street...</td>\n",
       "      <td>o_zDURWzgt5yM5HW_xGJsg</td>\n",
       "      <td>Beauty &amp; Spas, Barbers</td>\n",
       "      <td>Calgary</td>\n",
       "      <td>{'Monday': '9:30-18:0', 'Tuesday': '9:30-18:0'...</td>\n",
       "      <td>1</td>\n",
       "      <td>51.091857</td>\n",
       "      <td>-114.094625</td>\n",
       "      <td>North Haven Barber Shop</td>\n",
       "      <td></td>\n",
       "      <td>T2K</td>\n",
       "      <td>3</td>\n",
       "      <td>4.5</td>\n",
       "      <td>AB</td>\n",
       "    </tr>\n",
       "    <tr>\n",
       "      <th>15</th>\n",
       "      <td>1200 37 St SW</td>\n",
       "      <td>{'BusinessAcceptsCreditCards': 'True', 'Busine...</td>\n",
       "      <td>IbTDLI02Sq50C7B-EWK1sg</td>\n",
       "      <td>Delis, Restaurants, Sandwiches</td>\n",
       "      <td>Calgary</td>\n",
       "      <td>None</td>\n",
       "      <td>1</td>\n",
       "      <td>51.042469</td>\n",
       "      <td>-114.139574</td>\n",
       "      <td>Safeway Food &amp; Drug</td>\n",
       "      <td></td>\n",
       "      <td>T3C 1S2</td>\n",
       "      <td>4</td>\n",
       "      <td>2.5</td>\n",
       "      <td>AB</td>\n",
       "    </tr>\n",
       "    <tr>\n",
       "      <th>16</th>\n",
       "      <td>438 Place Jacques Cartier</td>\n",
       "      <td>{'Alcohol': 'full_bar', 'BikeParking': 'True',...</td>\n",
       "      <td>r89Re4FNgVWHgBfjCVZyVw</td>\n",
       "      <td>Nightlife, Bars, American (Traditional), Tapas...</td>\n",
       "      <td>Montréal</td>\n",
       "      <td>{'Monday': '11:30-23:0', 'Tuesday': '11:30-23:...</td>\n",
       "      <td>0</td>\n",
       "      <td>45.507699</td>\n",
       "      <td>-73.553407</td>\n",
       "      <td>Harlow</td>\n",
       "      <td>Ville-Marie</td>\n",
       "      <td>H2Y 3B3</td>\n",
       "      <td>12</td>\n",
       "      <td>3.5</td>\n",
       "      <td>QC</td>\n",
       "    </tr>\n",
       "    <tr>\n",
       "      <th>17</th>\n",
       "      <td>703 N Rancho Dr</td>\n",
       "      <td>{'BusinessAcceptsCreditCards': 'True', 'Busine...</td>\n",
       "      <td>hTzcHtk4-0QJnFUbkKpd5Q</td>\n",
       "      <td>Shopping, Fashion, Department Stores</td>\n",
       "      <td>Las Vegas</td>\n",
       "      <td>None</td>\n",
       "      <td>1</td>\n",
       "      <td>36.178348</td>\n",
       "      <td>-115.176916</td>\n",
       "      <td>Citi Trends</td>\n",
       "      <td></td>\n",
       "      <td>89106</td>\n",
       "      <td>4</td>\n",
       "      <td>4.0</td>\n",
       "      <td>NV</td>\n",
       "    </tr>\n",
       "    <tr>\n",
       "      <th>18</th>\n",
       "      <td>1549 N Rancho Dr</td>\n",
       "      <td>None</td>\n",
       "      <td>UwIpS9UKsPiKAv1fiEYhqg</td>\n",
       "      <td>Financial Services, Check Cashing/Pay-day Loan...</td>\n",
       "      <td>Las Vegas</td>\n",
       "      <td>{'Monday': '10:0-19:0', 'Tuesday': '10:0-18:0'...</td>\n",
       "      <td>1</td>\n",
       "      <td>36.188386</td>\n",
       "      <td>-115.186124</td>\n",
       "      <td>Nevada Title And Payday Loans</td>\n",
       "      <td></td>\n",
       "      <td>89106</td>\n",
       "      <td>4</td>\n",
       "      <td>1.0</td>\n",
       "      <td>NV</td>\n",
       "    </tr>\n",
       "    <tr>\n",
       "      <th>19</th>\n",
       "      <td>3940 Martin Luther King Blvd, Ste 101</td>\n",
       "      <td>{'BikeParking': 'True', 'BusinessAcceptsCredit...</td>\n",
       "      <td>vJIuDBdu01vCA8y1fwR1OQ</td>\n",
       "      <td>American (Traditional), Food, Bakeries, Restau...</td>\n",
       "      <td>Las Vegas</td>\n",
       "      <td>{'Tuesday': '11:0-18:0', 'Wednesday': '11:0-18...</td>\n",
       "      <td>0</td>\n",
       "      <td>36.192284</td>\n",
       "      <td>-115.159272</td>\n",
       "      <td>CakesbyToi</td>\n",
       "      <td></td>\n",
       "      <td>89106</td>\n",
       "      <td>3</td>\n",
       "      <td>1.5</td>\n",
       "      <td>NV</td>\n",
       "    </tr>\n",
       "    <tr>\n",
       "      <th>20</th>\n",
       "      <td></td>\n",
       "      <td>{'BusinessAcceptsCreditCards': 'True'}</td>\n",
       "      <td>YZCHr68c5aEVHz0bkq9K2g</td>\n",
       "      <td>Home Services, Masonry/Concrete, Professional ...</td>\n",
       "      <td>Las Vegas</td>\n",
       "      <td>None</td>\n",
       "      <td>1</td>\n",
       "      <td>36.260816</td>\n",
       "      <td>-115.171130</td>\n",
       "      <td>Park Stone Pavers</td>\n",
       "      <td></td>\n",
       "      <td>89031</td>\n",
       "      <td>20</td>\n",
       "      <td>5.0</td>\n",
       "      <td>NV</td>\n",
       "    </tr>\n",
       "    <tr>\n",
       "      <th>21</th>\n",
       "      <td>3040 Carnegie Ave</td>\n",
       "      <td>None</td>\n",
       "      <td>gJ5xSt6147gkcZ9Es0WxlA</td>\n",
       "      <td>Fast Food, Burgers, Restaurants</td>\n",
       "      <td>Cleveland</td>\n",
       "      <td>None</td>\n",
       "      <td>1</td>\n",
       "      <td>41.499989</td>\n",
       "      <td>-81.666375</td>\n",
       "      <td>Rally's Hamburgers</td>\n",
       "      <td>Central</td>\n",
       "      <td>44115</td>\n",
       "      <td>5</td>\n",
       "      <td>3.0</td>\n",
       "      <td>OH</td>\n",
       "    </tr>\n",
       "    <tr>\n",
       "      <th>22</th>\n",
       "      <td>4131 N 83rd Ave</td>\n",
       "      <td>{'Ambience': '{'romantic': False, 'intimate': ...</td>\n",
       "      <td>3ByGQOVgds2YEu6kzl-XEQ</td>\n",
       "      <td>Nightlife, Bars, American (Traditional), Sport...</td>\n",
       "      <td>Phoenix</td>\n",
       "      <td>None</td>\n",
       "      <td>1</td>\n",
       "      <td>33.495298</td>\n",
       "      <td>-112.236076</td>\n",
       "      <td>Rib Shop</td>\n",
       "      <td></td>\n",
       "      <td>85033</td>\n",
       "      <td>3</td>\n",
       "      <td>2.5</td>\n",
       "      <td>AZ</td>\n",
       "    </tr>\n",
       "    <tr>\n",
       "      <th>23</th>\n",
       "      <td>746 Street Clair Avenue W</td>\n",
       "      <td>{'BikeParking': 'True', 'BusinessAcceptsCredit...</td>\n",
       "      <td>5J3b7j3Fzo9ISjChmoUoUA</td>\n",
       "      <td>Food, Bakeries, Coffee &amp; Tea</td>\n",
       "      <td>Toronto</td>\n",
       "      <td>{'Monday': '7:30-19:0', 'Tuesday': '7:30-19:0'...</td>\n",
       "      <td>1</td>\n",
       "      <td>43.681328</td>\n",
       "      <td>-79.427884</td>\n",
       "      <td>Mabel's Bakery</td>\n",
       "      <td>Wychwood</td>\n",
       "      <td>M6C 1B5</td>\n",
       "      <td>23</td>\n",
       "      <td>4.0</td>\n",
       "      <td>ON</td>\n",
       "    </tr>\n",
       "    <tr>\n",
       "      <th>24</th>\n",
       "      <td>7745 W Thomas Rd</td>\n",
       "      <td>{'BusinessAcceptsCreditCards': 'True', 'GoodFo...</td>\n",
       "      <td>CeuTRtwsq6w5rztGOyNMPg</td>\n",
       "      <td>Mexican, Restaurants</td>\n",
       "      <td>Phoenix</td>\n",
       "      <td>None</td>\n",
       "      <td>1</td>\n",
       "      <td>33.479671</td>\n",
       "      <td>-112.225173</td>\n",
       "      <td>Salsitas</td>\n",
       "      <td></td>\n",
       "      <td>85033</td>\n",
       "      <td>14</td>\n",
       "      <td>2.5</td>\n",
       "      <td>AZ</td>\n",
       "    </tr>\n",
       "    <tr>\n",
       "      <th>25</th>\n",
       "      <td>1204 Bear Ln</td>\n",
       "      <td>{'GoodForKids': 'True', 'RestaurantsGoodForGro...</td>\n",
       "      <td>gsoSAb9t7Ar7Ww6O_3GuOg</td>\n",
       "      <td>Mexican, Restaurants</td>\n",
       "      <td>Monticello</td>\n",
       "      <td>{'Tuesday': '11:0-21:0', 'Wednesday': '11:0-21...</td>\n",
       "      <td>0</td>\n",
       "      <td>40.009328</td>\n",
       "      <td>-88.576386</td>\n",
       "      <td>Los Toros Numero 2</td>\n",
       "      <td></td>\n",
       "      <td>61856</td>\n",
       "      <td>6</td>\n",
       "      <td>3.5</td>\n",
       "      <td>IL</td>\n",
       "    </tr>\n",
       "    <tr>\n",
       "      <th>26</th>\n",
       "      <td></td>\n",
       "      <td>{'BusinessAcceptsCreditCards': 'True', 'ByAppo...</td>\n",
       "      <td>guRyrKMBDkcHExGzwxSfvg</td>\n",
       "      <td>Home Services, Home Automation, Security Systems</td>\n",
       "      <td>Phoenix</td>\n",
       "      <td>{'Monday': '0:0-0:0', 'Tuesday': '0:0-0:0', 'W...</td>\n",
       "      <td>1</td>\n",
       "      <td>33.431665</td>\n",
       "      <td>-112.102959</td>\n",
       "      <td>ADT Security Services, Inc.</td>\n",
       "      <td></td>\n",
       "      <td>85001</td>\n",
       "      <td>4</td>\n",
       "      <td>1.0</td>\n",
       "      <td>AZ</td>\n",
       "    </tr>\n",
       "    <tr>\n",
       "      <th>27</th>\n",
       "      <td>99 Yorkville Avenue</td>\n",
       "      <td>{'Ambience': '{'romantic': False, 'intimate': ...</td>\n",
       "      <td>PMDlKLd0Mxj0ngCpuUmE5Q</td>\n",
       "      <td>Restaurants, Food, Canadian (New), Coffee &amp; Tea</td>\n",
       "      <td>Toronto</td>\n",
       "      <td>None</td>\n",
       "      <td>0</td>\n",
       "      <td>43.670885</td>\n",
       "      <td>-79.392379</td>\n",
       "      <td>The Coffee Mill Restaurant</td>\n",
       "      <td>Yorkville</td>\n",
       "      <td>M5R 3K5</td>\n",
       "      <td>25</td>\n",
       "      <td>3.5</td>\n",
       "      <td>ON</td>\n",
       "    </tr>\n",
       "    <tr>\n",
       "      <th>28</th>\n",
       "      <td>1-905 Britannia Road West</td>\n",
       "      <td>None</td>\n",
       "      <td>65DAbjsiws2_T600pNpWFQ</td>\n",
       "      <td>Optometrists, Shopping, Eyewear &amp; Opticians, H...</td>\n",
       "      <td>Mississauga</td>\n",
       "      <td>{'Monday': '10:0-21:0', 'Tuesday': '10:0-21:0'...</td>\n",
       "      <td>1</td>\n",
       "      <td>43.609269</td>\n",
       "      <td>-79.699035</td>\n",
       "      <td>Laurier Optical</td>\n",
       "      <td>East Credit</td>\n",
       "      <td>L5V 2X8</td>\n",
       "      <td>3</td>\n",
       "      <td>1.0</td>\n",
       "      <td>ON</td>\n",
       "    </tr>\n",
       "    <tr>\n",
       "      <th>29</th>\n",
       "      <td>9525 State Rt 14</td>\n",
       "      <td>{'BusinessAcceptsCreditCards': 'True', 'Busine...</td>\n",
       "      <td>6YC6CsXRrmPv_iwfvc9onA</td>\n",
       "      <td>Pizza, Restaurants</td>\n",
       "      <td>Streetsboro</td>\n",
       "      <td>{'Monday': '11:0-22:0', 'Tuesday': '11:0-22:0'...</td>\n",
       "      <td>1</td>\n",
       "      <td>41.243783</td>\n",
       "      <td>-81.356661</td>\n",
       "      <td>Teresas Pizzeria</td>\n",
       "      <td></td>\n",
       "      <td>44241</td>\n",
       "      <td>11</td>\n",
       "      <td>3.0</td>\n",
       "      <td>OH</td>\n",
       "    </tr>\n",
       "    <tr>\n",
       "      <th>...</th>\n",
       "      <td>...</td>\n",
       "      <td>...</td>\n",
       "      <td>...</td>\n",
       "      <td>...</td>\n",
       "      <td>...</td>\n",
       "      <td>...</td>\n",
       "      <td>...</td>\n",
       "      <td>...</td>\n",
       "      <td>...</td>\n",
       "      <td>...</td>\n",
       "      <td>...</td>\n",
       "      <td>...</td>\n",
       "      <td>...</td>\n",
       "      <td>...</td>\n",
       "      <td>...</td>\n",
       "    </tr>\n",
       "    <tr>\n",
       "      <th>188563</th>\n",
       "      <td>180 Steeles Avenue W, Unit 20A</td>\n",
       "      <td>{'GoodForKids': 'True', 'HasTV': 'True', 'Outd...</td>\n",
       "      <td>eLExQY6_KOYaayapWNp5IQ</td>\n",
       "      <td>Barbeque, Restaurants, Chinese</td>\n",
       "      <td>Vaughan</td>\n",
       "      <td>{'Monday': '11:0-22:0', 'Tuesday': '11:0-22:0'...</td>\n",
       "      <td>0</td>\n",
       "      <td>43.797454</td>\n",
       "      <td>-79.425888</td>\n",
       "      <td>NCE BBQ</td>\n",
       "      <td></td>\n",
       "      <td>L4J 2L1</td>\n",
       "      <td>13</td>\n",
       "      <td>3.5</td>\n",
       "      <td>ON</td>\n",
       "    </tr>\n",
       "    <tr>\n",
       "      <th>188564</th>\n",
       "      <td>3165 S Alma School Rd</td>\n",
       "      <td>{'BikeParking': 'False', 'BusinessAcceptsCredi...</td>\n",
       "      <td>DXTsi_ZiRSsDTj3towE2GA</td>\n",
       "      <td>Nail Salons, Beauty &amp; Spas</td>\n",
       "      <td>Chandler</td>\n",
       "      <td>None</td>\n",
       "      <td>1</td>\n",
       "      <td>33.260503</td>\n",
       "      <td>-111.856951</td>\n",
       "      <td>Chandler Nail and Sp</td>\n",
       "      <td></td>\n",
       "      <td>85248</td>\n",
       "      <td>6</td>\n",
       "      <td>2.5</td>\n",
       "      <td>AZ</td>\n",
       "    </tr>\n",
       "    <tr>\n",
       "      <th>188565</th>\n",
       "      <td>110 Cumberland St, Suite 609</td>\n",
       "      <td>{'BusinessAcceptsCreditCards': 'True'}</td>\n",
       "      <td>xMdkVHCYYSyw63hab0YTIg</td>\n",
       "      <td>Local Services, Professional Services, Carpet ...</td>\n",
       "      <td>Toronto</td>\n",
       "      <td>None</td>\n",
       "      <td>0</td>\n",
       "      <td>43.653226</td>\n",
       "      <td>-79.383184</td>\n",
       "      <td>Homejoy</td>\n",
       "      <td>Downtown Core</td>\n",
       "      <td>M5R 3V5</td>\n",
       "      <td>9</td>\n",
       "      <td>3.5</td>\n",
       "      <td>ON</td>\n",
       "    </tr>\n",
       "    <tr>\n",
       "      <th>188566</th>\n",
       "      <td>3600 Las Vegas Blvd S</td>\n",
       "      <td>{'BikeParking': 'False', 'BusinessAcceptsCredi...</td>\n",
       "      <td>m75vszskLJ1a14Ybco4IaA</td>\n",
       "      <td>Eyewear &amp; Opticians, Leather Goods, Shopping, ...</td>\n",
       "      <td>Las Vegas</td>\n",
       "      <td>{'Monday': '10:0-0:0', 'Tuesday': '10:0-0:0', ...</td>\n",
       "      <td>1</td>\n",
       "      <td>36.113956</td>\n",
       "      <td>-115.173910</td>\n",
       "      <td>Louis Vuitton Las Vegas Bellagio</td>\n",
       "      <td>The Strip</td>\n",
       "      <td>89109</td>\n",
       "      <td>51</td>\n",
       "      <td>4.0</td>\n",
       "      <td>NV</td>\n",
       "    </tr>\n",
       "    <tr>\n",
       "      <th>188567</th>\n",
       "      <td>3049 Las Vegas Blvd S</td>\n",
       "      <td>{'Ambience': '{'romantic': False, 'intimate': ...</td>\n",
       "      <td>0zGeYN8ReYwVj27U7EHOJA</td>\n",
       "      <td>Delis, Restaurants, American (Traditional)</td>\n",
       "      <td>Las Vegas</td>\n",
       "      <td>None</td>\n",
       "      <td>1</td>\n",
       "      <td>36.131516</td>\n",
       "      <td>-115.164565</td>\n",
       "      <td>American Cafe</td>\n",
       "      <td>The Strip</td>\n",
       "      <td>89109</td>\n",
       "      <td>7</td>\n",
       "      <td>2.5</td>\n",
       "      <td>NV</td>\n",
       "    </tr>\n",
       "    <tr>\n",
       "      <th>188568</th>\n",
       "      <td>3375 S Fort Apache Rd</td>\n",
       "      <td>{'BusinessAcceptsCreditCards': 'True'}</td>\n",
       "      <td>v62o0cbntlpDXYaJtO9Lmw</td>\n",
       "      <td>Self Storage, Local Services</td>\n",
       "      <td>Las Vegas</td>\n",
       "      <td>{'Monday': '9:0-17:30', 'Tuesday': '9:0-17:30'...</td>\n",
       "      <td>1</td>\n",
       "      <td>36.128235</td>\n",
       "      <td>-115.298251</td>\n",
       "      <td>Fort Apache Desert Inn Self Storage</td>\n",
       "      <td>Spring Valley</td>\n",
       "      <td>89117</td>\n",
       "      <td>18</td>\n",
       "      <td>4.5</td>\n",
       "      <td>NV</td>\n",
       "    </tr>\n",
       "    <tr>\n",
       "      <th>188569</th>\n",
       "      <td></td>\n",
       "      <td>{'BikeParking': 'False', 'BusinessAcceptsCredi...</td>\n",
       "      <td>CorrByydi35r-6SvmhYFHA</td>\n",
       "      <td>Hair Stylists, Hair Extensions, Hair Salons, B...</td>\n",
       "      <td>Las Vegas</td>\n",
       "      <td>{'Monday': '0:0-0:0', 'Tuesday': '0:0-0:0', 'W...</td>\n",
       "      <td>1</td>\n",
       "      <td>36.128561</td>\n",
       "      <td>-115.171130</td>\n",
       "      <td>Glammed Up Vegas</td>\n",
       "      <td>The Strip</td>\n",
       "      <td>89109</td>\n",
       "      <td>59</td>\n",
       "      <td>5.0</td>\n",
       "      <td>NV</td>\n",
       "    </tr>\n",
       "    <tr>\n",
       "      <th>188570</th>\n",
       "      <td>Caesars Palace Las Vegas Hotel And Casino, 357...</td>\n",
       "      <td>{'Alcohol': 'full_bar', 'Ambience': '{'romanti...</td>\n",
       "      <td>K9ukZjvXhDjQZnrrOPqKSw</td>\n",
       "      <td>Nightlife, Bars, Shopping, Tobacco Shops, Cock...</td>\n",
       "      <td>Las Vegas</td>\n",
       "      <td>{'Monday': '10:0-1:0', 'Tuesday': '10:0-1:0', ...</td>\n",
       "      <td>1</td>\n",
       "      <td>36.116775</td>\n",
       "      <td>-115.175368</td>\n",
       "      <td>Montecristo Cigar Bar</td>\n",
       "      <td>The Strip</td>\n",
       "      <td>89109</td>\n",
       "      <td>108</td>\n",
       "      <td>4.5</td>\n",
       "      <td>NV</td>\n",
       "    </tr>\n",
       "    <tr>\n",
       "      <th>188571</th>\n",
       "      <td>3199 Dufferin St</td>\n",
       "      <td>{'Alcohol': 'none', 'Ambience': '{'romantic': ...</td>\n",
       "      <td>G8mz50lT484Ak6qP2N-whQ</td>\n",
       "      <td>Chicken Wings, Fast Food, Restaurants</td>\n",
       "      <td>North York</td>\n",
       "      <td>{'Monday': '11:0-21:0', 'Tuesday': '11:0-21:0'...</td>\n",
       "      <td>1</td>\n",
       "      <td>43.718455</td>\n",
       "      <td>-79.455328</td>\n",
       "      <td>Mary Brown's Famous Chicken &amp; Tater</td>\n",
       "      <td></td>\n",
       "      <td>M6A 2T2</td>\n",
       "      <td>20</td>\n",
       "      <td>3.0</td>\n",
       "      <td>ON</td>\n",
       "    </tr>\n",
       "    <tr>\n",
       "      <th>188572</th>\n",
       "      <td>3475 S Las Vegas Blvd</td>\n",
       "      <td>{'Alcohol': 'full_bar', 'Ambience': '{'romanti...</td>\n",
       "      <td>GdGXb80QKTMRP7AdPHDnuw</td>\n",
       "      <td>Beer Bar, Cocktail Bars, Nightlife, Bars</td>\n",
       "      <td>Las Vegas</td>\n",
       "      <td>{'Monday': '10:0-2:30', 'Tuesday': '10:0-2:30'...</td>\n",
       "      <td>1</td>\n",
       "      <td>36.119650</td>\n",
       "      <td>-115.171428</td>\n",
       "      <td>Breeze Daiquiri Bar</td>\n",
       "      <td>The Strip</td>\n",
       "      <td>89109</td>\n",
       "      <td>5</td>\n",
       "      <td>4.0</td>\n",
       "      <td>NV</td>\n",
       "    </tr>\n",
       "    <tr>\n",
       "      <th>188573</th>\n",
       "      <td>3131 S Las Vegas Blvd</td>\n",
       "      <td>{'GoodForKids': 'False'}</td>\n",
       "      <td>JUygwe5d_MXCCOdk0WB30g</td>\n",
       "      <td>Performing Arts, Arts &amp; Entertainment</td>\n",
       "      <td>Las Vegas</td>\n",
       "      <td>{'Monday': '19:30-21:0', 'Tuesday': '19:30-21:...</td>\n",
       "      <td>0</td>\n",
       "      <td>36.126595</td>\n",
       "      <td>-115.165365</td>\n",
       "      <td>Steve Wynn's ShowStoppers</td>\n",
       "      <td>The Strip</td>\n",
       "      <td>89109</td>\n",
       "      <td>109</td>\n",
       "      <td>4.0</td>\n",
       "      <td>NV</td>\n",
       "    </tr>\n",
       "    <tr>\n",
       "      <th>188574</th>\n",
       "      <td>2301 Paseo Verde Pkwy</td>\n",
       "      <td>{'Ambience': '{'romantic': False, 'intimate': ...</td>\n",
       "      <td>eei5BWaI4IG4w_9CUzEl2g</td>\n",
       "      <td>Active Life, Arts &amp; Entertainment, Nightlife, ...</td>\n",
       "      <td>Henderson</td>\n",
       "      <td>{'Monday': '16:0-21:0', 'Tuesday': '16:0-21:0'...</td>\n",
       "      <td>0</td>\n",
       "      <td>36.022406</td>\n",
       "      <td>-115.091960</td>\n",
       "      <td>Winter's Village Ice Rink</td>\n",
       "      <td>Anthem</td>\n",
       "      <td>89052</td>\n",
       "      <td>28</td>\n",
       "      <td>3.5</td>\n",
       "      <td>NV</td>\n",
       "    </tr>\n",
       "    <tr>\n",
       "      <th>188575</th>\n",
       "      <td>2301 Atwood Ave</td>\n",
       "      <td>{'BikeParking': 'True', 'BusinessAcceptsCredit...</td>\n",
       "      <td>Hl0uVuDXi0IiQu0Qv3uKzg</td>\n",
       "      <td>Music &amp; DVDs, Books, Mags, Music &amp; Video, Shop...</td>\n",
       "      <td>Madison</td>\n",
       "      <td>{'Monday': '12:0-19:0', 'Tuesday': '12:0-19:0'...</td>\n",
       "      <td>1</td>\n",
       "      <td>43.093412</td>\n",
       "      <td>-89.348454</td>\n",
       "      <td>Sugar Shack Records</td>\n",
       "      <td>Schenk - Atwood</td>\n",
       "      <td>53704</td>\n",
       "      <td>6</td>\n",
       "      <td>2.5</td>\n",
       "      <td>WI</td>\n",
       "    </tr>\n",
       "    <tr>\n",
       "      <th>188576</th>\n",
       "      <td>2215 Queen Street E</td>\n",
       "      <td>{'BusinessAcceptsCreditCards': 'True', 'Busine...</td>\n",
       "      <td>UGSM0VrExwChdINXpzJ_pw</td>\n",
       "      <td>Shopping, Hardware Stores, Home &amp; Garden</td>\n",
       "      <td>Toronto</td>\n",
       "      <td>None</td>\n",
       "      <td>1</td>\n",
       "      <td>43.670761</td>\n",
       "      <td>-79.295926</td>\n",
       "      <td>Beach Hardware</td>\n",
       "      <td>The Beach</td>\n",
       "      <td>M4E 1E8</td>\n",
       "      <td>3</td>\n",
       "      <td>4.5</td>\n",
       "      <td>ON</td>\n",
       "    </tr>\n",
       "    <tr>\n",
       "      <th>188577</th>\n",
       "      <td>10895 S Eastern Ave, Ste 130</td>\n",
       "      <td>{'Alcohol': 'beer_and_wine', 'Ambience': '{'ro...</td>\n",
       "      <td>kbaXNZLUyVuWbeQxH-NNKw</td>\n",
       "      <td>American (Traditional), American (New), Restau...</td>\n",
       "      <td>Henderson</td>\n",
       "      <td>{'Monday': '11:0-21:0', 'Tuesday': '11:0-21:0'...</td>\n",
       "      <td>1</td>\n",
       "      <td>35.993777</td>\n",
       "      <td>-115.101582</td>\n",
       "      <td>Bell's BBQ</td>\n",
       "      <td>Anthem</td>\n",
       "      <td>89052</td>\n",
       "      <td>447</td>\n",
       "      <td>4.0</td>\n",
       "      <td>NV</td>\n",
       "    </tr>\n",
       "    <tr>\n",
       "      <th>188578</th>\n",
       "      <td>11125 S Eastern Ave, Ste 100, Salon Nouveau</td>\n",
       "      <td>None</td>\n",
       "      <td>Qh3zSqqgLS-qScpHidp7ag</td>\n",
       "      <td>Hair Removal, Eyebrow Services, Beauty &amp; Spas,...</td>\n",
       "      <td>Henderson</td>\n",
       "      <td>None</td>\n",
       "      <td>1</td>\n",
       "      <td>35.990302</td>\n",
       "      <td>-115.102120</td>\n",
       "      <td>Aesthetics By Deena</td>\n",
       "      <td>Anthem</td>\n",
       "      <td>89052</td>\n",
       "      <td>5</td>\n",
       "      <td>5.0</td>\n",
       "      <td>NV</td>\n",
       "    </tr>\n",
       "    <tr>\n",
       "      <th>188579</th>\n",
       "      <td>7207 E Independence Blvd</td>\n",
       "      <td>{'BusinessAcceptsCreditCards': 'True', 'ByAppo...</td>\n",
       "      <td>rOBczAlCZqgL-fA0wEidjA</td>\n",
       "      <td>Banks &amp; Credit Unions, Financial Services, Rea...</td>\n",
       "      <td>Charlotte</td>\n",
       "      <td>None</td>\n",
       "      <td>1</td>\n",
       "      <td>35.163280</td>\n",
       "      <td>-80.739262</td>\n",
       "      <td>Bank of America</td>\n",
       "      <td></td>\n",
       "      <td>28227</td>\n",
       "      <td>3</td>\n",
       "      <td>2.0</td>\n",
       "      <td>NC</td>\n",
       "    </tr>\n",
       "    <tr>\n",
       "      <th>188580</th>\n",
       "      <td>4655 Quality Ct</td>\n",
       "      <td>{'BusinessAcceptsCreditCards': 'True', 'ByAppo...</td>\n",
       "      <td>-3bL-QmK7-qBYLmQuSekBw</td>\n",
       "      <td>Kitchen &amp; Bath, Building Supplies, Home Servic...</td>\n",
       "      <td>Las Vegas</td>\n",
       "      <td>{'Monday': '8:0-17:0', 'Tuesday': '8:0-17:0', ...</td>\n",
       "      <td>1</td>\n",
       "      <td>36.105866</td>\n",
       "      <td>-115.206215</td>\n",
       "      <td>Impressions Tile &amp; Marble</td>\n",
       "      <td></td>\n",
       "      <td>89103</td>\n",
       "      <td>6</td>\n",
       "      <td>4.5</td>\n",
       "      <td>NV</td>\n",
       "    </tr>\n",
       "    <tr>\n",
       "      <th>188581</th>\n",
       "      <td>2990 Bicentennial Pkwy</td>\n",
       "      <td>None</td>\n",
       "      <td>iYfHHScIrm9UooevAt-pZA</td>\n",
       "      <td>Pet Groomers, Pets, Veterinarians, Pet Sitting...</td>\n",
       "      <td>Henderson</td>\n",
       "      <td>{'Monday': '7:0-20:0', 'Tuesday': '7:0-20:0', ...</td>\n",
       "      <td>1</td>\n",
       "      <td>35.941616</td>\n",
       "      <td>-115.118942</td>\n",
       "      <td>Inspirada Animal Hospital</td>\n",
       "      <td></td>\n",
       "      <td>89044</td>\n",
       "      <td>54</td>\n",
       "      <td>4.5</td>\n",
       "      <td>NV</td>\n",
       "    </tr>\n",
       "    <tr>\n",
       "      <th>188582</th>\n",
       "      <td>3863 S Valley View Blvd, Ste 31</td>\n",
       "      <td>{'BusinessAcceptsCreditCards': 'True'}</td>\n",
       "      <td>i3AziW_jq009bm26PLXdLA</td>\n",
       "      <td>Automotive, Body Shops, Auto Repair, Oil Chang...</td>\n",
       "      <td>Las Vegas</td>\n",
       "      <td>{'Monday': '8:0-18:0', 'Tuesday': '8:0-18:0', ...</td>\n",
       "      <td>1</td>\n",
       "      <td>36.120743</td>\n",
       "      <td>-115.192017</td>\n",
       "      <td>Vegas Auto Repair</td>\n",
       "      <td></td>\n",
       "      <td>89103</td>\n",
       "      <td>9</td>\n",
       "      <td>4.5</td>\n",
       "      <td>NV</td>\n",
       "    </tr>\n",
       "    <tr>\n",
       "      <th>188583</th>\n",
       "      <td>4322 W Flamingo Rd</td>\n",
       "      <td>{'BikeParking': 'True', 'BusinessAcceptsCredit...</td>\n",
       "      <td>FxEoO2etCPrPLFOnGwV-Ww</td>\n",
       "      <td>Beauty &amp; Spas, Nail Salons, Active Life, Gyms,...</td>\n",
       "      <td>Las Vegas</td>\n",
       "      <td>{'Monday': '10:0-18:0', 'Tuesday': '10:0-18:0'...</td>\n",
       "      <td>1</td>\n",
       "      <td>36.114304</td>\n",
       "      <td>-115.193871</td>\n",
       "      <td>Recharge Salon &amp; Fitness</td>\n",
       "      <td></td>\n",
       "      <td>89103</td>\n",
       "      <td>20</td>\n",
       "      <td>4.5</td>\n",
       "      <td>NV</td>\n",
       "    </tr>\n",
       "    <tr>\n",
       "      <th>188584</th>\n",
       "      <td>6166 W Flamingo Rd</td>\n",
       "      <td>{'BikeParking': 'True', 'BusinessAcceptsCredit...</td>\n",
       "      <td>jYU4Nd71giCWpLuj5JIxgg</td>\n",
       "      <td>Beauty &amp; Spas, Nail Salons, Hair Removal, Waxi...</td>\n",
       "      <td>Las Vegas</td>\n",
       "      <td>{'Monday': '9:30-23:0', 'Tuesday': '9:30-23:0'...</td>\n",
       "      <td>1</td>\n",
       "      <td>36.115367</td>\n",
       "      <td>-115.226848</td>\n",
       "      <td>Aloha Nails</td>\n",
       "      <td></td>\n",
       "      <td>89103</td>\n",
       "      <td>76</td>\n",
       "      <td>3.5</td>\n",
       "      <td>NV</td>\n",
       "    </tr>\n",
       "    <tr>\n",
       "      <th>188585</th>\n",
       "      <td>1402 Queen Street E, Suite D</td>\n",
       "      <td>{'BikeParking': 'True', 'BusinessParking': '{'...</td>\n",
       "      <td>Y_7sZoSLTJ-2mNZS8JS5Pg</td>\n",
       "      <td>Massage, Health &amp; Medical, Yoga, Doulas, Activ...</td>\n",
       "      <td>Toronto</td>\n",
       "      <td>{'Monday': '9:0-21:0', 'Tuesday': '9:0-21:0', ...</td>\n",
       "      <td>1</td>\n",
       "      <td>43.664756</td>\n",
       "      <td>-79.324295</td>\n",
       "      <td>Toronto Yoga Mamas</td>\n",
       "      <td>Leslieville</td>\n",
       "      <td>M4L 1C9</td>\n",
       "      <td>14</td>\n",
       "      <td>5.0</td>\n",
       "      <td>ON</td>\n",
       "    </tr>\n",
       "    <tr>\n",
       "      <th>188586</th>\n",
       "      <td></td>\n",
       "      <td>{'Caters': 'True'}</td>\n",
       "      <td>OAmRh1fSiTgtR1e0D4JsVQ</td>\n",
       "      <td>Restaurants, Indian, Caterers, Event Planning ...</td>\n",
       "      <td>Toronto</td>\n",
       "      <td>None</td>\n",
       "      <td>0</td>\n",
       "      <td>43.628947</td>\n",
       "      <td>-79.394420</td>\n",
       "      <td>Authentic Taste Of Indian Cuisine</td>\n",
       "      <td></td>\n",
       "      <td>M5V</td>\n",
       "      <td>3</td>\n",
       "      <td>3.0</td>\n",
       "      <td>ON</td>\n",
       "    </tr>\n",
       "    <tr>\n",
       "      <th>188587</th>\n",
       "      <td>4802 McKnight Rd</td>\n",
       "      <td>None</td>\n",
       "      <td>5qVlB_Qpw6oHWmtzGUview</td>\n",
       "      <td>Auto Repair, Used Car Dealers, Automotive</td>\n",
       "      <td>Pittsburgh</td>\n",
       "      <td>{'Monday': '8:0-17:0', 'Tuesday': '8:0-17:0', ...</td>\n",
       "      <td>1</td>\n",
       "      <td>40.524391</td>\n",
       "      <td>-80.004396</td>\n",
       "      <td>Jimmy's On-it Automotive</td>\n",
       "      <td></td>\n",
       "      <td>15237</td>\n",
       "      <td>4</td>\n",
       "      <td>3.0</td>\n",
       "      <td>PA</td>\n",
       "    </tr>\n",
       "    <tr>\n",
       "      <th>188588</th>\n",
       "      <td>8000 McKnight Rd, Ste 570</td>\n",
       "      <td>{'AcceptsInsurance': 'False', 'BusinessAccepts...</td>\n",
       "      <td>sMQAZ3DkfrURFoJAyOhjEw</td>\n",
       "      <td>Skin Care, Beauty &amp; Spas, Day Spas, Massage</td>\n",
       "      <td>Pittsburgh</td>\n",
       "      <td>{'Monday': '10:0-21:0', 'Tuesday': '10:0-21:0'...</td>\n",
       "      <td>0</td>\n",
       "      <td>40.551152</td>\n",
       "      <td>-80.021213</td>\n",
       "      <td>Ross Massage</td>\n",
       "      <td></td>\n",
       "      <td>15237</td>\n",
       "      <td>9</td>\n",
       "      <td>2.5</td>\n",
       "      <td>PA</td>\n",
       "    </tr>\n",
       "    <tr>\n",
       "      <th>188589</th>\n",
       "      <td>3341 Babcock Blvd</td>\n",
       "      <td>None</td>\n",
       "      <td>6hvuCibNS4uECetHb9MCQQ</td>\n",
       "      <td>Fashion, Women's Clothing, Accessories, Bridal...</td>\n",
       "      <td>Pittsburgh</td>\n",
       "      <td>None</td>\n",
       "      <td>1</td>\n",
       "      <td>40.534242</td>\n",
       "      <td>-80.019556</td>\n",
       "      <td>Four Seasons Boutique</td>\n",
       "      <td></td>\n",
       "      <td>15237</td>\n",
       "      <td>5</td>\n",
       "      <td>2.0</td>\n",
       "      <td>PA</td>\n",
       "    </tr>\n",
       "    <tr>\n",
       "      <th>188590</th>\n",
       "      <td>5825 Thunder Rd</td>\n",
       "      <td>{'BikeParking': 'True', 'BusinessAcceptsCredit...</td>\n",
       "      <td>KleCXFYOmdACcQUvf6_XEg</td>\n",
       "      <td>Mobile Phones, Shopping, Department Stores, Fo...</td>\n",
       "      <td>Concord</td>\n",
       "      <td>{'Monday': '0:0-0:0', 'Tuesday': '0:0-0:0', 'W...</td>\n",
       "      <td>1</td>\n",
       "      <td>35.378669</td>\n",
       "      <td>-80.724733</td>\n",
       "      <td>Walmart Supercenter</td>\n",
       "      <td></td>\n",
       "      <td>28027</td>\n",
       "      <td>26</td>\n",
       "      <td>3.0</td>\n",
       "      <td>NC</td>\n",
       "    </tr>\n",
       "    <tr>\n",
       "      <th>188591</th>\n",
       "      <td>7601 Scott Padgett Pkwy</td>\n",
       "      <td>{'BusinessAcceptsCreditCards': 'True', 'DogsAl...</td>\n",
       "      <td>3_fIsSxN2RBovQ_6EFtLzA</td>\n",
       "      <td>Event Planning &amp; Services, Hotels &amp; Travel, Ho...</td>\n",
       "      <td>Concord</td>\n",
       "      <td>{'Monday': '0:0-0:0', 'Tuesday': '0:0-0:0', 'W...</td>\n",
       "      <td>1</td>\n",
       "      <td>35.364366</td>\n",
       "      <td>-80.703454</td>\n",
       "      <td>Residence Inn Charlotte Concord</td>\n",
       "      <td></td>\n",
       "      <td>28027</td>\n",
       "      <td>19</td>\n",
       "      <td>4.0</td>\n",
       "      <td>NC</td>\n",
       "    </tr>\n",
       "    <tr>\n",
       "      <th>188592</th>\n",
       "      <td>3900 Paradise Rd, Ste R</td>\n",
       "      <td>{'BikeParking': 'True', 'BusinessAcceptsCredit...</td>\n",
       "      <td>NkOvIueadjFUxeCyq_uQEw</td>\n",
       "      <td>Makeup Artists, Men's Clothing, Swimwear, Shop...</td>\n",
       "      <td>Las Vegas</td>\n",
       "      <td>{'Tuesday': '11:0-19:0', 'Wednesday': '11:0-19...</td>\n",
       "      <td>1</td>\n",
       "      <td>36.118697</td>\n",
       "      <td>-115.154269</td>\n",
       "      <td>Tito Jimy Salon and Boutique</td>\n",
       "      <td>Eastside</td>\n",
       "      <td>89169</td>\n",
       "      <td>8</td>\n",
       "      <td>4.0</td>\n",
       "      <td>NV</td>\n",
       "    </tr>\n",
       "  </tbody>\n",
       "</table>\n",
       "<p>188593 rows × 15 columns</p>\n",
       "</div>"
      ],
      "text/plain": [
       "                                                  address  \\\n",
       "0                                       1314 44 Avenue NE   \n",
       "1                                                           \n",
       "2                                     1335 rue Beaubien E   \n",
       "3                                         211 W Monroe St   \n",
       "4                                     2005 Alyth Place SE   \n",
       "5                         20235 N Cave Creek Rd, Ste 1115   \n",
       "6                                          631 Bloor St W   \n",
       "7                             3417 Derry Road E, Unit 103   \n",
       "8                                      1440 N. Dysart Ave   \n",
       "9                                         209 Oakland Ave   \n",
       "10                                       4568 Highway 7 E   \n",
       "11                                     595 Markham Street   \n",
       "12                                        2801 N 15th Ave   \n",
       "13                                4216 Saint-Laurent Boul   \n",
       "14                                      4404 14 Street NW   \n",
       "15                                          1200 37 St SW   \n",
       "16                              438 Place Jacques Cartier   \n",
       "17                                        703 N Rancho Dr   \n",
       "18                                       1549 N Rancho Dr   \n",
       "19                  3940 Martin Luther King Blvd, Ste 101   \n",
       "20                                                          \n",
       "21                                      3040 Carnegie Ave   \n",
       "22                                        4131 N 83rd Ave   \n",
       "23                              746 Street Clair Avenue W   \n",
       "24                                       7745 W Thomas Rd   \n",
       "25                                           1204 Bear Ln   \n",
       "26                                                          \n",
       "27                                    99 Yorkville Avenue   \n",
       "28                              1-905 Britannia Road West   \n",
       "29                                       9525 State Rt 14   \n",
       "...                                                   ...   \n",
       "188563                     180 Steeles Avenue W, Unit 20A   \n",
       "188564                              3165 S Alma School Rd   \n",
       "188565                       110 Cumberland St, Suite 609   \n",
       "188566                              3600 Las Vegas Blvd S   \n",
       "188567                              3049 Las Vegas Blvd S   \n",
       "188568                              3375 S Fort Apache Rd   \n",
       "188569                                                      \n",
       "188570  Caesars Palace Las Vegas Hotel And Casino, 357...   \n",
       "188571                                   3199 Dufferin St   \n",
       "188572                              3475 S Las Vegas Blvd   \n",
       "188573                              3131 S Las Vegas Blvd   \n",
       "188574                              2301 Paseo Verde Pkwy   \n",
       "188575                                    2301 Atwood Ave   \n",
       "188576                                2215 Queen Street E   \n",
       "188577                       10895 S Eastern Ave, Ste 130   \n",
       "188578        11125 S Eastern Ave, Ste 100, Salon Nouveau   \n",
       "188579                           7207 E Independence Blvd   \n",
       "188580                                    4655 Quality Ct   \n",
       "188581                             2990 Bicentennial Pkwy   \n",
       "188582                    3863 S Valley View Blvd, Ste 31   \n",
       "188583                                 4322 W Flamingo Rd   \n",
       "188584                                 6166 W Flamingo Rd   \n",
       "188585                       1402 Queen Street E, Suite D   \n",
       "188586                                                      \n",
       "188587                                   4802 McKnight Rd   \n",
       "188588                          8000 McKnight Rd, Ste 570   \n",
       "188589                                  3341 Babcock Blvd   \n",
       "188590                                    5825 Thunder Rd   \n",
       "188591                            7601 Scott Padgett Pkwy   \n",
       "188592                            3900 Paradise Rd, Ste R   \n",
       "\n",
       "                                               attributes  \\\n",
       "0       {'BikeParking': 'False', 'BusinessAcceptsCredi...   \n",
       "1       {'Alcohol': 'none', 'BikeParking': 'False', 'B...   \n",
       "2       {'Alcohol': 'beer_and_wine', 'Ambience': '{'ro...   \n",
       "3                                                    None   \n",
       "4                  {'BusinessAcceptsCreditCards': 'True'}   \n",
       "5       {'BikeParking': 'True', 'BusinessAcceptsCredit...   \n",
       "6       {'BusinessParking': '{'garage': False, 'street...   \n",
       "7       {'Alcohol': 'none', 'BusinessAcceptsCreditCard...   \n",
       "8       {'Alcohol': 'none', 'Ambience': '{'romantic': ...   \n",
       "9       {'BikeParking': 'True', 'BusinessAcceptsCredit...   \n",
       "10      {'GoodForKids': 'True', 'NoiseLevel': 'loud', ...   \n",
       "11      {'Alcohol': 'full_bar', 'Ambience': '{'romanti...   \n",
       "12      {'Alcohol': 'full_bar', 'Ambience': '{'romanti...   \n",
       "13      {'Alcohol': 'full_bar', 'Ambience': '{'romanti...   \n",
       "14      {'BusinessParking': '{'garage': False, 'street...   \n",
       "15      {'BusinessAcceptsCreditCards': 'True', 'Busine...   \n",
       "16      {'Alcohol': 'full_bar', 'BikeParking': 'True',...   \n",
       "17      {'BusinessAcceptsCreditCards': 'True', 'Busine...   \n",
       "18                                                   None   \n",
       "19      {'BikeParking': 'True', 'BusinessAcceptsCredit...   \n",
       "20                 {'BusinessAcceptsCreditCards': 'True'}   \n",
       "21                                                   None   \n",
       "22      {'Ambience': '{'romantic': False, 'intimate': ...   \n",
       "23      {'BikeParking': 'True', 'BusinessAcceptsCredit...   \n",
       "24      {'BusinessAcceptsCreditCards': 'True', 'GoodFo...   \n",
       "25      {'GoodForKids': 'True', 'RestaurantsGoodForGro...   \n",
       "26      {'BusinessAcceptsCreditCards': 'True', 'ByAppo...   \n",
       "27      {'Ambience': '{'romantic': False, 'intimate': ...   \n",
       "28                                                   None   \n",
       "29      {'BusinessAcceptsCreditCards': 'True', 'Busine...   \n",
       "...                                                   ...   \n",
       "188563  {'GoodForKids': 'True', 'HasTV': 'True', 'Outd...   \n",
       "188564  {'BikeParking': 'False', 'BusinessAcceptsCredi...   \n",
       "188565             {'BusinessAcceptsCreditCards': 'True'}   \n",
       "188566  {'BikeParking': 'False', 'BusinessAcceptsCredi...   \n",
       "188567  {'Ambience': '{'romantic': False, 'intimate': ...   \n",
       "188568             {'BusinessAcceptsCreditCards': 'True'}   \n",
       "188569  {'BikeParking': 'False', 'BusinessAcceptsCredi...   \n",
       "188570  {'Alcohol': 'full_bar', 'Ambience': '{'romanti...   \n",
       "188571  {'Alcohol': 'none', 'Ambience': '{'romantic': ...   \n",
       "188572  {'Alcohol': 'full_bar', 'Ambience': '{'romanti...   \n",
       "188573                           {'GoodForKids': 'False'}   \n",
       "188574  {'Ambience': '{'romantic': False, 'intimate': ...   \n",
       "188575  {'BikeParking': 'True', 'BusinessAcceptsCredit...   \n",
       "188576  {'BusinessAcceptsCreditCards': 'True', 'Busine...   \n",
       "188577  {'Alcohol': 'beer_and_wine', 'Ambience': '{'ro...   \n",
       "188578                                               None   \n",
       "188579  {'BusinessAcceptsCreditCards': 'True', 'ByAppo...   \n",
       "188580  {'BusinessAcceptsCreditCards': 'True', 'ByAppo...   \n",
       "188581                                               None   \n",
       "188582             {'BusinessAcceptsCreditCards': 'True'}   \n",
       "188583  {'BikeParking': 'True', 'BusinessAcceptsCredit...   \n",
       "188584  {'BikeParking': 'True', 'BusinessAcceptsCredit...   \n",
       "188585  {'BikeParking': 'True', 'BusinessParking': '{'...   \n",
       "188586                                 {'Caters': 'True'}   \n",
       "188587                                               None   \n",
       "188588  {'AcceptsInsurance': 'False', 'BusinessAccepts...   \n",
       "188589                                               None   \n",
       "188590  {'BikeParking': 'True', 'BusinessAcceptsCredit...   \n",
       "188591  {'BusinessAcceptsCreditCards': 'True', 'DogsAl...   \n",
       "188592  {'BikeParking': 'True', 'BusinessAcceptsCredit...   \n",
       "\n",
       "                   business_id  \\\n",
       "0       Apn5Q_b6Nz61Tq4XzPdf9A   \n",
       "1       AjEbIBw6ZFfln7ePHha9PA   \n",
       "2       O8S5hYJ1SMc8fA4QBtVujA   \n",
       "3       bFzdJJ3wp3PZssNEsyU23g   \n",
       "4       8USyCYqpScwiNEb58Bt6CA   \n",
       "5       45bWSZtniwPRiqlivpS8Og   \n",
       "6       9A2quhZLyWk0akUetBd8hQ   \n",
       "7       6OuOZAok8ikONMS_T3EzXg   \n",
       "8       8-NRKkPY1UiFXW20WXKiXg   \n",
       "9       UTm5QZThPQlT35mkAcGOjg   \n",
       "10      KapTdGyGs7RK0c68Z6hhhg   \n",
       "11      tZnSodhPwNr4bzrwJ1CSbw   \n",
       "12      _c3ixq9jYKxhLUB0czi0ug   \n",
       "13      bBUMib8l6Me1ZB1_Qkezkg   \n",
       "14      o_zDURWzgt5yM5HW_xGJsg   \n",
       "15      IbTDLI02Sq50C7B-EWK1sg   \n",
       "16      r89Re4FNgVWHgBfjCVZyVw   \n",
       "17      hTzcHtk4-0QJnFUbkKpd5Q   \n",
       "18      UwIpS9UKsPiKAv1fiEYhqg   \n",
       "19      vJIuDBdu01vCA8y1fwR1OQ   \n",
       "20      YZCHr68c5aEVHz0bkq9K2g   \n",
       "21      gJ5xSt6147gkcZ9Es0WxlA   \n",
       "22      3ByGQOVgds2YEu6kzl-XEQ   \n",
       "23      5J3b7j3Fzo9ISjChmoUoUA   \n",
       "24      CeuTRtwsq6w5rztGOyNMPg   \n",
       "25      gsoSAb9t7Ar7Ww6O_3GuOg   \n",
       "26      guRyrKMBDkcHExGzwxSfvg   \n",
       "27      PMDlKLd0Mxj0ngCpuUmE5Q   \n",
       "28      65DAbjsiws2_T600pNpWFQ   \n",
       "29      6YC6CsXRrmPv_iwfvc9onA   \n",
       "...                        ...   \n",
       "188563  eLExQY6_KOYaayapWNp5IQ   \n",
       "188564  DXTsi_ZiRSsDTj3towE2GA   \n",
       "188565  xMdkVHCYYSyw63hab0YTIg   \n",
       "188566  m75vszskLJ1a14Ybco4IaA   \n",
       "188567  0zGeYN8ReYwVj27U7EHOJA   \n",
       "188568  v62o0cbntlpDXYaJtO9Lmw   \n",
       "188569  CorrByydi35r-6SvmhYFHA   \n",
       "188570  K9ukZjvXhDjQZnrrOPqKSw   \n",
       "188571  G8mz50lT484Ak6qP2N-whQ   \n",
       "188572  GdGXb80QKTMRP7AdPHDnuw   \n",
       "188573  JUygwe5d_MXCCOdk0WB30g   \n",
       "188574  eei5BWaI4IG4w_9CUzEl2g   \n",
       "188575  Hl0uVuDXi0IiQu0Qv3uKzg   \n",
       "188576  UGSM0VrExwChdINXpzJ_pw   \n",
       "188577  kbaXNZLUyVuWbeQxH-NNKw   \n",
       "188578  Qh3zSqqgLS-qScpHidp7ag   \n",
       "188579  rOBczAlCZqgL-fA0wEidjA   \n",
       "188580  -3bL-QmK7-qBYLmQuSekBw   \n",
       "188581  iYfHHScIrm9UooevAt-pZA   \n",
       "188582  i3AziW_jq009bm26PLXdLA   \n",
       "188583  FxEoO2etCPrPLFOnGwV-Ww   \n",
       "188584  jYU4Nd71giCWpLuj5JIxgg   \n",
       "188585  Y_7sZoSLTJ-2mNZS8JS5Pg   \n",
       "188586  OAmRh1fSiTgtR1e0D4JsVQ   \n",
       "188587  5qVlB_Qpw6oHWmtzGUview   \n",
       "188588  sMQAZ3DkfrURFoJAyOhjEw   \n",
       "188589  6hvuCibNS4uECetHb9MCQQ   \n",
       "188590  KleCXFYOmdACcQUvf6_XEg   \n",
       "188591  3_fIsSxN2RBovQ_6EFtLzA   \n",
       "188592  NkOvIueadjFUxeCyq_uQEw   \n",
       "\n",
       "                                               categories         city  \\\n",
       "0       Tours, Breweries, Pizza, Restaurants, Food, Ho...      Calgary   \n",
       "1       Chicken Wings, Burgers, Caterers, Street Vendo...    Henderson   \n",
       "2       Breakfast & Brunch, Restaurants, French, Sandw...     Montréal   \n",
       "3                           Insurance, Financial Services      Phoenix   \n",
       "4       Home & Garden, Nurseries & Gardening, Shopping...      Calgary   \n",
       "5                                      Coffee & Tea, Food      Phoenix   \n",
       "6                                          Food, Bakeries      Toronto   \n",
       "7                                       Restaurants, Thai  Mississauga   \n",
       "8                                    Mexican, Restaurants     Avondale   \n",
       "9                   Flowers & Gifts, Gift Shops, Shopping   Pittsburgh   \n",
       "10                                  Restaurants, Japanese      Markham   \n",
       "11                    Cajun/Creole, Southern, Restaurants      Toronto   \n",
       "12      Bars, Sports Bars, Dive Bars, Burgers, Nightli...      Phoenix   \n",
       "13         Restaurants, Pakistani, Indian, Middle Eastern     Montréal   \n",
       "14                                 Beauty & Spas, Barbers      Calgary   \n",
       "15                         Delis, Restaurants, Sandwiches      Calgary   \n",
       "16      Nightlife, Bars, American (Traditional), Tapas...     Montréal   \n",
       "17                   Shopping, Fashion, Department Stores    Las Vegas   \n",
       "18      Financial Services, Check Cashing/Pay-day Loan...    Las Vegas   \n",
       "19      American (Traditional), Food, Bakeries, Restau...    Las Vegas   \n",
       "20      Home Services, Masonry/Concrete, Professional ...    Las Vegas   \n",
       "21                        Fast Food, Burgers, Restaurants    Cleveland   \n",
       "22      Nightlife, Bars, American (Traditional), Sport...      Phoenix   \n",
       "23                           Food, Bakeries, Coffee & Tea      Toronto   \n",
       "24                                   Mexican, Restaurants      Phoenix   \n",
       "25                                   Mexican, Restaurants   Monticello   \n",
       "26       Home Services, Home Automation, Security Systems      Phoenix   \n",
       "27        Restaurants, Food, Canadian (New), Coffee & Tea      Toronto   \n",
       "28      Optometrists, Shopping, Eyewear & Opticians, H...  Mississauga   \n",
       "29                                     Pizza, Restaurants  Streetsboro   \n",
       "...                                                   ...          ...   \n",
       "188563                     Barbeque, Restaurants, Chinese      Vaughan   \n",
       "188564                         Nail Salons, Beauty & Spas     Chandler   \n",
       "188565  Local Services, Professional Services, Carpet ...      Toronto   \n",
       "188566  Eyewear & Opticians, Leather Goods, Shopping, ...    Las Vegas   \n",
       "188567         Delis, Restaurants, American (Traditional)    Las Vegas   \n",
       "188568                       Self Storage, Local Services    Las Vegas   \n",
       "188569  Hair Stylists, Hair Extensions, Hair Salons, B...    Las Vegas   \n",
       "188570  Nightlife, Bars, Shopping, Tobacco Shops, Cock...    Las Vegas   \n",
       "188571              Chicken Wings, Fast Food, Restaurants   North York   \n",
       "188572           Beer Bar, Cocktail Bars, Nightlife, Bars    Las Vegas   \n",
       "188573              Performing Arts, Arts & Entertainment    Las Vegas   \n",
       "188574  Active Life, Arts & Entertainment, Nightlife, ...    Henderson   \n",
       "188575  Music & DVDs, Books, Mags, Music & Video, Shop...      Madison   \n",
       "188576           Shopping, Hardware Stores, Home & Garden      Toronto   \n",
       "188577  American (Traditional), American (New), Restau...    Henderson   \n",
       "188578  Hair Removal, Eyebrow Services, Beauty & Spas,...    Henderson   \n",
       "188579  Banks & Credit Unions, Financial Services, Rea...    Charlotte   \n",
       "188580  Kitchen & Bath, Building Supplies, Home Servic...    Las Vegas   \n",
       "188581  Pet Groomers, Pets, Veterinarians, Pet Sitting...    Henderson   \n",
       "188582  Automotive, Body Shops, Auto Repair, Oil Chang...    Las Vegas   \n",
       "188583  Beauty & Spas, Nail Salons, Active Life, Gyms,...    Las Vegas   \n",
       "188584  Beauty & Spas, Nail Salons, Hair Removal, Waxi...    Las Vegas   \n",
       "188585  Massage, Health & Medical, Yoga, Doulas, Activ...      Toronto   \n",
       "188586  Restaurants, Indian, Caterers, Event Planning ...      Toronto   \n",
       "188587          Auto Repair, Used Car Dealers, Automotive   Pittsburgh   \n",
       "188588        Skin Care, Beauty & Spas, Day Spas, Massage   Pittsburgh   \n",
       "188589  Fashion, Women's Clothing, Accessories, Bridal...   Pittsburgh   \n",
       "188590  Mobile Phones, Shopping, Department Stores, Fo...      Concord   \n",
       "188591  Event Planning & Services, Hotels & Travel, Ho...      Concord   \n",
       "188592  Makeup Artists, Men's Clothing, Swimwear, Shop...    Las Vegas   \n",
       "\n",
       "                                                    hours  is_open   latitude  \\\n",
       "0       {'Monday': '8:30-17:0', 'Tuesday': '11:0-21:0'...        1  51.091813   \n",
       "1       {'Friday': '17:0-23:0', 'Saturday': '17:0-23:0...        0  35.960734   \n",
       "2       {'Monday': '10:0-22:0', 'Tuesday': '10:0-22:0'...        0  45.540503   \n",
       "3                                                    None        1  33.449999   \n",
       "4       {'Monday': '8:0-17:0', 'Tuesday': '8:0-17:0', ...        1  51.035591   \n",
       "5       {'Monday': '5:30-20:0', 'Tuesday': '5:30-20:0'...        1  33.671375   \n",
       "6                                                    None        0  43.664378   \n",
       "7                                                    None        1  43.712946   \n",
       "8       {'Monday': '0:0-0:0', 'Tuesday': '0:0-0:0', 'W...        1  33.448106   \n",
       "9       {'Monday': '9:0-18:0', 'Tuesday': '9:0-18:0', ...        1  40.441421   \n",
       "10      {'Monday': '11:30-23:0', 'Tuesday': '11:30-23:...        0  43.862484   \n",
       "11      {'Tuesday': '17:0-1:0', 'Wednesday': '17:0-1:0...        0  43.664125   \n",
       "12      {'Monday': '11:0-22:0', 'Tuesday': '11:0-22:0'...        1  33.479807   \n",
       "13                                                   None        1  45.518036   \n",
       "14      {'Monday': '9:30-18:0', 'Tuesday': '9:30-18:0'...        1  51.091857   \n",
       "15                                                   None        1  51.042469   \n",
       "16      {'Monday': '11:30-23:0', 'Tuesday': '11:30-23:...        0  45.507699   \n",
       "17                                                   None        1  36.178348   \n",
       "18      {'Monday': '10:0-19:0', 'Tuesday': '10:0-18:0'...        1  36.188386   \n",
       "19      {'Tuesday': '11:0-18:0', 'Wednesday': '11:0-18...        0  36.192284   \n",
       "20                                                   None        1  36.260816   \n",
       "21                                                   None        1  41.499989   \n",
       "22                                                   None        1  33.495298   \n",
       "23      {'Monday': '7:30-19:0', 'Tuesday': '7:30-19:0'...        1  43.681328   \n",
       "24                                                   None        1  33.479671   \n",
       "25      {'Tuesday': '11:0-21:0', 'Wednesday': '11:0-21...        0  40.009328   \n",
       "26      {'Monday': '0:0-0:0', 'Tuesday': '0:0-0:0', 'W...        1  33.431665   \n",
       "27                                                   None        0  43.670885   \n",
       "28      {'Monday': '10:0-21:0', 'Tuesday': '10:0-21:0'...        1  43.609269   \n",
       "29      {'Monday': '11:0-22:0', 'Tuesday': '11:0-22:0'...        1  41.243783   \n",
       "...                                                   ...      ...        ...   \n",
       "188563  {'Monday': '11:0-22:0', 'Tuesday': '11:0-22:0'...        0  43.797454   \n",
       "188564                                               None        1  33.260503   \n",
       "188565                                               None        0  43.653226   \n",
       "188566  {'Monday': '10:0-0:0', 'Tuesday': '10:0-0:0', ...        1  36.113956   \n",
       "188567                                               None        1  36.131516   \n",
       "188568  {'Monday': '9:0-17:30', 'Tuesday': '9:0-17:30'...        1  36.128235   \n",
       "188569  {'Monday': '0:0-0:0', 'Tuesday': '0:0-0:0', 'W...        1  36.128561   \n",
       "188570  {'Monday': '10:0-1:0', 'Tuesday': '10:0-1:0', ...        1  36.116775   \n",
       "188571  {'Monday': '11:0-21:0', 'Tuesday': '11:0-21:0'...        1  43.718455   \n",
       "188572  {'Monday': '10:0-2:30', 'Tuesday': '10:0-2:30'...        1  36.119650   \n",
       "188573  {'Monday': '19:30-21:0', 'Tuesday': '19:30-21:...        0  36.126595   \n",
       "188574  {'Monday': '16:0-21:0', 'Tuesday': '16:0-21:0'...        0  36.022406   \n",
       "188575  {'Monday': '12:0-19:0', 'Tuesday': '12:0-19:0'...        1  43.093412   \n",
       "188576                                               None        1  43.670761   \n",
       "188577  {'Monday': '11:0-21:0', 'Tuesday': '11:0-21:0'...        1  35.993777   \n",
       "188578                                               None        1  35.990302   \n",
       "188579                                               None        1  35.163280   \n",
       "188580  {'Monday': '8:0-17:0', 'Tuesday': '8:0-17:0', ...        1  36.105866   \n",
       "188581  {'Monday': '7:0-20:0', 'Tuesday': '7:0-20:0', ...        1  35.941616   \n",
       "188582  {'Monday': '8:0-18:0', 'Tuesday': '8:0-18:0', ...        1  36.120743   \n",
       "188583  {'Monday': '10:0-18:0', 'Tuesday': '10:0-18:0'...        1  36.114304   \n",
       "188584  {'Monday': '9:30-23:0', 'Tuesday': '9:30-23:0'...        1  36.115367   \n",
       "188585  {'Monday': '9:0-21:0', 'Tuesday': '9:0-21:0', ...        1  43.664756   \n",
       "188586                                               None        0  43.628947   \n",
       "188587  {'Monday': '8:0-17:0', 'Tuesday': '8:0-17:0', ...        1  40.524391   \n",
       "188588  {'Monday': '10:0-21:0', 'Tuesday': '10:0-21:0'...        0  40.551152   \n",
       "188589                                               None        1  40.534242   \n",
       "188590  {'Monday': '0:0-0:0', 'Tuesday': '0:0-0:0', 'W...        1  35.378669   \n",
       "188591  {'Monday': '0:0-0:0', 'Tuesday': '0:0-0:0', 'W...        1  35.364366   \n",
       "188592  {'Tuesday': '11:0-19:0', 'Wednesday': '11:0-19...        1  36.118697   \n",
       "\n",
       "         longitude                                 name  \\\n",
       "0      -114.031675                 Minhas Micro Brewery   \n",
       "1      -114.939821                  CK'S BBQ & Catering   \n",
       "2       -73.599300                        La Bastringue   \n",
       "3      -112.076979                      Geico Insurance   \n",
       "4      -114.027366                        Action Engine   \n",
       "5      -112.030017           The Coffee Bean & Tea Leaf   \n",
       "6       -79.414424                       Bnc Cake House   \n",
       "7       -79.632763                          Thai One On   \n",
       "8      -112.341302             Filiberto's Mexican Food   \n",
       "9       -79.956457              Maggie & Stella's Gifts   \n",
       "10      -79.306960                              Sushi 8   \n",
       "11      -79.411886           Southern Accent Restaurant   \n",
       "12     -112.091188             Original Hamburger Works   \n",
       "13      -73.582174                Mysore Indian Cuisine   \n",
       "14     -114.094625              North Haven Barber Shop   \n",
       "15     -114.139574                  Safeway Food & Drug   \n",
       "16      -73.553407                               Harlow   \n",
       "17     -115.176916                          Citi Trends   \n",
       "18     -115.186124        Nevada Title And Payday Loans   \n",
       "19     -115.159272                           CakesbyToi   \n",
       "20     -115.171130                    Park Stone Pavers   \n",
       "21      -81.666375                   Rally's Hamburgers   \n",
       "22     -112.236076                             Rib Shop   \n",
       "23      -79.427884                       Mabel's Bakery   \n",
       "24     -112.225173                             Salsitas   \n",
       "25      -88.576386                   Los Toros Numero 2   \n",
       "26     -112.102959          ADT Security Services, Inc.   \n",
       "27      -79.392379           The Coffee Mill Restaurant   \n",
       "28      -79.699035                      Laurier Optical   \n",
       "29      -81.356661                     Teresas Pizzeria   \n",
       "...            ...                                  ...   \n",
       "188563  -79.425888                              NCE BBQ   \n",
       "188564 -111.856951                 Chandler Nail and Sp   \n",
       "188565  -79.383184                              Homejoy   \n",
       "188566 -115.173910     Louis Vuitton Las Vegas Bellagio   \n",
       "188567 -115.164565                        American Cafe   \n",
       "188568 -115.298251  Fort Apache Desert Inn Self Storage   \n",
       "188569 -115.171130                     Glammed Up Vegas   \n",
       "188570 -115.175368                Montecristo Cigar Bar   \n",
       "188571  -79.455328  Mary Brown's Famous Chicken & Tater   \n",
       "188572 -115.171428                  Breeze Daiquiri Bar   \n",
       "188573 -115.165365            Steve Wynn's ShowStoppers   \n",
       "188574 -115.091960            Winter's Village Ice Rink   \n",
       "188575  -89.348454                  Sugar Shack Records   \n",
       "188576  -79.295926                       Beach Hardware   \n",
       "188577 -115.101582                           Bell's BBQ   \n",
       "188578 -115.102120                  Aesthetics By Deena   \n",
       "188579  -80.739262                      Bank of America   \n",
       "188580 -115.206215            Impressions Tile & Marble   \n",
       "188581 -115.118942            Inspirada Animal Hospital   \n",
       "188582 -115.192017                    Vegas Auto Repair   \n",
       "188583 -115.193871             Recharge Salon & Fitness   \n",
       "188584 -115.226848                          Aloha Nails   \n",
       "188585  -79.324295                   Toronto Yoga Mamas   \n",
       "188586  -79.394420    Authentic Taste Of Indian Cuisine   \n",
       "188587  -80.004396             Jimmy's On-it Automotive   \n",
       "188588  -80.021213                         Ross Massage   \n",
       "188589  -80.019556                Four Seasons Boutique   \n",
       "188590  -80.724733                  Walmart Supercenter   \n",
       "188591  -80.703454      Residence Inn Charlotte Concord   \n",
       "188592 -115.154269         Tito Jimy Salon and Boutique   \n",
       "\n",
       "                     neighborhood postal_code  review_count  stars state  \n",
       "0                                     T2E 6L6            24    4.0    AB  \n",
       "1                                       89002             3    4.5    NV  \n",
       "2       Rosemont-La Petite-Patrie     H2G 1K7             5    4.0    QC  \n",
       "3                                       85003             8    1.5    AZ  \n",
       "4                                     T2H 0N5             4    2.0    AB  \n",
       "5                                       85024            63    4.0    AZ  \n",
       "6                       Koreatown     M6G 1K8             7    4.0    ON  \n",
       "7                       Ridgewood     L4T 1A8             7    2.0    ON  \n",
       "8                                       85323            40    2.5    AZ  \n",
       "9                         Oakland       15213             3    3.5    PA  \n",
       "10                     Unionville     L3R 1M5            12    1.5    ON  \n",
       "11                     Palmerston     M6G 2L7           146    4.0    ON  \n",
       "12                                      85007           277    4.0    AZ  \n",
       "13             Plateau-Mont-Royal     H2W 1Z3            19    3.5    QC  \n",
       "14                                        T2K             3    4.5    AB  \n",
       "15                                    T3C 1S2             4    2.5    AB  \n",
       "16                    Ville-Marie     H2Y 3B3            12    3.5    QC  \n",
       "17                                      89106             4    4.0    NV  \n",
       "18                                      89106             4    1.0    NV  \n",
       "19                                      89106             3    1.5    NV  \n",
       "20                                      89031            20    5.0    NV  \n",
       "21                        Central       44115             5    3.0    OH  \n",
       "22                                      85033             3    2.5    AZ  \n",
       "23                       Wychwood     M6C 1B5            23    4.0    ON  \n",
       "24                                      85033            14    2.5    AZ  \n",
       "25                                      61856             6    3.5    IL  \n",
       "26                                      85001             4    1.0    AZ  \n",
       "27                      Yorkville     M5R 3K5            25    3.5    ON  \n",
       "28                    East Credit     L5V 2X8             3    1.0    ON  \n",
       "29                                      44241            11    3.0    OH  \n",
       "...                           ...         ...           ...    ...   ...  \n",
       "188563                                L4J 2L1            13    3.5    ON  \n",
       "188564                                  85248             6    2.5    AZ  \n",
       "188565              Downtown Core     M5R 3V5             9    3.5    ON  \n",
       "188566                  The Strip       89109            51    4.0    NV  \n",
       "188567                  The Strip       89109             7    2.5    NV  \n",
       "188568              Spring Valley       89117            18    4.5    NV  \n",
       "188569                  The Strip       89109            59    5.0    NV  \n",
       "188570                  The Strip       89109           108    4.5    NV  \n",
       "188571                                M6A 2T2            20    3.0    ON  \n",
       "188572                  The Strip       89109             5    4.0    NV  \n",
       "188573                  The Strip       89109           109    4.0    NV  \n",
       "188574                     Anthem       89052            28    3.5    NV  \n",
       "188575            Schenk - Atwood       53704             6    2.5    WI  \n",
       "188576                  The Beach     M4E 1E8             3    4.5    ON  \n",
       "188577                     Anthem       89052           447    4.0    NV  \n",
       "188578                     Anthem       89052             5    5.0    NV  \n",
       "188579                                  28227             3    2.0    NC  \n",
       "188580                                  89103             6    4.5    NV  \n",
       "188581                                  89044            54    4.5    NV  \n",
       "188582                                  89103             9    4.5    NV  \n",
       "188583                                  89103            20    4.5    NV  \n",
       "188584                                  89103            76    3.5    NV  \n",
       "188585                Leslieville     M4L 1C9            14    5.0    ON  \n",
       "188586                                    M5V             3    3.0    ON  \n",
       "188587                                  15237             4    3.0    PA  \n",
       "188588                                  15237             9    2.5    PA  \n",
       "188589                                  15237             5    2.0    PA  \n",
       "188590                                  28027            26    3.0    NC  \n",
       "188591                                  28027            19    4.0    NC  \n",
       "188592                   Eastside       89169             8    4.0    NV  \n",
       "\n",
       "[188593 rows x 15 columns]"
      ]
     },
     "execution_count": 3,
     "metadata": {},
     "output_type": "execute_result"
    }
   ],
   "source": [
    "res"
   ]
  },
  {
   "cell_type": "code",
   "execution_count": 4,
   "metadata": {},
   "outputs": [],
   "source": [
    "del res['address']\n",
    "del res['city']\n",
    "del res['neighborhood']\n",
    "del res['postal_code']\n",
    "del res['state']"
   ]
  },
  {
   "cell_type": "code",
   "execution_count": 5,
   "metadata": {},
   "outputs": [],
   "source": [
    "# Drops restaurants with null category, we can't tell if its a restaurant\n",
    "res = res[~res['categories'].isnull()]\n",
    "\n",
    "# Drops non restaurants\n",
    "res = res[res['categories'].str.contains('Restaurants')]"
   ]
  },
  {
   "cell_type": "code",
   "execution_count": 6,
   "metadata": {},
   "outputs": [],
   "source": [
    "# Finds all unique restaurant categories\n",
    "categories = {}\n",
    "\n",
    "for index, row in res.iterrows():\n",
    "    for category in row['categories'].split(', '):\n",
    "        if categories.get(category) == None:\n",
    "            categories[category] = 1\n",
    "        else: \n",
    "            categories[category] += 1"
   ]
  },
  {
   "cell_type": "code",
   "execution_count": 7,
   "metadata": {
    "scrolled": true
   },
   "outputs": [],
   "source": [
    "sortedCat = sorted(categories.items(), key=operator.itemgetter(1), reverse=True)"
   ]
  },
  {
   "cell_type": "code",
   "execution_count": 9,
   "metadata": {},
   "outputs": [
    {
     "name": "stderr",
     "output_type": "stream",
     "text": [
      "100%|██████████| 57173/57173 [00:01<00:00, 36371.63it/s]\n",
      " 10%|█         | 5870/57173 [00:00<00:01, 26231.86it/s]"
     ]
    },
    {
     "name": "stdout",
     "output_type": "stream",
     "text": [
      "0\n"
     ]
    },
    {
     "name": "stderr",
     "output_type": "stream",
     "text": [
      "100%|██████████| 57173/57173 [00:01<00:00, 36562.15it/s]\n",
      "  4%|▍         | 2469/57173 [00:00<00:02, 24685.49it/s]"
     ]
    },
    {
     "name": "stdout",
     "output_type": "stream",
     "text": [
      "1\n"
     ]
    },
    {
     "name": "stderr",
     "output_type": "stream",
     "text": [
      "100%|██████████| 57173/57173 [00:01<00:00, 37341.73it/s]\n",
      "  4%|▍         | 2395/57173 [00:00<00:02, 23945.00it/s]"
     ]
    },
    {
     "name": "stdout",
     "output_type": "stream",
     "text": [
      "2\n"
     ]
    },
    {
     "name": "stderr",
     "output_type": "stream",
     "text": [
      "100%|██████████| 57173/57173 [00:01<00:00, 37276.03it/s]\n",
      " 10%|█         | 5725/57173 [00:00<00:02, 24162.23it/s]"
     ]
    },
    {
     "name": "stdout",
     "output_type": "stream",
     "text": [
      "3\n"
     ]
    },
    {
     "name": "stderr",
     "output_type": "stream",
     "text": [
      "100%|██████████| 57173/57173 [00:01<00:00, 36117.78it/s]\n",
      " 10%|█         | 5937/57173 [00:00<00:02, 24668.88it/s]"
     ]
    },
    {
     "name": "stdout",
     "output_type": "stream",
     "text": [
      "4\n"
     ]
    },
    {
     "name": "stderr",
     "output_type": "stream",
     "text": [
      "100%|██████████| 57173/57173 [00:01<00:00, 37083.71it/s]\n",
      "  4%|▍         | 2195/57173 [00:00<00:02, 21948.03it/s]"
     ]
    },
    {
     "name": "stdout",
     "output_type": "stream",
     "text": [
      "5\n"
     ]
    },
    {
     "name": "stderr",
     "output_type": "stream",
     "text": [
      "100%|██████████| 57173/57173 [00:01<00:00, 37334.62it/s]\n",
      "  4%|▎         | 2128/57173 [00:00<00:02, 21277.84it/s]"
     ]
    },
    {
     "name": "stdout",
     "output_type": "stream",
     "text": [
      "6\n"
     ]
    },
    {
     "name": "stderr",
     "output_type": "stream",
     "text": [
      "100%|██████████| 57173/57173 [00:01<00:00, 36915.24it/s]\n",
      "  4%|▎         | 2006/57173 [00:00<00:02, 20057.77it/s]"
     ]
    },
    {
     "name": "stdout",
     "output_type": "stream",
     "text": [
      "7\n"
     ]
    },
    {
     "name": "stderr",
     "output_type": "stream",
     "text": [
      "100%|██████████| 57173/57173 [00:01<00:00, 36770.41it/s]\n",
      "  3%|▎         | 1950/57173 [00:00<00:02, 19496.81it/s]"
     ]
    },
    {
     "name": "stdout",
     "output_type": "stream",
     "text": [
      "8\n"
     ]
    },
    {
     "name": "stderr",
     "output_type": "stream",
     "text": [
      "100%|██████████| 57173/57173 [00:01<00:00, 36963.19it/s]\n",
      "  3%|▎         | 1690/57173 [00:00<00:03, 16896.11it/s]"
     ]
    },
    {
     "name": "stdout",
     "output_type": "stream",
     "text": [
      "9\n"
     ]
    },
    {
     "name": "stderr",
     "output_type": "stream",
     "text": [
      "100%|██████████| 57173/57173 [00:01<00:00, 36318.79it/s]\n",
      " 10%|▉         | 5525/57173 [00:00<00:02, 20708.95it/s]"
     ]
    },
    {
     "name": "stdout",
     "output_type": "stream",
     "text": [
      "10\n"
     ]
    },
    {
     "name": "stderr",
     "output_type": "stream",
     "text": [
      "100%|██████████| 57173/57173 [00:01<00:00, 36760.16it/s]\n",
      "  9%|▉         | 5416/57173 [00:00<00:02, 19779.12it/s]"
     ]
    },
    {
     "name": "stdout",
     "output_type": "stream",
     "text": [
      "11\n"
     ]
    },
    {
     "name": "stderr",
     "output_type": "stream",
     "text": [
      "100%|██████████| 57173/57173 [00:01<00:00, 36606.89it/s]\n",
      "  3%|▎         | 1581/57173 [00:00<00:03, 15807.60it/s]"
     ]
    },
    {
     "name": "stdout",
     "output_type": "stream",
     "text": [
      "12\n"
     ]
    },
    {
     "name": "stderr",
     "output_type": "stream",
     "text": [
      "100%|██████████| 57173/57173 [00:01<00:00, 36557.18it/s]\n",
      "  3%|▎         | 1458/57173 [00:00<00:03, 14578.38it/s]"
     ]
    },
    {
     "name": "stdout",
     "output_type": "stream",
     "text": [
      "13\n"
     ]
    },
    {
     "name": "stderr",
     "output_type": "stream",
     "text": [
      "100%|██████████| 57173/57173 [00:01<00:00, 36148.06it/s]\n",
      "  9%|▉         | 5246/57173 [00:00<00:02, 17798.86it/s]"
     ]
    },
    {
     "name": "stdout",
     "output_type": "stream",
     "text": [
      "14\n"
     ]
    },
    {
     "name": "stderr",
     "output_type": "stream",
     "text": [
      "100%|██████████| 57173/57173 [00:01<00:00, 36268.36it/s]\n",
      "  3%|▎         | 1430/57173 [00:00<00:03, 14297.32it/s]"
     ]
    },
    {
     "name": "stdout",
     "output_type": "stream",
     "text": [
      "15\n"
     ]
    },
    {
     "name": "stderr",
     "output_type": "stream",
     "text": [
      "100%|██████████| 57173/57173 [00:01<00:00, 36354.05it/s]\n",
      "  2%|▏         | 1234/57173 [00:00<00:04, 12339.75it/s]"
     ]
    },
    {
     "name": "stdout",
     "output_type": "stream",
     "text": [
      "16\n"
     ]
    },
    {
     "name": "stderr",
     "output_type": "stream",
     "text": [
      "100%|██████████| 57173/57173 [00:01<00:00, 34536.69it/s]\n",
      "  9%|▊         | 4951/57173 [00:00<00:03, 14690.12it/s]"
     ]
    },
    {
     "name": "stdout",
     "output_type": "stream",
     "text": [
      "17\n"
     ]
    },
    {
     "name": "stderr",
     "output_type": "stream",
     "text": [
      "100%|██████████| 57173/57173 [00:01<00:00, 36175.76it/s]\n",
      "  2%|▏         | 1191/57173 [00:00<00:04, 11909.13it/s]"
     ]
    },
    {
     "name": "stdout",
     "output_type": "stream",
     "text": [
      "18\n"
     ]
    },
    {
     "name": "stderr",
     "output_type": "stream",
     "text": [
      "100%|██████████| 57173/57173 [00:01<00:00, 35901.95it/s]\n",
      "  2%|▏         | 1188/57173 [00:00<00:04, 11877.07it/s]"
     ]
    },
    {
     "name": "stdout",
     "output_type": "stream",
     "text": [
      "19\n"
     ]
    },
    {
     "name": "stderr",
     "output_type": "stream",
     "text": [
      "100%|██████████| 57173/57173 [00:01<00:00, 36014.11it/s]\n",
      "  2%|▏         | 1094/57173 [00:00<00:05, 10938.03it/s]"
     ]
    },
    {
     "name": "stdout",
     "output_type": "stream",
     "text": [
      "20\n"
     ]
    },
    {
     "name": "stderr",
     "output_type": "stream",
     "text": [
      "100%|██████████| 57173/57173 [00:01<00:00, 35877.31it/s]\n",
      "  2%|▏         | 989/57173 [00:00<00:05, 9888.83it/s]"
     ]
    },
    {
     "name": "stdout",
     "output_type": "stream",
     "text": [
      "21\n"
     ]
    },
    {
     "name": "stderr",
     "output_type": "stream",
     "text": [
      "100%|██████████| 57173/57173 [00:01<00:00, 30568.26it/s]\n",
      "  7%|▋         | 4250/57173 [00:00<00:05, 8895.13it/s]"
     ]
    },
    {
     "name": "stdout",
     "output_type": "stream",
     "text": [
      "22\n"
     ]
    },
    {
     "name": "stderr",
     "output_type": "stream",
     "text": [
      "100%|██████████| 57173/57173 [00:01<00:00, 34205.57it/s]\n",
      "  1%|          | 678/57173 [00:00<00:08, 6779.46it/s]"
     ]
    },
    {
     "name": "stdout",
     "output_type": "stream",
     "text": [
      "23\n"
     ]
    },
    {
     "name": "stderr",
     "output_type": "stream",
     "text": [
      "100%|██████████| 57173/57173 [00:01<00:00, 35215.11it/s]\n",
      "  1%|▏         | 780/57173 [00:00<00:07, 7799.86it/s]"
     ]
    },
    {
     "name": "stdout",
     "output_type": "stream",
     "text": [
      "24\n"
     ]
    },
    {
     "name": "stderr",
     "output_type": "stream",
     "text": [
      "100%|██████████| 57173/57173 [00:01<00:00, 35878.14it/s]\n",
      "  8%|▊         | 4388/57173 [00:00<00:05, 8994.14it/s]"
     ]
    },
    {
     "name": "stdout",
     "output_type": "stream",
     "text": [
      "25\n"
     ]
    },
    {
     "name": "stderr",
     "output_type": "stream",
     "text": [
      "100%|██████████| 57173/57173 [00:01<00:00, 35862.75it/s]\n",
      "  1%|          | 516/57173 [00:00<00:10, 5158.75it/s]"
     ]
    },
    {
     "name": "stdout",
     "output_type": "stream",
     "text": [
      "26\n"
     ]
    },
    {
     "name": "stderr",
     "output_type": "stream",
     "text": [
      "100%|██████████| 57173/57173 [00:01<00:00, 35730.02it/s]\n",
      "  1%|          | 590/57173 [00:00<00:09, 5898.75it/s]"
     ]
    },
    {
     "name": "stdout",
     "output_type": "stream",
     "text": [
      "27\n"
     ]
    },
    {
     "name": "stderr",
     "output_type": "stream",
     "text": [
      "100%|██████████| 57173/57173 [00:01<00:00, 35748.34it/s]\n",
      "  1%|          | 520/57173 [00:00<00:10, 5199.53it/s]"
     ]
    },
    {
     "name": "stdout",
     "output_type": "stream",
     "text": [
      "28\n"
     ]
    },
    {
     "name": "stderr",
     "output_type": "stream",
     "text": [
      "100%|██████████| 57173/57173 [00:01<00:00, 35339.47it/s]\n",
      "  7%|▋         | 4130/57173 [00:00<00:08, 6145.87it/s]"
     ]
    },
    {
     "name": "stdout",
     "output_type": "stream",
     "text": [
      "29\n"
     ]
    },
    {
     "name": "stderr",
     "output_type": "stream",
     "text": [
      "100%|██████████| 57173/57173 [00:01<00:00, 34929.27it/s]\n",
      "  1%|          | 369/57173 [00:00<00:15, 3689.67it/s]"
     ]
    },
    {
     "name": "stdout",
     "output_type": "stream",
     "text": [
      "30\n"
     ]
    },
    {
     "name": "stderr",
     "output_type": "stream",
     "text": [
      "100%|██████████| 57173/57173 [00:01<00:00, 35633.22it/s]\n",
      "  1%|          | 323/57173 [00:00<00:17, 3229.33it/s]"
     ]
    },
    {
     "name": "stdout",
     "output_type": "stream",
     "text": [
      "31\n"
     ]
    },
    {
     "name": "stderr",
     "output_type": "stream",
     "text": [
      "100%|██████████| 57173/57173 [00:01<00:00, 35777.16it/s]\n",
      "  0%|          | 279/57173 [00:00<00:20, 2789.38it/s]"
     ]
    },
    {
     "name": "stdout",
     "output_type": "stream",
     "text": [
      "32\n"
     ]
    },
    {
     "name": "stderr",
     "output_type": "stream",
     "text": [
      "100%|██████████| 57173/57173 [00:01<00:00, 35654.04it/s]\n",
      "  0%|          | 234/57173 [00:00<00:24, 2339.95it/s]"
     ]
    },
    {
     "name": "stdout",
     "output_type": "stream",
     "text": [
      "33\n"
     ]
    },
    {
     "name": "stderr",
     "output_type": "stream",
     "text": [
      "100%|██████████| 57173/57173 [00:01<00:00, 35507.14it/s]\n",
      "  7%|▋         | 3856/57173 [00:00<00:40, 1328.55it/s]"
     ]
    },
    {
     "name": "stdout",
     "output_type": "stream",
     "text": [
      "34\n"
     ]
    },
    {
     "name": "stderr",
     "output_type": "stream",
     "text": [
      "100%|██████████| 57173/57173 [00:01<00:00, 35025.50it/s]\n",
      "  7%|▋         | 3802/57173 [00:00<00:44, 1202.39it/s]"
     ]
    },
    {
     "name": "stdout",
     "output_type": "stream",
     "text": [
      "35\n"
     ]
    },
    {
     "name": "stderr",
     "output_type": "stream",
     "text": [
      "100%|██████████| 57173/57173 [00:01<00:00, 35454.05it/s]\n",
      "  0%|          | 1/57173 [00:00<1:35:38,  9.96it/s]"
     ]
    },
    {
     "name": "stdout",
     "output_type": "stream",
     "text": [
      "36\n"
     ]
    },
    {
     "name": "stderr",
     "output_type": "stream",
     "text": [
      "100%|██████████| 57173/57173 [00:01<00:00, 35048.49it/s]\n",
      "  0%|          | 1/57173 [00:00<1:36:37,  9.86it/s]"
     ]
    },
    {
     "name": "stdout",
     "output_type": "stream",
     "text": [
      "37\n"
     ]
    },
    {
     "name": "stderr",
     "output_type": "stream",
     "text": [
      "100%|██████████| 57173/57173 [00:01<00:00, 35327.43it/s]\n",
      "  0%|          | 1/57173 [00:00<1:38:57,  9.63it/s]"
     ]
    },
    {
     "name": "stdout",
     "output_type": "stream",
     "text": [
      "38\n"
     ]
    },
    {
     "name": "stderr",
     "output_type": "stream",
     "text": [
      "100%|██████████| 57173/57173 [00:01<00:00, 35413.19it/s]\n",
      "  0%|          | 1/57173 [00:00<1:40:37,  9.47it/s]"
     ]
    },
    {
     "name": "stdout",
     "output_type": "stream",
     "text": [
      "39\n"
     ]
    },
    {
     "name": "stderr",
     "output_type": "stream",
     "text": [
      "100%|██████████| 57173/57173 [00:01<00:00, 34834.82it/s]\n",
      "  0%|          | 1/57173 [00:00<1:47:33,  8.86it/s]"
     ]
    },
    {
     "name": "stdout",
     "output_type": "stream",
     "text": [
      "40\n"
     ]
    },
    {
     "name": "stderr",
     "output_type": "stream",
     "text": [
      "100%|██████████| 57173/57173 [00:01<00:00, 34573.78it/s]\n",
      "  0%|          | 1/57173 [00:00<1:45:13,  9.06it/s]"
     ]
    },
    {
     "name": "stdout",
     "output_type": "stream",
     "text": [
      "41\n"
     ]
    },
    {
     "name": "stderr",
     "output_type": "stream",
     "text": [
      "100%|██████████| 57173/57173 [00:01<00:00, 35153.32it/s]\n",
      "  0%|          | 1/57173 [00:00<1:47:32,  8.86it/s]"
     ]
    },
    {
     "name": "stdout",
     "output_type": "stream",
     "text": [
      "42\n"
     ]
    },
    {
     "name": "stderr",
     "output_type": "stream",
     "text": [
      "100%|██████████| 57173/57173 [00:01<00:00, 35040.07it/s]\n",
      "  0%|          | 1/57173 [00:00<1:48:51,  8.75it/s]"
     ]
    },
    {
     "name": "stdout",
     "output_type": "stream",
     "text": [
      "43\n"
     ]
    },
    {
     "name": "stderr",
     "output_type": "stream",
     "text": [
      "100%|██████████| 57173/57173 [00:01<00:00, 34916.56it/s]\n",
      "  0%|          | 1/57173 [00:00<1:50:35,  8.62it/s]"
     ]
    },
    {
     "name": "stdout",
     "output_type": "stream",
     "text": [
      "44\n"
     ]
    },
    {
     "name": "stderr",
     "output_type": "stream",
     "text": [
      "100%|██████████| 57173/57173 [00:01<00:00, 35193.52it/s]\n",
      "  0%|          | 1/57173 [00:00<1:50:21,  8.63it/s]"
     ]
    },
    {
     "name": "stdout",
     "output_type": "stream",
     "text": [
      "45\n"
     ]
    },
    {
     "name": "stderr",
     "output_type": "stream",
     "text": [
      "100%|██████████| 57173/57173 [00:01<00:00, 35098.96it/s]\n",
      "  0%|          | 1/57173 [00:00<1:54:30,  8.32it/s]"
     ]
    },
    {
     "name": "stdout",
     "output_type": "stream",
     "text": [
      "46\n"
     ]
    },
    {
     "name": "stderr",
     "output_type": "stream",
     "text": [
      "100%|██████████| 57173/57173 [00:01<00:00, 34574.44it/s]\n",
      "  0%|          | 1/57173 [00:00<1:54:27,  8.33it/s]"
     ]
    },
    {
     "name": "stdout",
     "output_type": "stream",
     "text": [
      "47\n"
     ]
    },
    {
     "name": "stderr",
     "output_type": "stream",
     "text": [
      "100%|██████████| 57173/57173 [00:01<00:00, 35022.35it/s]\n",
      "  0%|          | 1/57173 [00:00<1:56:01,  8.21it/s]"
     ]
    },
    {
     "name": "stdout",
     "output_type": "stream",
     "text": [
      "48\n"
     ]
    },
    {
     "name": "stderr",
     "output_type": "stream",
     "text": [
      "100%|██████████| 57173/57173 [00:01<00:00, 35205.56it/s]\n",
      "  0%|          | 1/57173 [00:00<1:58:24,  8.05it/s]"
     ]
    },
    {
     "name": "stdout",
     "output_type": "stream",
     "text": [
      "49\n"
     ]
    },
    {
     "name": "stderr",
     "output_type": "stream",
     "text": [
      "100%|██████████| 57173/57173 [00:01<00:00, 34776.32it/s]\n",
      "  0%|          | 1/57173 [00:00<2:00:11,  7.93it/s]"
     ]
    },
    {
     "name": "stdout",
     "output_type": "stream",
     "text": [
      "50\n"
     ]
    },
    {
     "name": "stderr",
     "output_type": "stream",
     "text": [
      "100%|██████████| 57173/57173 [00:01<00:00, 34926.84it/s]\n",
      "  0%|          | 1/57173 [00:00<2:03:05,  7.74it/s]"
     ]
    },
    {
     "name": "stdout",
     "output_type": "stream",
     "text": [
      "51\n"
     ]
    },
    {
     "name": "stderr",
     "output_type": "stream",
     "text": [
      "100%|██████████| 57173/57173 [00:01<00:00, 34957.64it/s]\n",
      "  0%|          | 1/57173 [00:00<2:03:04,  7.74it/s]"
     ]
    },
    {
     "name": "stdout",
     "output_type": "stream",
     "text": [
      "52\n"
     ]
    },
    {
     "name": "stderr",
     "output_type": "stream",
     "text": [
      "100%|██████████| 57173/57173 [00:01<00:00, 34571.29it/s]\n",
      "  0%|          | 1/57173 [00:00<2:05:26,  7.60it/s]"
     ]
    },
    {
     "name": "stdout",
     "output_type": "stream",
     "text": [
      "53\n"
     ]
    },
    {
     "name": "stderr",
     "output_type": "stream",
     "text": [
      "100%|██████████| 57173/57173 [00:01<00:00, 34852.01it/s]\n",
      "  0%|          | 1/57173 [00:00<2:13:05,  7.16it/s]"
     ]
    },
    {
     "name": "stdout",
     "output_type": "stream",
     "text": [
      "54\n"
     ]
    },
    {
     "name": "stderr",
     "output_type": "stream",
     "text": [
      "100%|██████████| 57173/57173 [00:01<00:00, 34717.13it/s]\n",
      "  0%|          | 1/57173 [00:00<2:08:15,  7.43it/s]"
     ]
    },
    {
     "name": "stdout",
     "output_type": "stream",
     "text": [
      "55\n"
     ]
    },
    {
     "name": "stderr",
     "output_type": "stream",
     "text": [
      "100%|██████████| 57173/57173 [00:01<00:00, 34467.17it/s]\n",
      "  0%|          | 1/57173 [00:00<2:12:47,  7.18it/s]"
     ]
    },
    {
     "name": "stdout",
     "output_type": "stream",
     "text": [
      "56\n"
     ]
    },
    {
     "name": "stderr",
     "output_type": "stream",
     "text": [
      "100%|██████████| 57173/57173 [00:01<00:00, 34752.80it/s]\n",
      "  0%|          | 1/57173 [00:00<2:19:50,  6.81it/s]"
     ]
    },
    {
     "name": "stdout",
     "output_type": "stream",
     "text": [
      "57\n"
     ]
    },
    {
     "name": "stderr",
     "output_type": "stream",
     "text": [
      "100%|██████████| 57173/57173 [00:01<00:00, 33934.57it/s]\n",
      "  0%|          | 1/57173 [00:00<2:16:43,  6.97it/s]"
     ]
    },
    {
     "name": "stdout",
     "output_type": "stream",
     "text": [
      "58\n"
     ]
    },
    {
     "name": "stderr",
     "output_type": "stream",
     "text": [
      "100%|██████████| 57173/57173 [00:01<00:00, 34163.85it/s]\n",
      "  0%|          | 1/57173 [00:00<2:20:55,  6.76it/s]"
     ]
    },
    {
     "name": "stdout",
     "output_type": "stream",
     "text": [
      "59\n"
     ]
    },
    {
     "name": "stderr",
     "output_type": "stream",
     "text": [
      "100%|██████████| 57173/57173 [00:01<00:00, 34226.37it/s]\n",
      "  0%|          | 1/57173 [00:00<2:17:52,  6.91it/s]"
     ]
    },
    {
     "name": "stdout",
     "output_type": "stream",
     "text": [
      "60\n"
     ]
    },
    {
     "name": "stderr",
     "output_type": "stream",
     "text": [
      "100%|██████████| 57173/57173 [00:01<00:00, 34286.24it/s]\n",
      "  0%|          | 1/57173 [00:00<2:19:13,  6.84it/s]"
     ]
    },
    {
     "name": "stdout",
     "output_type": "stream",
     "text": [
      "61\n"
     ]
    },
    {
     "name": "stderr",
     "output_type": "stream",
     "text": [
      "100%|██████████| 57173/57173 [00:01<00:00, 33965.59it/s]\n",
      "  0%|          | 1/57173 [00:00<2:25:36,  6.54it/s]"
     ]
    },
    {
     "name": "stdout",
     "output_type": "stream",
     "text": [
      "62\n"
     ]
    },
    {
     "name": "stderr",
     "output_type": "stream",
     "text": [
      "100%|██████████| 57173/57173 [00:01<00:00, 34173.70it/s]\n",
      "  0%|          | 1/57173 [00:00<2:26:22,  6.51it/s]"
     ]
    },
    {
     "name": "stdout",
     "output_type": "stream",
     "text": [
      "63\n"
     ]
    },
    {
     "name": "stderr",
     "output_type": "stream",
     "text": [
      "100%|██████████| 57173/57173 [00:01<00:00, 34021.97it/s]\n",
      "  0%|          | 1/57173 [00:00<2:27:07,  6.48it/s]"
     ]
    },
    {
     "name": "stdout",
     "output_type": "stream",
     "text": [
      "64\n"
     ]
    },
    {
     "name": "stderr",
     "output_type": "stream",
     "text": [
      "100%|██████████| 57173/57173 [00:01<00:00, 33687.42it/s]\n",
      "  0%|          | 1/57173 [00:00<2:29:03,  6.39it/s]"
     ]
    },
    {
     "name": "stdout",
     "output_type": "stream",
     "text": [
      "65\n"
     ]
    },
    {
     "name": "stderr",
     "output_type": "stream",
     "text": [
      "100%|██████████| 57173/57173 [00:01<00:00, 34084.54it/s]\n",
      "  0%|          | 1/57173 [00:00<2:31:57,  6.27it/s]"
     ]
    },
    {
     "name": "stdout",
     "output_type": "stream",
     "text": [
      "66\n"
     ]
    },
    {
     "name": "stderr",
     "output_type": "stream",
     "text": [
      "100%|██████████| 57173/57173 [00:01<00:00, 33960.35it/s]\n",
      "  0%|          | 1/57173 [00:00<2:29:56,  6.36it/s]"
     ]
    },
    {
     "name": "stdout",
     "output_type": "stream",
     "text": [
      "67\n"
     ]
    },
    {
     "name": "stderr",
     "output_type": "stream",
     "text": [
      "100%|██████████| 57173/57173 [00:01<00:00, 33981.42it/s]\n",
      "  0%|          | 1/57173 [00:00<2:31:17,  6.30it/s]"
     ]
    },
    {
     "name": "stdout",
     "output_type": "stream",
     "text": [
      "68\n"
     ]
    },
    {
     "name": "stderr",
     "output_type": "stream",
     "text": [
      "100%|██████████| 57173/57173 [00:01<00:00, 34009.78it/s]\n",
      "  0%|          | 1/57173 [00:00<2:34:34,  6.16it/s]"
     ]
    },
    {
     "name": "stdout",
     "output_type": "stream",
     "text": [
      "69\n"
     ]
    },
    {
     "name": "stderr",
     "output_type": "stream",
     "text": [
      "100%|██████████| 57173/57173 [00:01<00:00, 34126.26it/s]\n",
      "  0%|          | 1/57173 [00:00<2:37:08,  6.06it/s]"
     ]
    },
    {
     "name": "stdout",
     "output_type": "stream",
     "text": [
      "70\n"
     ]
    },
    {
     "name": "stderr",
     "output_type": "stream",
     "text": [
      "100%|██████████| 57173/57173 [00:01<00:00, 33460.83it/s]\n",
      "  0%|          | 1/57173 [00:00<2:41:52,  5.89it/s]"
     ]
    },
    {
     "name": "stdout",
     "output_type": "stream",
     "text": [
      "71\n"
     ]
    },
    {
     "name": "stderr",
     "output_type": "stream",
     "text": [
      "100%|██████████| 57173/57173 [00:01<00:00, 33276.66it/s]\n",
      "  0%|          | 1/57173 [00:00<2:49:02,  5.64it/s]"
     ]
    },
    {
     "name": "stdout",
     "output_type": "stream",
     "text": [
      "72\n"
     ]
    },
    {
     "name": "stderr",
     "output_type": "stream",
     "text": [
      "100%|██████████| 57173/57173 [00:01<00:00, 32614.88it/s]\n",
      "  0%|          | 1/57173 [00:00<2:51:46,  5.55it/s]"
     ]
    },
    {
     "name": "stdout",
     "output_type": "stream",
     "text": [
      "73\n"
     ]
    },
    {
     "name": "stderr",
     "output_type": "stream",
     "text": [
      "100%|██████████| 57173/57173 [00:01<00:00, 33565.12it/s]\n",
      "  0%|          | 1/57173 [00:00<2:45:14,  5.77it/s]"
     ]
    },
    {
     "name": "stdout",
     "output_type": "stream",
     "text": [
      "74\n"
     ]
    },
    {
     "name": "stderr",
     "output_type": "stream",
     "text": [
      "100%|██████████| 57173/57173 [00:01<00:00, 32998.86it/s]\n",
      "  0%|          | 1/57173 [00:00<2:52:44,  5.52it/s]"
     ]
    },
    {
     "name": "stdout",
     "output_type": "stream",
     "text": [
      "75\n"
     ]
    },
    {
     "name": "stderr",
     "output_type": "stream",
     "text": [
      "100%|██████████| 57173/57173 [00:01<00:00, 32906.05it/s]\n",
      "  0%|          | 1/57173 [00:00<2:48:16,  5.66it/s]"
     ]
    },
    {
     "name": "stdout",
     "output_type": "stream",
     "text": [
      "76\n"
     ]
    },
    {
     "name": "stderr",
     "output_type": "stream",
     "text": [
      "100%|██████████| 57173/57173 [00:01<00:00, 33473.55it/s]\n",
      "  0%|          | 1/57173 [00:00<2:50:38,  5.58it/s]"
     ]
    },
    {
     "name": "stdout",
     "output_type": "stream",
     "text": [
      "77\n"
     ]
    },
    {
     "name": "stderr",
     "output_type": "stream",
     "text": [
      "100%|██████████| 57173/57173 [00:01<00:00, 33581.16it/s]\n",
      "  0%|          | 1/57173 [00:00<2:52:16,  5.53it/s]"
     ]
    },
    {
     "name": "stdout",
     "output_type": "stream",
     "text": [
      "78\n"
     ]
    },
    {
     "name": "stderr",
     "output_type": "stream",
     "text": [
      "100%|██████████| 57173/57173 [00:01<00:00, 31733.02it/s]\n",
      "  0%|          | 0/57173 [00:00<?, ?it/s]"
     ]
    },
    {
     "name": "stdout",
     "output_type": "stream",
     "text": [
      "79\n"
     ]
    },
    {
     "name": "stderr",
     "output_type": "stream",
     "text": [
      "100%|██████████| 57173/57173 [00:01<00:00, 30512.74it/s]\n",
      "  0%|          | 1/57173 [00:00<2:58:16,  5.34it/s]"
     ]
    },
    {
     "name": "stdout",
     "output_type": "stream",
     "text": [
      "80\n"
     ]
    },
    {
     "name": "stderr",
     "output_type": "stream",
     "text": [
      "100%|██████████| 57173/57173 [00:01<00:00, 31630.79it/s]\n",
      "  0%|          | 0/57173 [00:00<?, ?it/s]"
     ]
    },
    {
     "name": "stdout",
     "output_type": "stream",
     "text": [
      "81\n"
     ]
    },
    {
     "name": "stderr",
     "output_type": "stream",
     "text": [
      "100%|██████████| 57173/57173 [00:01<00:00, 30259.25it/s]\n",
      "  0%|          | 0/57173 [00:00<?, ?it/s]"
     ]
    },
    {
     "name": "stdout",
     "output_type": "stream",
     "text": [
      "82\n"
     ]
    },
    {
     "name": "stderr",
     "output_type": "stream",
     "text": [
      "100%|██████████| 57173/57173 [00:01<00:00, 32090.02it/s]\n",
      "  0%|          | 1/57173 [00:00<3:00:13,  5.29it/s]"
     ]
    },
    {
     "name": "stdout",
     "output_type": "stream",
     "text": [
      "83\n"
     ]
    },
    {
     "name": "stderr",
     "output_type": "stream",
     "text": [
      "100%|██████████| 57173/57173 [00:01<00:00, 33195.80it/s]\n",
      "  0%|          | 1/57173 [00:00<3:04:10,  5.17it/s]"
     ]
    },
    {
     "name": "stdout",
     "output_type": "stream",
     "text": [
      "84\n"
     ]
    },
    {
     "name": "stderr",
     "output_type": "stream",
     "text": [
      "100%|██████████| 57173/57173 [00:01<00:00, 32954.32it/s]\n",
      "  0%|          | 1/57173 [00:00<3:11:39,  4.97it/s]"
     ]
    },
    {
     "name": "stdout",
     "output_type": "stream",
     "text": [
      "85\n"
     ]
    },
    {
     "name": "stderr",
     "output_type": "stream",
     "text": [
      "100%|██████████| 57173/57173 [00:01<00:00, 32994.28it/s]\n",
      "  0%|          | 1/57173 [00:00<3:09:27,  5.03it/s]"
     ]
    },
    {
     "name": "stdout",
     "output_type": "stream",
     "text": [
      "86\n"
     ]
    },
    {
     "name": "stderr",
     "output_type": "stream",
     "text": [
      "100%|██████████| 57173/57173 [00:01<00:00, 33056.04it/s]\n",
      "  0%|          | 1/57173 [00:00<3:07:05,  5.09it/s]"
     ]
    },
    {
     "name": "stdout",
     "output_type": "stream",
     "text": [
      "87\n"
     ]
    },
    {
     "name": "stderr",
     "output_type": "stream",
     "text": [
      "100%|██████████| 57173/57173 [00:01<00:00, 32940.24it/s]\n",
      "  0%|          | 0/57173 [00:00<?, ?it/s]"
     ]
    },
    {
     "name": "stdout",
     "output_type": "stream",
     "text": [
      "88\n"
     ]
    },
    {
     "name": "stderr",
     "output_type": "stream",
     "text": [
      "100%|██████████| 57173/57173 [00:01<00:00, 32839.48it/s]\n",
      "  0%|          | 0/57173 [00:00<?, ?it/s]"
     ]
    },
    {
     "name": "stdout",
     "output_type": "stream",
     "text": [
      "89\n"
     ]
    },
    {
     "name": "stderr",
     "output_type": "stream",
     "text": [
      "100%|██████████| 57173/57173 [00:01<00:00, 32800.91it/s]\n",
      "  0%|          | 0/57173 [00:00<?, ?it/s]"
     ]
    },
    {
     "name": "stdout",
     "output_type": "stream",
     "text": [
      "90\n"
     ]
    },
    {
     "name": "stderr",
     "output_type": "stream",
     "text": [
      "100%|██████████| 57173/57173 [00:01<00:00, 32669.56it/s]\n",
      "  0%|          | 0/57173 [00:00<?, ?it/s]"
     ]
    },
    {
     "name": "stdout",
     "output_type": "stream",
     "text": [
      "91\n"
     ]
    },
    {
     "name": "stderr",
     "output_type": "stream",
     "text": [
      "100%|██████████| 57173/57173 [00:01<00:00, 32766.70it/s]\n",
      "  0%|          | 0/57173 [00:00<?, ?it/s]"
     ]
    },
    {
     "name": "stdout",
     "output_type": "stream",
     "text": [
      "92\n"
     ]
    },
    {
     "name": "stderr",
     "output_type": "stream",
     "text": [
      "100%|██████████| 57173/57173 [00:01<00:00, 32864.24it/s]\n",
      "  0%|          | 0/57173 [00:00<?, ?it/s]"
     ]
    },
    {
     "name": "stdout",
     "output_type": "stream",
     "text": [
      "93\n"
     ]
    },
    {
     "name": "stderr",
     "output_type": "stream",
     "text": [
      "100%|██████████| 57173/57173 [00:01<00:00, 32376.20it/s]\n",
      "  0%|          | 0/57173 [00:00<?, ?it/s]"
     ]
    },
    {
     "name": "stdout",
     "output_type": "stream",
     "text": [
      "94\n"
     ]
    },
    {
     "name": "stderr",
     "output_type": "stream",
     "text": [
      "100%|██████████| 57173/57173 [00:01<00:00, 32638.24it/s]\n",
      "  0%|          | 0/57173 [00:00<?, ?it/s]"
     ]
    },
    {
     "name": "stdout",
     "output_type": "stream",
     "text": [
      "95\n"
     ]
    },
    {
     "name": "stderr",
     "output_type": "stream",
     "text": [
      "100%|██████████| 57173/57173 [00:01<00:00, 32441.45it/s]\n",
      "  0%|          | 0/57173 [00:00<?, ?it/s]"
     ]
    },
    {
     "name": "stdout",
     "output_type": "stream",
     "text": [
      "96\n"
     ]
    },
    {
     "name": "stderr",
     "output_type": "stream",
     "text": [
      "100%|██████████| 57173/57173 [00:01<00:00, 32053.41it/s]\n",
      "  0%|          | 0/57173 [00:00<?, ?it/s]"
     ]
    },
    {
     "name": "stdout",
     "output_type": "stream",
     "text": [
      "97\n"
     ]
    },
    {
     "name": "stderr",
     "output_type": "stream",
     "text": [
      "100%|██████████| 57173/57173 [00:01<00:00, 32565.72it/s]\n",
      "  0%|          | 0/57173 [00:00<?, ?it/s]"
     ]
    },
    {
     "name": "stdout",
     "output_type": "stream",
     "text": [
      "98\n"
     ]
    },
    {
     "name": "stderr",
     "output_type": "stream",
     "text": [
      "100%|██████████| 57173/57173 [00:01<00:00, 32453.27it/s]\n",
      "  0%|          | 0/57173 [00:00<?, ?it/s]"
     ]
    },
    {
     "name": "stdout",
     "output_type": "stream",
     "text": [
      "99\n"
     ]
    },
    {
     "name": "stderr",
     "output_type": "stream",
     "text": [
      "100%|██████████| 57173/57173 [00:01<00:00, 31767.08it/s]\n",
      "  0%|          | 0/57173 [00:00<?, ?it/s]"
     ]
    },
    {
     "name": "stdout",
     "output_type": "stream",
     "text": [
      "100\n"
     ]
    },
    {
     "name": "stderr",
     "output_type": "stream",
     "text": [
      "100%|██████████| 57173/57173 [00:01<00:00, 32254.03it/s]\n",
      "  0%|          | 0/57173 [00:00<?, ?it/s]"
     ]
    },
    {
     "name": "stdout",
     "output_type": "stream",
     "text": [
      "101\n"
     ]
    },
    {
     "name": "stderr",
     "output_type": "stream",
     "text": [
      "100%|██████████| 57173/57173 [00:01<00:00, 31978.03it/s]\n",
      "  0%|          | 0/57173 [00:00<?, ?it/s]"
     ]
    },
    {
     "name": "stdout",
     "output_type": "stream",
     "text": [
      "102\n"
     ]
    },
    {
     "name": "stderr",
     "output_type": "stream",
     "text": [
      "100%|██████████| 57173/57173 [00:01<00:00, 31652.63it/s]\n",
      "  0%|          | 0/57173 [00:00<?, ?it/s]"
     ]
    },
    {
     "name": "stdout",
     "output_type": "stream",
     "text": [
      "103\n"
     ]
    },
    {
     "name": "stderr",
     "output_type": "stream",
     "text": [
      "100%|██████████| 57173/57173 [00:01<00:00, 31808.66it/s]\n",
      "  0%|          | 0/57173 [00:00<?, ?it/s]"
     ]
    },
    {
     "name": "stdout",
     "output_type": "stream",
     "text": [
      "104\n"
     ]
    },
    {
     "name": "stderr",
     "output_type": "stream",
     "text": [
      "100%|██████████| 57173/57173 [00:01<00:00, 32211.16it/s]\n",
      "  0%|          | 0/57173 [00:00<?, ?it/s]"
     ]
    },
    {
     "name": "stdout",
     "output_type": "stream",
     "text": [
      "105\n"
     ]
    },
    {
     "name": "stderr",
     "output_type": "stream",
     "text": [
      "100%|██████████| 57173/57173 [00:01<00:00, 32098.44it/s]\n",
      "  0%|          | 0/57173 [00:00<?, ?it/s]"
     ]
    },
    {
     "name": "stdout",
     "output_type": "stream",
     "text": [
      "106\n"
     ]
    },
    {
     "name": "stderr",
     "output_type": "stream",
     "text": [
      "100%|██████████| 57173/57173 [00:01<00:00, 31621.34it/s]\n",
      "  0%|          | 0/57173 [00:00<?, ?it/s]"
     ]
    },
    {
     "name": "stdout",
     "output_type": "stream",
     "text": [
      "107\n"
     ]
    },
    {
     "name": "stderr",
     "output_type": "stream",
     "text": [
      "100%|██████████| 57173/57173 [00:01<00:00, 32160.91it/s]\n",
      "  0%|          | 0/57173 [00:00<?, ?it/s]"
     ]
    },
    {
     "name": "stdout",
     "output_type": "stream",
     "text": [
      "108\n"
     ]
    },
    {
     "name": "stderr",
     "output_type": "stream",
     "text": [
      "100%|██████████| 57173/57173 [00:01<00:00, 32002.68it/s]\n",
      "  0%|          | 0/57173 [00:00<?, ?it/s]"
     ]
    },
    {
     "name": "stdout",
     "output_type": "stream",
     "text": [
      "109\n"
     ]
    },
    {
     "name": "stderr",
     "output_type": "stream",
     "text": [
      "100%|██████████| 57173/57173 [00:01<00:00, 31926.42it/s]\n",
      "  0%|          | 0/57173 [00:00<?, ?it/s]"
     ]
    },
    {
     "name": "stdout",
     "output_type": "stream",
     "text": [
      "110\n"
     ]
    },
    {
     "name": "stderr",
     "output_type": "stream",
     "text": [
      "100%|██████████| 57173/57173 [00:01<00:00, 31906.80it/s]\n",
      "  0%|          | 0/57173 [00:00<?, ?it/s]"
     ]
    },
    {
     "name": "stdout",
     "output_type": "stream",
     "text": [
      "111\n"
     ]
    },
    {
     "name": "stderr",
     "output_type": "stream",
     "text": [
      "100%|██████████| 57173/57173 [00:01<00:00, 31971.21it/s]\n",
      "  0%|          | 0/57173 [00:00<?, ?it/s]"
     ]
    },
    {
     "name": "stdout",
     "output_type": "stream",
     "text": [
      "112\n"
     ]
    },
    {
     "name": "stderr",
     "output_type": "stream",
     "text": [
      "100%|██████████| 57173/57173 [00:01<00:00, 31795.44it/s]\n",
      "  0%|          | 0/57173 [00:00<?, ?it/s]"
     ]
    },
    {
     "name": "stdout",
     "output_type": "stream",
     "text": [
      "113\n"
     ]
    },
    {
     "name": "stderr",
     "output_type": "stream",
     "text": [
      "100%|██████████| 57173/57173 [00:01<00:00, 31787.36it/s]\n",
      "  0%|          | 0/57173 [00:00<?, ?it/s]"
     ]
    },
    {
     "name": "stdout",
     "output_type": "stream",
     "text": [
      "114\n"
     ]
    },
    {
     "name": "stderr",
     "output_type": "stream",
     "text": [
      "100%|██████████| 57173/57173 [00:01<00:00, 31934.69it/s]\n",
      "  0%|          | 0/57173 [00:00<?, ?it/s]"
     ]
    },
    {
     "name": "stdout",
     "output_type": "stream",
     "text": [
      "115\n"
     ]
    },
    {
     "name": "stderr",
     "output_type": "stream",
     "text": [
      "100%|██████████| 57173/57173 [00:01<00:00, 31695.57it/s]\n",
      "  0%|          | 0/57173 [00:00<?, ?it/s]"
     ]
    },
    {
     "name": "stdout",
     "output_type": "stream",
     "text": [
      "116\n"
     ]
    },
    {
     "name": "stderr",
     "output_type": "stream",
     "text": [
      "100%|██████████| 57173/57173 [00:01<00:00, 31569.41it/s]\n",
      "  0%|          | 0/57173 [00:00<?, ?it/s]"
     ]
    },
    {
     "name": "stdout",
     "output_type": "stream",
     "text": [
      "117\n"
     ]
    },
    {
     "name": "stderr",
     "output_type": "stream",
     "text": [
      "100%|██████████| 57173/57173 [00:01<00:00, 31784.11it/s]\n",
      "  0%|          | 0/57173 [00:00<?, ?it/s]"
     ]
    },
    {
     "name": "stdout",
     "output_type": "stream",
     "text": [
      "118\n"
     ]
    },
    {
     "name": "stderr",
     "output_type": "stream",
     "text": [
      "100%|██████████| 57173/57173 [00:01<00:00, 31737.92it/s]\n",
      "  0%|          | 0/57173 [00:00<?, ?it/s]"
     ]
    },
    {
     "name": "stdout",
     "output_type": "stream",
     "text": [
      "119\n"
     ]
    },
    {
     "name": "stderr",
     "output_type": "stream",
     "text": [
      "100%|██████████| 57173/57173 [00:01<00:00, 31823.72it/s]\n",
      "  0%|          | 0/57173 [00:00<?, ?it/s]"
     ]
    },
    {
     "name": "stdout",
     "output_type": "stream",
     "text": [
      "120\n"
     ]
    },
    {
     "name": "stderr",
     "output_type": "stream",
     "text": [
      "100%|██████████| 57173/57173 [00:01<00:00, 31480.99it/s]\n",
      "  0%|          | 0/57173 [00:00<?, ?it/s]"
     ]
    },
    {
     "name": "stdout",
     "output_type": "stream",
     "text": [
      "121\n"
     ]
    },
    {
     "name": "stderr",
     "output_type": "stream",
     "text": [
      "100%|██████████| 57173/57173 [00:01<00:00, 31444.11it/s]\n",
      "  0%|          | 0/57173 [00:00<?, ?it/s]"
     ]
    },
    {
     "name": "stdout",
     "output_type": "stream",
     "text": [
      "122\n"
     ]
    },
    {
     "name": "stderr",
     "output_type": "stream",
     "text": [
      "100%|██████████| 57173/57173 [00:01<00:00, 30736.50it/s]\n",
      "  0%|          | 0/57173 [00:00<?, ?it/s]"
     ]
    },
    {
     "name": "stdout",
     "output_type": "stream",
     "text": [
      "123\n"
     ]
    },
    {
     "name": "stderr",
     "output_type": "stream",
     "text": [
      "100%|██████████| 57173/57173 [00:01<00:00, 31249.25it/s]\n",
      "  0%|          | 0/57173 [00:00<?, ?it/s]"
     ]
    },
    {
     "name": "stdout",
     "output_type": "stream",
     "text": [
      "124\n"
     ]
    },
    {
     "name": "stderr",
     "output_type": "stream",
     "text": [
      "100%|██████████| 57173/57173 [00:01<00:00, 31463.07it/s]\n",
      "  0%|          | 0/57173 [00:00<?, ?it/s]"
     ]
    },
    {
     "name": "stdout",
     "output_type": "stream",
     "text": [
      "125\n"
     ]
    },
    {
     "name": "stderr",
     "output_type": "stream",
     "text": [
      "100%|██████████| 57173/57173 [00:01<00:00, 31453.50it/s]\n",
      "  0%|          | 0/57173 [00:00<?, ?it/s]"
     ]
    },
    {
     "name": "stdout",
     "output_type": "stream",
     "text": [
      "126\n"
     ]
    },
    {
     "name": "stderr",
     "output_type": "stream",
     "text": [
      "100%|██████████| 57173/57173 [00:01<00:00, 29858.70it/s]\n",
      "  0%|          | 0/57173 [00:00<?, ?it/s]"
     ]
    },
    {
     "name": "stdout",
     "output_type": "stream",
     "text": [
      "127\n"
     ]
    },
    {
     "name": "stderr",
     "output_type": "stream",
     "text": [
      "100%|██████████| 57173/57173 [00:01<00:00, 30365.33it/s]\n",
      "  0%|          | 0/57173 [00:00<?, ?it/s]"
     ]
    },
    {
     "name": "stdout",
     "output_type": "stream",
     "text": [
      "128\n"
     ]
    },
    {
     "name": "stderr",
     "output_type": "stream",
     "text": [
      "100%|██████████| 57173/57173 [00:01<00:00, 31285.76it/s]\n",
      "  0%|          | 0/57173 [00:00<?, ?it/s]"
     ]
    },
    {
     "name": "stdout",
     "output_type": "stream",
     "text": [
      "129\n"
     ]
    },
    {
     "name": "stderr",
     "output_type": "stream",
     "text": [
      "100%|██████████| 57173/57173 [00:01<00:00, 30993.37it/s]\n",
      "  0%|          | 0/57173 [00:00<?, ?it/s]"
     ]
    },
    {
     "name": "stdout",
     "output_type": "stream",
     "text": [
      "130\n"
     ]
    },
    {
     "name": "stderr",
     "output_type": "stream",
     "text": [
      "100%|██████████| 57173/57173 [00:01<00:00, 31135.23it/s]\n",
      "  0%|          | 0/57173 [00:00<?, ?it/s]"
     ]
    },
    {
     "name": "stdout",
     "output_type": "stream",
     "text": [
      "131\n"
     ]
    },
    {
     "name": "stderr",
     "output_type": "stream",
     "text": [
      "100%|██████████| 57173/57173 [00:01<00:00, 30956.41it/s]\n",
      "  0%|          | 0/57173 [00:00<?, ?it/s]"
     ]
    },
    {
     "name": "stdout",
     "output_type": "stream",
     "text": [
      "132\n"
     ]
    },
    {
     "name": "stderr",
     "output_type": "stream",
     "text": [
      "100%|██████████| 57173/57173 [00:01<00:00, 30652.57it/s]\n",
      "  0%|          | 0/57173 [00:00<?, ?it/s]"
     ]
    },
    {
     "name": "stdout",
     "output_type": "stream",
     "text": [
      "133\n"
     ]
    },
    {
     "name": "stderr",
     "output_type": "stream",
     "text": [
      "100%|██████████| 57173/57173 [00:01<00:00, 30962.02it/s]\n",
      "  0%|          | 0/57173 [00:00<?, ?it/s]"
     ]
    },
    {
     "name": "stdout",
     "output_type": "stream",
     "text": [
      "134\n"
     ]
    },
    {
     "name": "stderr",
     "output_type": "stream",
     "text": [
      "100%|██████████| 57173/57173 [00:01<00:00, 30806.64it/s]\n",
      "  0%|          | 0/57173 [00:00<?, ?it/s]"
     ]
    },
    {
     "name": "stdout",
     "output_type": "stream",
     "text": [
      "135\n"
     ]
    },
    {
     "name": "stderr",
     "output_type": "stream",
     "text": [
      "100%|██████████| 57173/57173 [00:01<00:00, 30775.15it/s]\n",
      "  0%|          | 0/57173 [00:00<?, ?it/s]"
     ]
    },
    {
     "name": "stdout",
     "output_type": "stream",
     "text": [
      "136\n"
     ]
    },
    {
     "name": "stderr",
     "output_type": "stream",
     "text": [
      "100%|██████████| 57173/57173 [00:01<00:00, 30867.45it/s]\n",
      "  0%|          | 0/57173 [00:00<?, ?it/s]"
     ]
    },
    {
     "name": "stdout",
     "output_type": "stream",
     "text": [
      "137\n"
     ]
    },
    {
     "name": "stderr",
     "output_type": "stream",
     "text": [
      "100%|██████████| 57173/57173 [00:01<00:00, 30734.51it/s]\n",
      "  0%|          | 0/57173 [00:00<?, ?it/s]"
     ]
    },
    {
     "name": "stdout",
     "output_type": "stream",
     "text": [
      "138\n"
     ]
    },
    {
     "name": "stderr",
     "output_type": "stream",
     "text": [
      "100%|██████████| 57173/57173 [00:01<00:00, 30135.39it/s]\n",
      "  0%|          | 0/57173 [00:00<?, ?it/s]"
     ]
    },
    {
     "name": "stdout",
     "output_type": "stream",
     "text": [
      "139\n"
     ]
    },
    {
     "name": "stderr",
     "output_type": "stream",
     "text": [
      "100%|██████████| 57173/57173 [00:01<00:00, 30312.46it/s]\n",
      "  0%|          | 0/57173 [00:00<?, ?it/s]"
     ]
    },
    {
     "name": "stdout",
     "output_type": "stream",
     "text": [
      "140\n"
     ]
    },
    {
     "name": "stderr",
     "output_type": "stream",
     "text": [
      "100%|██████████| 57173/57173 [00:01<00:00, 30637.48it/s]\n",
      "  0%|          | 0/57173 [00:00<?, ?it/s]"
     ]
    },
    {
     "name": "stdout",
     "output_type": "stream",
     "text": [
      "141\n"
     ]
    },
    {
     "name": "stderr",
     "output_type": "stream",
     "text": [
      "100%|██████████| 57173/57173 [00:01<00:00, 30788.23it/s]\n",
      "  0%|          | 0/57173 [00:00<?, ?it/s]"
     ]
    },
    {
     "name": "stdout",
     "output_type": "stream",
     "text": [
      "142\n"
     ]
    },
    {
     "name": "stderr",
     "output_type": "stream",
     "text": [
      "100%|██████████| 57173/57173 [00:01<00:00, 30715.15it/s]\n",
      "  0%|          | 0/57173 [00:00<?, ?it/s]"
     ]
    },
    {
     "name": "stdout",
     "output_type": "stream",
     "text": [
      "143\n"
     ]
    },
    {
     "name": "stderr",
     "output_type": "stream",
     "text": [
      "100%|██████████| 57173/57173 [00:01<00:00, 30314.10it/s]\n",
      "  0%|          | 0/57173 [00:00<?, ?it/s]"
     ]
    },
    {
     "name": "stdout",
     "output_type": "stream",
     "text": [
      "144\n"
     ]
    },
    {
     "name": "stderr",
     "output_type": "stream",
     "text": [
      "100%|██████████| 57173/57173 [00:01<00:00, 30427.29it/s]\n",
      "  0%|          | 0/57173 [00:00<?, ?it/s]"
     ]
    },
    {
     "name": "stdout",
     "output_type": "stream",
     "text": [
      "145\n"
     ]
    },
    {
     "name": "stderr",
     "output_type": "stream",
     "text": [
      "100%|██████████| 57173/57173 [00:01<00:00, 30514.14it/s]\n",
      "  0%|          | 0/57173 [00:00<?, ?it/s]"
     ]
    },
    {
     "name": "stdout",
     "output_type": "stream",
     "text": [
      "146\n"
     ]
    },
    {
     "name": "stderr",
     "output_type": "stream",
     "text": [
      "100%|██████████| 57173/57173 [00:01<00:00, 30620.61it/s]\n",
      "  0%|          | 0/57173 [00:00<?, ?it/s]"
     ]
    },
    {
     "name": "stdout",
     "output_type": "stream",
     "text": [
      "147\n"
     ]
    },
    {
     "name": "stderr",
     "output_type": "stream",
     "text": [
      "100%|██████████| 57173/57173 [00:01<00:00, 30287.22it/s]\n",
      "  0%|          | 0/57173 [00:00<?, ?it/s]"
     ]
    },
    {
     "name": "stdout",
     "output_type": "stream",
     "text": [
      "148\n"
     ]
    },
    {
     "name": "stderr",
     "output_type": "stream",
     "text": [
      "100%|██████████| 57173/57173 [00:01<00:00, 30133.49it/s]\n",
      "  0%|          | 0/57173 [00:00<?, ?it/s]"
     ]
    },
    {
     "name": "stdout",
     "output_type": "stream",
     "text": [
      "149\n"
     ]
    },
    {
     "name": "stderr",
     "output_type": "stream",
     "text": [
      "100%|██████████| 57173/57173 [00:01<00:00, 30430.41it/s]\n",
      "  0%|          | 0/57173 [00:00<?, ?it/s]"
     ]
    },
    {
     "name": "stdout",
     "output_type": "stream",
     "text": [
      "150\n"
     ]
    },
    {
     "name": "stderr",
     "output_type": "stream",
     "text": [
      "100%|██████████| 57173/57173 [00:01<00:00, 30331.39it/s]\n",
      "  0%|          | 0/57173 [00:00<?, ?it/s]"
     ]
    },
    {
     "name": "stdout",
     "output_type": "stream",
     "text": [
      "151\n"
     ]
    },
    {
     "name": "stderr",
     "output_type": "stream",
     "text": [
      "100%|██████████| 57173/57173 [00:01<00:00, 29623.30it/s]\n",
      "  0%|          | 0/57173 [00:00<?, ?it/s]"
     ]
    },
    {
     "name": "stdout",
     "output_type": "stream",
     "text": [
      "152\n"
     ]
    },
    {
     "name": "stderr",
     "output_type": "stream",
     "text": [
      "100%|██████████| 57173/57173 [00:01<00:00, 30134.42it/s]\n",
      "  0%|          | 0/57173 [00:00<?, ?it/s]"
     ]
    },
    {
     "name": "stdout",
     "output_type": "stream",
     "text": [
      "153\n"
     ]
    },
    {
     "name": "stderr",
     "output_type": "stream",
     "text": [
      "100%|██████████| 57173/57173 [00:01<00:00, 30090.86it/s]\n",
      "  0%|          | 0/57173 [00:00<?, ?it/s]"
     ]
    },
    {
     "name": "stdout",
     "output_type": "stream",
     "text": [
      "154\n"
     ]
    },
    {
     "name": "stderr",
     "output_type": "stream",
     "text": [
      "100%|██████████| 57173/57173 [00:01<00:00, 29730.43it/s]\n",
      "  0%|          | 0/57173 [00:00<?, ?it/s]"
     ]
    },
    {
     "name": "stdout",
     "output_type": "stream",
     "text": [
      "155\n"
     ]
    },
    {
     "name": "stderr",
     "output_type": "stream",
     "text": [
      "100%|██████████| 57173/57173 [00:01<00:00, 29093.37it/s]\n",
      "  0%|          | 0/57173 [00:00<?, ?it/s]"
     ]
    },
    {
     "name": "stdout",
     "output_type": "stream",
     "text": [
      "156\n"
     ]
    },
    {
     "name": "stderr",
     "output_type": "stream",
     "text": [
      "100%|██████████| 57173/57173 [00:01<00:00, 28690.45it/s]\n",
      "  0%|          | 0/57173 [00:00<?, ?it/s]"
     ]
    },
    {
     "name": "stdout",
     "output_type": "stream",
     "text": [
      "157\n"
     ]
    },
    {
     "name": "stderr",
     "output_type": "stream",
     "text": [
      "100%|██████████| 57173/57173 [00:01<00:00, 29891.68it/s]\n",
      "  0%|          | 0/57173 [00:00<?, ?it/s]"
     ]
    },
    {
     "name": "stdout",
     "output_type": "stream",
     "text": [
      "158\n"
     ]
    },
    {
     "name": "stderr",
     "output_type": "stream",
     "text": [
      "100%|██████████| 57173/57173 [00:01<00:00, 29769.92it/s]\n",
      "  0%|          | 0/57173 [00:00<?, ?it/s]"
     ]
    },
    {
     "name": "stdout",
     "output_type": "stream",
     "text": [
      "159\n"
     ]
    },
    {
     "name": "stderr",
     "output_type": "stream",
     "text": [
      "100%|██████████| 57173/57173 [00:01<00:00, 29402.38it/s]\n",
      "  0%|          | 0/57173 [00:00<?, ?it/s]"
     ]
    },
    {
     "name": "stdout",
     "output_type": "stream",
     "text": [
      "160\n"
     ]
    },
    {
     "name": "stderr",
     "output_type": "stream",
     "text": [
      "100%|██████████| 57173/57173 [00:01<00:00, 29561.94it/s]\n",
      "  0%|          | 0/57173 [00:00<?, ?it/s]"
     ]
    },
    {
     "name": "stdout",
     "output_type": "stream",
     "text": [
      "161\n"
     ]
    },
    {
     "name": "stderr",
     "output_type": "stream",
     "text": [
      "100%|██████████| 57173/57173 [00:01<00:00, 29710.51it/s]\n",
      "  0%|          | 0/57173 [00:00<?, ?it/s]"
     ]
    },
    {
     "name": "stdout",
     "output_type": "stream",
     "text": [
      "162\n"
     ]
    },
    {
     "name": "stderr",
     "output_type": "stream",
     "text": [
      "100%|██████████| 57173/57173 [00:01<00:00, 29713.12it/s]\n",
      "  0%|          | 0/57173 [00:00<?, ?it/s]"
     ]
    },
    {
     "name": "stdout",
     "output_type": "stream",
     "text": [
      "163\n"
     ]
    },
    {
     "name": "stderr",
     "output_type": "stream",
     "text": [
      "100%|██████████| 57173/57173 [00:01<00:00, 29713.92it/s]\n",
      "  0%|          | 0/57173 [00:00<?, ?it/s]"
     ]
    },
    {
     "name": "stdout",
     "output_type": "stream",
     "text": [
      "164\n"
     ]
    },
    {
     "name": "stderr",
     "output_type": "stream",
     "text": [
      "100%|██████████| 57173/57173 [00:01<00:00, 29607.40it/s]\n",
      "  0%|          | 0/57173 [00:00<?, ?it/s]"
     ]
    },
    {
     "name": "stdout",
     "output_type": "stream",
     "text": [
      "165\n"
     ]
    },
    {
     "name": "stderr",
     "output_type": "stream",
     "text": [
      "100%|██████████| 57173/57173 [00:01<00:00, 29744.17it/s]\n",
      "  0%|          | 0/57173 [00:00<?, ?it/s]"
     ]
    },
    {
     "name": "stdout",
     "output_type": "stream",
     "text": [
      "166\n"
     ]
    },
    {
     "name": "stderr",
     "output_type": "stream",
     "text": [
      "100%|██████████| 57173/57173 [00:01<00:00, 29488.92it/s]\n",
      "  0%|          | 0/57173 [00:00<?, ?it/s]"
     ]
    },
    {
     "name": "stdout",
     "output_type": "stream",
     "text": [
      "167\n"
     ]
    },
    {
     "name": "stderr",
     "output_type": "stream",
     "text": [
      "100%|██████████| 57173/57173 [00:01<00:00, 29531.42it/s]\n",
      "  0%|          | 0/57173 [00:00<?, ?it/s]"
     ]
    },
    {
     "name": "stdout",
     "output_type": "stream",
     "text": [
      "168\n"
     ]
    },
    {
     "name": "stderr",
     "output_type": "stream",
     "text": [
      "100%|██████████| 57173/57173 [00:01<00:00, 29423.15it/s]\n",
      "  0%|          | 0/57173 [00:00<?, ?it/s]"
     ]
    },
    {
     "name": "stdout",
     "output_type": "stream",
     "text": [
      "169\n"
     ]
    },
    {
     "name": "stderr",
     "output_type": "stream",
     "text": [
      "100%|██████████| 57173/57173 [00:01<00:00, 29154.92it/s]\n",
      "  0%|          | 0/57173 [00:00<?, ?it/s]"
     ]
    },
    {
     "name": "stdout",
     "output_type": "stream",
     "text": [
      "170\n"
     ]
    },
    {
     "name": "stderr",
     "output_type": "stream",
     "text": [
      "100%|██████████| 57173/57173 [00:01<00:00, 29258.99it/s]\n",
      "  0%|          | 0/57173 [00:00<?, ?it/s]"
     ]
    },
    {
     "name": "stdout",
     "output_type": "stream",
     "text": [
      "171\n"
     ]
    },
    {
     "name": "stderr",
     "output_type": "stream",
     "text": [
      "100%|██████████| 57173/57173 [00:01<00:00, 29276.78it/s]\n",
      "  0%|          | 0/57173 [00:00<?, ?it/s]"
     ]
    },
    {
     "name": "stdout",
     "output_type": "stream",
     "text": [
      "172\n"
     ]
    },
    {
     "name": "stderr",
     "output_type": "stream",
     "text": [
      "100%|██████████| 57173/57173 [00:01<00:00, 29418.44it/s]\n",
      "  0%|          | 0/57173 [00:00<?, ?it/s]"
     ]
    },
    {
     "name": "stdout",
     "output_type": "stream",
     "text": [
      "173\n"
     ]
    },
    {
     "name": "stderr",
     "output_type": "stream",
     "text": [
      "100%|██████████| 57173/57173 [00:01<00:00, 29344.95it/s]\n",
      "  0%|          | 0/57173 [00:00<?, ?it/s]"
     ]
    },
    {
     "name": "stdout",
     "output_type": "stream",
     "text": [
      "174\n"
     ]
    },
    {
     "name": "stderr",
     "output_type": "stream",
     "text": [
      "100%|██████████| 57173/57173 [00:01<00:00, 29242.93it/s]\n",
      "  0%|          | 0/57173 [00:00<?, ?it/s]"
     ]
    },
    {
     "name": "stdout",
     "output_type": "stream",
     "text": [
      "175\n"
     ]
    },
    {
     "name": "stderr",
     "output_type": "stream",
     "text": [
      "100%|██████████| 57173/57173 [00:01<00:00, 29256.52it/s]\n",
      "  0%|          | 0/57173 [00:00<?, ?it/s]"
     ]
    },
    {
     "name": "stdout",
     "output_type": "stream",
     "text": [
      "176\n"
     ]
    },
    {
     "name": "stderr",
     "output_type": "stream",
     "text": [
      "100%|██████████| 57173/57173 [00:01<00:00, 29133.91it/s]\n",
      "  0%|          | 0/57173 [00:00<?, ?it/s]"
     ]
    },
    {
     "name": "stdout",
     "output_type": "stream",
     "text": [
      "177\n"
     ]
    },
    {
     "name": "stderr",
     "output_type": "stream",
     "text": [
      "100%|██████████| 57173/57173 [00:01<00:00, 29249.69it/s]\n",
      "  0%|          | 0/57173 [00:00<?, ?it/s]"
     ]
    },
    {
     "name": "stdout",
     "output_type": "stream",
     "text": [
      "178\n"
     ]
    },
    {
     "name": "stderr",
     "output_type": "stream",
     "text": [
      "100%|██████████| 57173/57173 [00:01<00:00, 29088.15it/s]\n",
      "  0%|          | 0/57173 [00:00<?, ?it/s]"
     ]
    },
    {
     "name": "stdout",
     "output_type": "stream",
     "text": [
      "179\n"
     ]
    },
    {
     "name": "stderr",
     "output_type": "stream",
     "text": [
      "100%|██████████| 57173/57173 [00:01<00:00, 29198.68it/s]\n",
      "  0%|          | 0/57173 [00:00<?, ?it/s]"
     ]
    },
    {
     "name": "stdout",
     "output_type": "stream",
     "text": [
      "180\n"
     ]
    },
    {
     "name": "stderr",
     "output_type": "stream",
     "text": [
      "100%|██████████| 57173/57173 [00:01<00:00, 28729.39it/s]\n",
      "  0%|          | 0/57173 [00:00<?, ?it/s]"
     ]
    },
    {
     "name": "stdout",
     "output_type": "stream",
     "text": [
      "181\n"
     ]
    },
    {
     "name": "stderr",
     "output_type": "stream",
     "text": [
      "100%|██████████| 57173/57173 [00:01<00:00, 29074.36it/s]\n",
      "  0%|          | 0/57173 [00:00<?, ?it/s]"
     ]
    },
    {
     "name": "stdout",
     "output_type": "stream",
     "text": [
      "182\n"
     ]
    },
    {
     "name": "stderr",
     "output_type": "stream",
     "text": [
      "100%|██████████| 57173/57173 [00:01<00:00, 28806.87it/s]\n",
      "  0%|          | 0/57173 [00:00<?, ?it/s]"
     ]
    },
    {
     "name": "stdout",
     "output_type": "stream",
     "text": [
      "183\n"
     ]
    },
    {
     "name": "stderr",
     "output_type": "stream",
     "text": [
      "100%|██████████| 57173/57173 [00:01<00:00, 28907.85it/s]\n",
      "  0%|          | 0/57173 [00:00<?, ?it/s]"
     ]
    },
    {
     "name": "stdout",
     "output_type": "stream",
     "text": [
      "184\n"
     ]
    },
    {
     "name": "stderr",
     "output_type": "stream",
     "text": [
      "100%|██████████| 57173/57173 [00:01<00:00, 28826.98it/s]\n",
      "  0%|          | 0/57173 [00:00<?, ?it/s]"
     ]
    },
    {
     "name": "stdout",
     "output_type": "stream",
     "text": [
      "185\n"
     ]
    },
    {
     "name": "stderr",
     "output_type": "stream",
     "text": [
      "100%|██████████| 57173/57173 [00:01<00:00, 28617.30it/s]\n",
      "  0%|          | 0/57173 [00:00<?, ?it/s]"
     ]
    },
    {
     "name": "stdout",
     "output_type": "stream",
     "text": [
      "186\n"
     ]
    },
    {
     "name": "stderr",
     "output_type": "stream",
     "text": [
      "100%|██████████| 57173/57173 [00:02<00:00, 28542.43it/s]\n",
      "  0%|          | 0/57173 [00:00<?, ?it/s]"
     ]
    },
    {
     "name": "stdout",
     "output_type": "stream",
     "text": [
      "187\n"
     ]
    },
    {
     "name": "stderr",
     "output_type": "stream",
     "text": [
      "100%|██████████| 57173/57173 [00:01<00:00, 28783.25it/s]\n",
      "  0%|          | 0/57173 [00:00<?, ?it/s]"
     ]
    },
    {
     "name": "stdout",
     "output_type": "stream",
     "text": [
      "188\n"
     ]
    },
    {
     "name": "stderr",
     "output_type": "stream",
     "text": [
      "100%|██████████| 57173/57173 [00:01<00:00, 28620.54it/s]\n",
      "  0%|          | 0/57173 [00:00<?, ?it/s]"
     ]
    },
    {
     "name": "stdout",
     "output_type": "stream",
     "text": [
      "189\n"
     ]
    },
    {
     "name": "stderr",
     "output_type": "stream",
     "text": [
      "100%|██████████| 57173/57173 [00:02<00:00, 27229.64it/s]\n",
      "  0%|          | 0/57173 [00:00<?, ?it/s]"
     ]
    },
    {
     "name": "stdout",
     "output_type": "stream",
     "text": [
      "190\n"
     ]
    },
    {
     "name": "stderr",
     "output_type": "stream",
     "text": [
      "100%|██████████| 57173/57173 [00:02<00:00, 26079.28it/s]\n",
      "  0%|          | 0/57173 [00:00<?, ?it/s]"
     ]
    },
    {
     "name": "stdout",
     "output_type": "stream",
     "text": [
      "191\n"
     ]
    },
    {
     "name": "stderr",
     "output_type": "stream",
     "text": [
      "100%|██████████| 57173/57173 [00:02<00:00, 24846.39it/s]\n",
      "  0%|          | 0/57173 [00:00<?, ?it/s]"
     ]
    },
    {
     "name": "stdout",
     "output_type": "stream",
     "text": [
      "192\n"
     ]
    },
    {
     "name": "stderr",
     "output_type": "stream",
     "text": [
      "100%|██████████| 57173/57173 [00:02<00:00, 26336.52it/s]\n",
      "  0%|          | 0/57173 [00:00<?, ?it/s]"
     ]
    },
    {
     "name": "stdout",
     "output_type": "stream",
     "text": [
      "193\n"
     ]
    },
    {
     "name": "stderr",
     "output_type": "stream",
     "text": [
      "100%|██████████| 57173/57173 [00:02<00:00, 26587.38it/s]\n",
      "  0%|          | 0/57173 [00:00<?, ?it/s]"
     ]
    },
    {
     "name": "stdout",
     "output_type": "stream",
     "text": [
      "194\n"
     ]
    },
    {
     "name": "stderr",
     "output_type": "stream",
     "text": [
      "100%|██████████| 57173/57173 [00:02<00:00, 26802.43it/s]\n",
      "  0%|          | 0/57173 [00:00<?, ?it/s]"
     ]
    },
    {
     "name": "stdout",
     "output_type": "stream",
     "text": [
      "195\n"
     ]
    },
    {
     "name": "stderr",
     "output_type": "stream",
     "text": [
      "100%|██████████| 57173/57173 [00:02<00:00, 27020.43it/s]\n",
      "  0%|          | 0/57173 [00:00<?, ?it/s]"
     ]
    },
    {
     "name": "stdout",
     "output_type": "stream",
     "text": [
      "196\n"
     ]
    },
    {
     "name": "stderr",
     "output_type": "stream",
     "text": [
      "100%|██████████| 57173/57173 [00:02<00:00, 27309.27it/s]\n",
      "  0%|          | 0/57173 [00:00<?, ?it/s]"
     ]
    },
    {
     "name": "stdout",
     "output_type": "stream",
     "text": [
      "197\n"
     ]
    },
    {
     "name": "stderr",
     "output_type": "stream",
     "text": [
      "100%|██████████| 57173/57173 [00:02<00:00, 25176.63it/s]\n",
      "  0%|          | 0/57173 [00:00<?, ?it/s]"
     ]
    },
    {
     "name": "stdout",
     "output_type": "stream",
     "text": [
      "198\n"
     ]
    },
    {
     "name": "stderr",
     "output_type": "stream",
     "text": [
      "100%|██████████| 57173/57173 [00:02<00:00, 26525.10it/s]\n",
      "  0%|          | 0/57173 [00:00<?, ?it/s]"
     ]
    },
    {
     "name": "stdout",
     "output_type": "stream",
     "text": [
      "199\n"
     ]
    },
    {
     "name": "stderr",
     "output_type": "stream",
     "text": [
      "100%|██████████| 57173/57173 [00:02<00:00, 26322.36it/s]\n",
      "  0%|          | 0/57173 [00:00<?, ?it/s]"
     ]
    },
    {
     "name": "stdout",
     "output_type": "stream",
     "text": [
      "200\n"
     ]
    },
    {
     "name": "stderr",
     "output_type": "stream",
     "text": [
      "100%|██████████| 57173/57173 [00:02<00:00, 26791.47it/s]\n",
      "  0%|          | 0/57173 [00:00<?, ?it/s]"
     ]
    },
    {
     "name": "stdout",
     "output_type": "stream",
     "text": [
      "201\n"
     ]
    },
    {
     "name": "stderr",
     "output_type": "stream",
     "text": [
      "100%|██████████| 57173/57173 [00:02<00:00, 27111.41it/s]\n",
      "  0%|          | 0/57173 [00:00<?, ?it/s]"
     ]
    },
    {
     "name": "stdout",
     "output_type": "stream",
     "text": [
      "202\n"
     ]
    },
    {
     "name": "stderr",
     "output_type": "stream",
     "text": [
      "100%|██████████| 57173/57173 [00:02<00:00, 26488.54it/s]\n",
      "  0%|          | 0/57173 [00:00<?, ?it/s]"
     ]
    },
    {
     "name": "stdout",
     "output_type": "stream",
     "text": [
      "203\n"
     ]
    },
    {
     "name": "stderr",
     "output_type": "stream",
     "text": [
      "100%|██████████| 57173/57173 [00:02<00:00, 26611.43it/s]\n",
      "  0%|          | 0/57173 [00:00<?, ?it/s]"
     ]
    },
    {
     "name": "stdout",
     "output_type": "stream",
     "text": [
      "204\n"
     ]
    },
    {
     "name": "stderr",
     "output_type": "stream",
     "text": [
      "100%|██████████| 57173/57173 [00:02<00:00, 26146.95it/s]\n",
      "  0%|          | 0/57173 [00:00<?, ?it/s]"
     ]
    },
    {
     "name": "stdout",
     "output_type": "stream",
     "text": [
      "205\n"
     ]
    },
    {
     "name": "stderr",
     "output_type": "stream",
     "text": [
      "100%|██████████| 57173/57173 [00:02<00:00, 26370.01it/s]\n",
      "  0%|          | 0/57173 [00:00<?, ?it/s]"
     ]
    },
    {
     "name": "stdout",
     "output_type": "stream",
     "text": [
      "206\n"
     ]
    },
    {
     "name": "stderr",
     "output_type": "stream",
     "text": [
      "100%|██████████| 57173/57173 [00:02<00:00, 26700.60it/s]\n",
      "  0%|          | 0/57173 [00:00<?, ?it/s]"
     ]
    },
    {
     "name": "stdout",
     "output_type": "stream",
     "text": [
      "207\n"
     ]
    },
    {
     "name": "stderr",
     "output_type": "stream",
     "text": [
      "100%|██████████| 57173/57173 [00:02<00:00, 26180.46it/s]\n",
      "  0%|          | 0/57173 [00:00<?, ?it/s]"
     ]
    },
    {
     "name": "stdout",
     "output_type": "stream",
     "text": [
      "208\n"
     ]
    },
    {
     "name": "stderr",
     "output_type": "stream",
     "text": [
      "100%|██████████| 57173/57173 [00:02<00:00, 23638.35it/s]\n",
      "  0%|          | 0/57173 [00:00<?, ?it/s]"
     ]
    },
    {
     "name": "stdout",
     "output_type": "stream",
     "text": [
      "209\n"
     ]
    },
    {
     "name": "stderr",
     "output_type": "stream",
     "text": [
      "100%|██████████| 57173/57173 [00:02<00:00, 26738.58it/s]\n",
      "  0%|          | 0/57173 [00:00<?, ?it/s]"
     ]
    },
    {
     "name": "stdout",
     "output_type": "stream",
     "text": [
      "210\n"
     ]
    },
    {
     "name": "stderr",
     "output_type": "stream",
     "text": [
      "100%|██████████| 57173/57173 [00:02<00:00, 26407.72it/s]\n",
      "  0%|          | 0/57173 [00:00<?, ?it/s]"
     ]
    },
    {
     "name": "stdout",
     "output_type": "stream",
     "text": [
      "211\n"
     ]
    },
    {
     "name": "stderr",
     "output_type": "stream",
     "text": [
      "100%|██████████| 57173/57173 [00:02<00:00, 25888.80it/s]\n",
      "  0%|          | 0/57173 [00:00<?, ?it/s]"
     ]
    },
    {
     "name": "stdout",
     "output_type": "stream",
     "text": [
      "212\n"
     ]
    },
    {
     "name": "stderr",
     "output_type": "stream",
     "text": [
      "100%|██████████| 57173/57173 [00:02<00:00, 26351.06it/s]\n",
      "  0%|          | 0/57173 [00:00<?, ?it/s]"
     ]
    },
    {
     "name": "stdout",
     "output_type": "stream",
     "text": [
      "213\n"
     ]
    },
    {
     "name": "stderr",
     "output_type": "stream",
     "text": [
      "100%|██████████| 57173/57173 [00:02<00:00, 24924.50it/s]\n",
      "  0%|          | 0/57173 [00:00<?, ?it/s]"
     ]
    },
    {
     "name": "stdout",
     "output_type": "stream",
     "text": [
      "214\n"
     ]
    },
    {
     "name": "stderr",
     "output_type": "stream",
     "text": [
      "100%|██████████| 57173/57173 [00:02<00:00, 26163.70it/s]\n",
      "  0%|          | 0/57173 [00:00<?, ?it/s]"
     ]
    },
    {
     "name": "stdout",
     "output_type": "stream",
     "text": [
      "215\n"
     ]
    },
    {
     "name": "stderr",
     "output_type": "stream",
     "text": [
      "100%|██████████| 57173/57173 [00:02<00:00, 26448.81it/s]\n",
      "  0%|          | 0/57173 [00:00<?, ?it/s]"
     ]
    },
    {
     "name": "stdout",
     "output_type": "stream",
     "text": [
      "216\n"
     ]
    },
    {
     "name": "stderr",
     "output_type": "stream",
     "text": [
      "100%|██████████| 57173/57173 [00:02<00:00, 26389.74it/s]\n",
      "  0%|          | 0/57173 [00:00<?, ?it/s]"
     ]
    },
    {
     "name": "stdout",
     "output_type": "stream",
     "text": [
      "217\n"
     ]
    },
    {
     "name": "stderr",
     "output_type": "stream",
     "text": [
      "100%|██████████| 57173/57173 [00:02<00:00, 26306.59it/s]\n",
      "  0%|          | 0/57173 [00:00<?, ?it/s]"
     ]
    },
    {
     "name": "stdout",
     "output_type": "stream",
     "text": [
      "218\n"
     ]
    },
    {
     "name": "stderr",
     "output_type": "stream",
     "text": [
      "100%|██████████| 57173/57173 [00:02<00:00, 25440.17it/s]\n",
      "  0%|          | 0/57173 [00:00<?, ?it/s]"
     ]
    },
    {
     "name": "stdout",
     "output_type": "stream",
     "text": [
      "219\n"
     ]
    },
    {
     "name": "stderr",
     "output_type": "stream",
     "text": [
      "100%|██████████| 57173/57173 [00:02<00:00, 26956.40it/s]\n",
      "  0%|          | 0/57173 [00:00<?, ?it/s]"
     ]
    },
    {
     "name": "stdout",
     "output_type": "stream",
     "text": [
      "220\n"
     ]
    },
    {
     "name": "stderr",
     "output_type": "stream",
     "text": [
      "100%|██████████| 57173/57173 [00:02<00:00, 26262.80it/s]\n",
      "  0%|          | 0/57173 [00:00<?, ?it/s]"
     ]
    },
    {
     "name": "stdout",
     "output_type": "stream",
     "text": [
      "221\n"
     ]
    },
    {
     "name": "stderr",
     "output_type": "stream",
     "text": [
      "100%|██████████| 57173/57173 [00:02<00:00, 26473.25it/s]\n",
      "  0%|          | 0/57173 [00:00<?, ?it/s]"
     ]
    },
    {
     "name": "stdout",
     "output_type": "stream",
     "text": [
      "222\n"
     ]
    },
    {
     "name": "stderr",
     "output_type": "stream",
     "text": [
      "100%|██████████| 57173/57173 [00:02<00:00, 25924.74it/s]\n",
      "  0%|          | 0/57173 [00:00<?, ?it/s]"
     ]
    },
    {
     "name": "stdout",
     "output_type": "stream",
     "text": [
      "223\n"
     ]
    },
    {
     "name": "stderr",
     "output_type": "stream",
     "text": [
      "100%|██████████| 57173/57173 [00:02<00:00, 26426.48it/s]\n",
      "  0%|          | 0/57173 [00:00<?, ?it/s]"
     ]
    },
    {
     "name": "stdout",
     "output_type": "stream",
     "text": [
      "224\n"
     ]
    },
    {
     "name": "stderr",
     "output_type": "stream",
     "text": [
      "100%|██████████| 57173/57173 [00:02<00:00, 26893.19it/s]\n",
      "  0%|          | 0/57173 [00:00<?, ?it/s]"
     ]
    },
    {
     "name": "stdout",
     "output_type": "stream",
     "text": [
      "225\n"
     ]
    },
    {
     "name": "stderr",
     "output_type": "stream",
     "text": [
      "100%|██████████| 57173/57173 [00:02<00:00, 27193.77it/s]\n",
      "  0%|          | 0/57173 [00:00<?, ?it/s]"
     ]
    },
    {
     "name": "stdout",
     "output_type": "stream",
     "text": [
      "226\n"
     ]
    },
    {
     "name": "stderr",
     "output_type": "stream",
     "text": [
      "100%|██████████| 57173/57173 [00:02<00:00, 26710.31it/s]\n",
      "  0%|          | 0/57173 [00:00<?, ?it/s]"
     ]
    },
    {
     "name": "stdout",
     "output_type": "stream",
     "text": [
      "227\n"
     ]
    },
    {
     "name": "stderr",
     "output_type": "stream",
     "text": [
      "100%|██████████| 57173/57173 [00:02<00:00, 26151.36it/s]\n",
      "  0%|          | 0/57173 [00:00<?, ?it/s]"
     ]
    },
    {
     "name": "stdout",
     "output_type": "stream",
     "text": [
      "228\n"
     ]
    },
    {
     "name": "stderr",
     "output_type": "stream",
     "text": [
      "100%|██████████| 57173/57173 [00:02<00:00, 26311.80it/s]\n",
      "  0%|          | 0/57173 [00:00<?, ?it/s]"
     ]
    },
    {
     "name": "stdout",
     "output_type": "stream",
     "text": [
      "229\n"
     ]
    },
    {
     "name": "stderr",
     "output_type": "stream",
     "text": [
      "100%|██████████| 57173/57173 [00:02<00:00, 26483.69it/s]\n",
      "  0%|          | 0/57173 [00:00<?, ?it/s]"
     ]
    },
    {
     "name": "stdout",
     "output_type": "stream",
     "text": [
      "230\n"
     ]
    },
    {
     "name": "stderr",
     "output_type": "stream",
     "text": [
      "100%|██████████| 57173/57173 [00:02<00:00, 26784.62it/s]\n",
      "  0%|          | 0/57173 [00:00<?, ?it/s]"
     ]
    },
    {
     "name": "stdout",
     "output_type": "stream",
     "text": [
      "231\n"
     ]
    },
    {
     "name": "stderr",
     "output_type": "stream",
     "text": [
      "100%|██████████| 57173/57173 [00:02<00:00, 25939.88it/s]\n",
      "  0%|          | 0/57173 [00:00<?, ?it/s]"
     ]
    },
    {
     "name": "stdout",
     "output_type": "stream",
     "text": [
      "232\n"
     ]
    },
    {
     "name": "stderr",
     "output_type": "stream",
     "text": [
      "100%|██████████| 57173/57173 [00:02<00:00, 26167.56it/s]\n",
      "  0%|          | 0/57173 [00:00<?, ?it/s]"
     ]
    },
    {
     "name": "stdout",
     "output_type": "stream",
     "text": [
      "233\n"
     ]
    },
    {
     "name": "stderr",
     "output_type": "stream",
     "text": [
      "100%|██████████| 57173/57173 [00:02<00:00, 26791.96it/s]\n",
      "  0%|          | 0/57173 [00:00<?, ?it/s]"
     ]
    },
    {
     "name": "stdout",
     "output_type": "stream",
     "text": [
      "234\n"
     ]
    },
    {
     "name": "stderr",
     "output_type": "stream",
     "text": [
      "100%|██████████| 57173/57173 [00:02<00:00, 26651.82it/s]\n",
      "  0%|          | 0/57173 [00:00<?, ?it/s]"
     ]
    },
    {
     "name": "stdout",
     "output_type": "stream",
     "text": [
      "235\n"
     ]
    },
    {
     "name": "stderr",
     "output_type": "stream",
     "text": [
      "100%|██████████| 57173/57173 [00:02<00:00, 26641.74it/s]\n",
      "  0%|          | 0/57173 [00:00<?, ?it/s]"
     ]
    },
    {
     "name": "stdout",
     "output_type": "stream",
     "text": [
      "236\n"
     ]
    },
    {
     "name": "stderr",
     "output_type": "stream",
     "text": [
      "100%|██████████| 57173/57173 [00:02<00:00, 25781.66it/s]\n",
      "  0%|          | 0/57173 [00:00<?, ?it/s]"
     ]
    },
    {
     "name": "stdout",
     "output_type": "stream",
     "text": [
      "237\n"
     ]
    },
    {
     "name": "stderr",
     "output_type": "stream",
     "text": [
      "100%|██████████| 57173/57173 [00:02<00:00, 25223.39it/s]\n",
      "  0%|          | 0/57173 [00:00<?, ?it/s]"
     ]
    },
    {
     "name": "stdout",
     "output_type": "stream",
     "text": [
      "238\n"
     ]
    },
    {
     "name": "stderr",
     "output_type": "stream",
     "text": [
      "100%|██████████| 57173/57173 [00:02<00:00, 25981.91it/s]\n",
      "  0%|          | 0/57173 [00:00<?, ?it/s]"
     ]
    },
    {
     "name": "stdout",
     "output_type": "stream",
     "text": [
      "239\n"
     ]
    },
    {
     "name": "stderr",
     "output_type": "stream",
     "text": [
      "100%|██████████| 57173/57173 [00:02<00:00, 26689.19it/s]\n",
      "  0%|          | 0/57173 [00:00<?, ?it/s]"
     ]
    },
    {
     "name": "stdout",
     "output_type": "stream",
     "text": [
      "240\n"
     ]
    },
    {
     "name": "stderr",
     "output_type": "stream",
     "text": [
      "100%|██████████| 57173/57173 [00:02<00:00, 26385.08it/s]\n",
      "  0%|          | 0/57173 [00:00<?, ?it/s]"
     ]
    },
    {
     "name": "stdout",
     "output_type": "stream",
     "text": [
      "241\n"
     ]
    },
    {
     "name": "stderr",
     "output_type": "stream",
     "text": [
      "100%|██████████| 57173/57173 [00:02<00:00, 26000.63it/s]\n",
      "  0%|          | 0/57173 [00:00<?, ?it/s]"
     ]
    },
    {
     "name": "stdout",
     "output_type": "stream",
     "text": [
      "242\n"
     ]
    },
    {
     "name": "stderr",
     "output_type": "stream",
     "text": [
      "100%|██████████| 57173/57173 [00:02<00:00, 26163.82it/s]\n",
      "  0%|          | 0/57173 [00:00<?, ?it/s]"
     ]
    },
    {
     "name": "stdout",
     "output_type": "stream",
     "text": [
      "243\n"
     ]
    },
    {
     "name": "stderr",
     "output_type": "stream",
     "text": [
      "100%|██████████| 57173/57173 [00:02<00:00, 26533.69it/s]\n",
      "  0%|          | 0/57173 [00:00<?, ?it/s]"
     ]
    },
    {
     "name": "stdout",
     "output_type": "stream",
     "text": [
      "244\n"
     ]
    },
    {
     "name": "stderr",
     "output_type": "stream",
     "text": [
      "100%|██████████| 57173/57173 [00:02<00:00, 26661.52it/s]\n",
      "  0%|          | 0/57173 [00:00<?, ?it/s]"
     ]
    },
    {
     "name": "stdout",
     "output_type": "stream",
     "text": [
      "245\n"
     ]
    },
    {
     "name": "stderr",
     "output_type": "stream",
     "text": [
      "100%|██████████| 57173/57173 [00:02<00:00, 26497.61it/s]\n",
      "  0%|          | 0/57173 [00:00<?, ?it/s]"
     ]
    },
    {
     "name": "stdout",
     "output_type": "stream",
     "text": [
      "246\n"
     ]
    },
    {
     "name": "stderr",
     "output_type": "stream",
     "text": [
      "100%|██████████| 57173/57173 [00:02<00:00, 26271.30it/s]\n",
      "  0%|          | 0/57173 [00:00<?, ?it/s]"
     ]
    },
    {
     "name": "stdout",
     "output_type": "stream",
     "text": [
      "247\n"
     ]
    },
    {
     "name": "stderr",
     "output_type": "stream",
     "text": [
      "100%|██████████| 57173/57173 [00:02<00:00, 26384.86it/s]\n",
      "  0%|          | 0/57173 [00:00<?, ?it/s]"
     ]
    },
    {
     "name": "stdout",
     "output_type": "stream",
     "text": [
      "248\n"
     ]
    },
    {
     "name": "stderr",
     "output_type": "stream",
     "text": [
      "100%|██████████| 57173/57173 [00:02<00:00, 26089.13it/s]\n",
      "  0%|          | 0/57173 [00:00<?, ?it/s]"
     ]
    },
    {
     "name": "stdout",
     "output_type": "stream",
     "text": [
      "249\n"
     ]
    },
    {
     "name": "stderr",
     "output_type": "stream",
     "text": [
      "100%|██████████| 57173/57173 [00:02<00:00, 26386.31it/s]\n",
      "  0%|          | 0/57173 [00:00<?, ?it/s]"
     ]
    },
    {
     "name": "stdout",
     "output_type": "stream",
     "text": [
      "250\n"
     ]
    },
    {
     "name": "stderr",
     "output_type": "stream",
     "text": [
      "100%|██████████| 57173/57173 [00:02<00:00, 26228.83it/s]\n",
      "  0%|          | 0/57173 [00:00<?, ?it/s]"
     ]
    },
    {
     "name": "stdout",
     "output_type": "stream",
     "text": [
      "251\n"
     ]
    },
    {
     "name": "stderr",
     "output_type": "stream",
     "text": [
      "100%|██████████| 57173/57173 [00:02<00:00, 26262.19it/s]\n",
      "  0%|          | 0/57173 [00:00<?, ?it/s]"
     ]
    },
    {
     "name": "stdout",
     "output_type": "stream",
     "text": [
      "252\n"
     ]
    },
    {
     "name": "stderr",
     "output_type": "stream",
     "text": [
      "100%|██████████| 57173/57173 [00:02<00:00, 26138.14it/s]\n",
      "  0%|          | 0/57173 [00:00<?, ?it/s]"
     ]
    },
    {
     "name": "stdout",
     "output_type": "stream",
     "text": [
      "253\n"
     ]
    },
    {
     "name": "stderr",
     "output_type": "stream",
     "text": [
      "100%|██████████| 57173/57173 [00:02<00:00, 25884.76it/s]\n",
      "  0%|          | 0/57173 [00:00<?, ?it/s]"
     ]
    },
    {
     "name": "stdout",
     "output_type": "stream",
     "text": [
      "254\n"
     ]
    },
    {
     "name": "stderr",
     "output_type": "stream",
     "text": [
      "100%|██████████| 57173/57173 [00:02<00:00, 25923.44it/s]\n",
      "  0%|          | 0/57173 [00:00<?, ?it/s]"
     ]
    },
    {
     "name": "stdout",
     "output_type": "stream",
     "text": [
      "255\n"
     ]
    },
    {
     "name": "stderr",
     "output_type": "stream",
     "text": [
      "100%|██████████| 57173/57173 [00:02<00:00, 25933.69it/s]\n",
      "  0%|          | 0/57173 [00:00<?, ?it/s]"
     ]
    },
    {
     "name": "stdout",
     "output_type": "stream",
     "text": [
      "256\n"
     ]
    },
    {
     "name": "stderr",
     "output_type": "stream",
     "text": [
      "100%|██████████| 57173/57173 [00:02<00:00, 24910.24it/s]\n",
      "  0%|          | 0/57173 [00:00<?, ?it/s]"
     ]
    },
    {
     "name": "stdout",
     "output_type": "stream",
     "text": [
      "257\n"
     ]
    },
    {
     "name": "stderr",
     "output_type": "stream",
     "text": [
      "100%|██████████| 57173/57173 [00:02<00:00, 25855.46it/s]\n",
      "  0%|          | 0/57173 [00:00<?, ?it/s]"
     ]
    },
    {
     "name": "stdout",
     "output_type": "stream",
     "text": [
      "258\n"
     ]
    },
    {
     "name": "stderr",
     "output_type": "stream",
     "text": [
      "100%|██████████| 57173/57173 [00:02<00:00, 25903.71it/s]\n",
      "  0%|          | 0/57173 [00:00<?, ?it/s]"
     ]
    },
    {
     "name": "stdout",
     "output_type": "stream",
     "text": [
      "259\n"
     ]
    },
    {
     "name": "stderr",
     "output_type": "stream",
     "text": [
      "100%|██████████| 57173/57173 [00:02<00:00, 25791.87it/s]\n",
      "  0%|          | 0/57173 [00:00<?, ?it/s]"
     ]
    },
    {
     "name": "stdout",
     "output_type": "stream",
     "text": [
      "260\n"
     ]
    },
    {
     "name": "stderr",
     "output_type": "stream",
     "text": [
      "100%|██████████| 57173/57173 [00:02<00:00, 25960.50it/s]\n",
      "  0%|          | 0/57173 [00:00<?, ?it/s]"
     ]
    },
    {
     "name": "stdout",
     "output_type": "stream",
     "text": [
      "261\n"
     ]
    },
    {
     "name": "stderr",
     "output_type": "stream",
     "text": [
      "100%|██████████| 57173/57173 [00:02<00:00, 25765.79it/s]\n",
      "  0%|          | 0/57173 [00:00<?, ?it/s]"
     ]
    },
    {
     "name": "stdout",
     "output_type": "stream",
     "text": [
      "262\n"
     ]
    },
    {
     "name": "stderr",
     "output_type": "stream",
     "text": [
      "100%|██████████| 57173/57173 [00:02<00:00, 25792.67it/s]\n",
      "  0%|          | 0/57173 [00:00<?, ?it/s]"
     ]
    },
    {
     "name": "stdout",
     "output_type": "stream",
     "text": [
      "263\n"
     ]
    },
    {
     "name": "stderr",
     "output_type": "stream",
     "text": [
      "100%|██████████| 57173/57173 [00:02<00:00, 25857.14it/s]\n",
      "  0%|          | 0/57173 [00:00<?, ?it/s]"
     ]
    },
    {
     "name": "stdout",
     "output_type": "stream",
     "text": [
      "264\n"
     ]
    },
    {
     "name": "stderr",
     "output_type": "stream",
     "text": [
      "100%|██████████| 57173/57173 [00:02<00:00, 25706.86it/s]\n",
      "  0%|          | 0/57173 [00:00<?, ?it/s]"
     ]
    },
    {
     "name": "stdout",
     "output_type": "stream",
     "text": [
      "265\n"
     ]
    },
    {
     "name": "stderr",
     "output_type": "stream",
     "text": [
      "100%|██████████| 57173/57173 [00:02<00:00, 25763.47it/s]\n",
      "  0%|          | 0/57173 [00:00<?, ?it/s]"
     ]
    },
    {
     "name": "stdout",
     "output_type": "stream",
     "text": [
      "266\n"
     ]
    },
    {
     "name": "stderr",
     "output_type": "stream",
     "text": [
      "100%|██████████| 57173/57173 [00:02<00:00, 25641.06it/s]\n",
      "  0%|          | 0/57173 [00:00<?, ?it/s]"
     ]
    },
    {
     "name": "stdout",
     "output_type": "stream",
     "text": [
      "267\n"
     ]
    },
    {
     "name": "stderr",
     "output_type": "stream",
     "text": [
      "100%|██████████| 57173/57173 [00:02<00:00, 25272.34it/s]\n",
      "  0%|          | 0/57173 [00:00<?, ?it/s]"
     ]
    },
    {
     "name": "stdout",
     "output_type": "stream",
     "text": [
      "268\n"
     ]
    },
    {
     "name": "stderr",
     "output_type": "stream",
     "text": [
      "100%|██████████| 57173/57173 [00:02<00:00, 25299.75it/s]\n",
      "  0%|          | 0/57173 [00:00<?, ?it/s]"
     ]
    },
    {
     "name": "stdout",
     "output_type": "stream",
     "text": [
      "269\n"
     ]
    },
    {
     "name": "stderr",
     "output_type": "stream",
     "text": [
      "100%|██████████| 57173/57173 [00:02<00:00, 25582.70it/s]\n",
      "  0%|          | 0/57173 [00:00<?, ?it/s]"
     ]
    },
    {
     "name": "stdout",
     "output_type": "stream",
     "text": [
      "270\n"
     ]
    },
    {
     "name": "stderr",
     "output_type": "stream",
     "text": [
      "100%|██████████| 57173/57173 [00:02<00:00, 25636.92it/s]\n",
      "  0%|          | 0/57173 [00:00<?, ?it/s]"
     ]
    },
    {
     "name": "stdout",
     "output_type": "stream",
     "text": [
      "271\n"
     ]
    },
    {
     "name": "stderr",
     "output_type": "stream",
     "text": [
      "100%|██████████| 57173/57173 [00:02<00:00, 25577.14it/s]\n",
      "  0%|          | 0/57173 [00:00<?, ?it/s]"
     ]
    },
    {
     "name": "stdout",
     "output_type": "stream",
     "text": [
      "272\n"
     ]
    },
    {
     "name": "stderr",
     "output_type": "stream",
     "text": [
      "100%|██████████| 57173/57173 [00:02<00:00, 25201.13it/s]\n",
      "  0%|          | 0/57173 [00:00<?, ?it/s]"
     ]
    },
    {
     "name": "stdout",
     "output_type": "stream",
     "text": [
      "273\n"
     ]
    },
    {
     "name": "stderr",
     "output_type": "stream",
     "text": [
      "100%|██████████| 57173/57173 [00:02<00:00, 25367.83it/s]\n",
      "  0%|          | 0/57173 [00:00<?, ?it/s]"
     ]
    },
    {
     "name": "stdout",
     "output_type": "stream",
     "text": [
      "274\n"
     ]
    },
    {
     "name": "stderr",
     "output_type": "stream",
     "text": [
      "100%|██████████| 57173/57173 [00:02<00:00, 25487.08it/s]\n",
      "  0%|          | 0/57173 [00:00<?, ?it/s]"
     ]
    },
    {
     "name": "stdout",
     "output_type": "stream",
     "text": [
      "275\n"
     ]
    },
    {
     "name": "stderr",
     "output_type": "stream",
     "text": [
      "100%|██████████| 57173/57173 [00:02<00:00, 25436.17it/s]\n",
      "  0%|          | 0/57173 [00:00<?, ?it/s]"
     ]
    },
    {
     "name": "stdout",
     "output_type": "stream",
     "text": [
      "276\n"
     ]
    },
    {
     "name": "stderr",
     "output_type": "stream",
     "text": [
      "100%|██████████| 57173/57173 [00:02<00:00, 25306.09it/s]\n",
      "  0%|          | 0/57173 [00:00<?, ?it/s]"
     ]
    },
    {
     "name": "stdout",
     "output_type": "stream",
     "text": [
      "277\n"
     ]
    },
    {
     "name": "stderr",
     "output_type": "stream",
     "text": [
      "100%|██████████| 57173/57173 [00:02<00:00, 25308.37it/s]\n",
      "  0%|          | 0/57173 [00:00<?, ?it/s]"
     ]
    },
    {
     "name": "stdout",
     "output_type": "stream",
     "text": [
      "278\n"
     ]
    },
    {
     "name": "stderr",
     "output_type": "stream",
     "text": [
      "100%|██████████| 57173/57173 [00:02<00:00, 25214.51it/s]\n",
      "  0%|          | 0/57173 [00:00<?, ?it/s]"
     ]
    },
    {
     "name": "stdout",
     "output_type": "stream",
     "text": [
      "279\n"
     ]
    },
    {
     "name": "stderr",
     "output_type": "stream",
     "text": [
      "100%|██████████| 57173/57173 [00:02<00:00, 25251.16it/s]\n",
      "  0%|          | 0/57173 [00:00<?, ?it/s]"
     ]
    },
    {
     "name": "stdout",
     "output_type": "stream",
     "text": [
      "280\n"
     ]
    },
    {
     "name": "stderr",
     "output_type": "stream",
     "text": [
      "100%|██████████| 57173/57173 [00:02<00:00, 25234.91it/s]\n",
      "  0%|          | 0/57173 [00:00<?, ?it/s]"
     ]
    },
    {
     "name": "stdout",
     "output_type": "stream",
     "text": [
      "281\n"
     ]
    },
    {
     "name": "stderr",
     "output_type": "stream",
     "text": [
      "100%|██████████| 57173/57173 [00:02<00:00, 24915.62it/s]\n",
      "  0%|          | 0/57173 [00:00<?, ?it/s]"
     ]
    },
    {
     "name": "stdout",
     "output_type": "stream",
     "text": [
      "282\n"
     ]
    },
    {
     "name": "stderr",
     "output_type": "stream",
     "text": [
      "100%|██████████| 57173/57173 [00:02<00:00, 24924.60it/s]\n",
      "  0%|          | 0/57173 [00:00<?, ?it/s]"
     ]
    },
    {
     "name": "stdout",
     "output_type": "stream",
     "text": [
      "283\n"
     ]
    },
    {
     "name": "stderr",
     "output_type": "stream",
     "text": [
      "100%|██████████| 57173/57173 [00:02<00:00, 25117.78it/s]\n",
      "  0%|          | 0/57173 [00:00<?, ?it/s]"
     ]
    },
    {
     "name": "stdout",
     "output_type": "stream",
     "text": [
      "284\n"
     ]
    },
    {
     "name": "stderr",
     "output_type": "stream",
     "text": [
      "100%|██████████| 57173/57173 [00:02<00:00, 25087.44it/s]\n",
      "  0%|          | 0/57173 [00:00<?, ?it/s]"
     ]
    },
    {
     "name": "stdout",
     "output_type": "stream",
     "text": [
      "285\n"
     ]
    },
    {
     "name": "stderr",
     "output_type": "stream",
     "text": [
      "100%|██████████| 57173/57173 [00:02<00:00, 24891.49it/s]\n",
      "  0%|          | 0/57173 [00:00<?, ?it/s]"
     ]
    },
    {
     "name": "stdout",
     "output_type": "stream",
     "text": [
      "286\n"
     ]
    },
    {
     "name": "stderr",
     "output_type": "stream",
     "text": [
      "100%|██████████| 57173/57173 [00:02<00:00, 24825.41it/s]\n",
      "  0%|          | 0/57173 [00:00<?, ?it/s]"
     ]
    },
    {
     "name": "stdout",
     "output_type": "stream",
     "text": [
      "287\n"
     ]
    },
    {
     "name": "stderr",
     "output_type": "stream",
     "text": [
      "100%|██████████| 57173/57173 [00:02<00:00, 24892.18it/s]\n",
      "  0%|          | 0/57173 [00:00<?, ?it/s]"
     ]
    },
    {
     "name": "stdout",
     "output_type": "stream",
     "text": [
      "288\n"
     ]
    },
    {
     "name": "stderr",
     "output_type": "stream",
     "text": [
      "100%|██████████| 57173/57173 [00:02<00:00, 24431.77it/s]\n",
      "  0%|          | 0/57173 [00:00<?, ?it/s]"
     ]
    },
    {
     "name": "stdout",
     "output_type": "stream",
     "text": [
      "289\n"
     ]
    },
    {
     "name": "stderr",
     "output_type": "stream",
     "text": [
      "100%|██████████| 57173/57173 [00:02<00:00, 25007.12it/s]\n",
      "  0%|          | 0/57173 [00:00<?, ?it/s]"
     ]
    },
    {
     "name": "stdout",
     "output_type": "stream",
     "text": [
      "290\n"
     ]
    },
    {
     "name": "stderr",
     "output_type": "stream",
     "text": [
      "100%|██████████| 57173/57173 [00:02<00:00, 24509.99it/s]\n",
      "  0%|          | 0/57173 [00:00<?, ?it/s]"
     ]
    },
    {
     "name": "stdout",
     "output_type": "stream",
     "text": [
      "291\n"
     ]
    },
    {
     "name": "stderr",
     "output_type": "stream",
     "text": [
      "100%|██████████| 57173/57173 [00:02<00:00, 22994.02it/s]\n",
      "  0%|          | 0/57173 [00:00<?, ?it/s]"
     ]
    },
    {
     "name": "stdout",
     "output_type": "stream",
     "text": [
      "292\n"
     ]
    },
    {
     "name": "stderr",
     "output_type": "stream",
     "text": [
      "100%|██████████| 57173/57173 [00:02<00:00, 22904.11it/s]\n",
      "  0%|          | 0/57173 [00:00<?, ?it/s]"
     ]
    },
    {
     "name": "stdout",
     "output_type": "stream",
     "text": [
      "293\n"
     ]
    },
    {
     "name": "stderr",
     "output_type": "stream",
     "text": [
      "100%|██████████| 57173/57173 [00:02<00:00, 22560.54it/s]\n",
      "  0%|          | 0/57173 [00:00<?, ?it/s]"
     ]
    },
    {
     "name": "stdout",
     "output_type": "stream",
     "text": [
      "294\n"
     ]
    },
    {
     "name": "stderr",
     "output_type": "stream",
     "text": [
      "100%|██████████| 57173/57173 [00:02<00:00, 22499.03it/s]\n",
      "  0%|          | 0/57173 [00:00<?, ?it/s]"
     ]
    },
    {
     "name": "stdout",
     "output_type": "stream",
     "text": [
      "295\n"
     ]
    },
    {
     "name": "stderr",
     "output_type": "stream",
     "text": [
      "100%|██████████| 57173/57173 [00:02<00:00, 22748.46it/s]\n",
      "  0%|          | 0/57173 [00:00<?, ?it/s]"
     ]
    },
    {
     "name": "stdout",
     "output_type": "stream",
     "text": [
      "296\n"
     ]
    },
    {
     "name": "stderr",
     "output_type": "stream",
     "text": [
      "100%|██████████| 57173/57173 [00:02<00:00, 21851.57it/s]\n",
      "  0%|          | 0/57173 [00:00<?, ?it/s]"
     ]
    },
    {
     "name": "stdout",
     "output_type": "stream",
     "text": [
      "297\n"
     ]
    },
    {
     "name": "stderr",
     "output_type": "stream",
     "text": [
      "100%|██████████| 57173/57173 [00:02<00:00, 22708.10it/s]\n",
      "  0%|          | 0/57173 [00:00<?, ?it/s]"
     ]
    },
    {
     "name": "stdout",
     "output_type": "stream",
     "text": [
      "298\n"
     ]
    },
    {
     "name": "stderr",
     "output_type": "stream",
     "text": [
      "100%|██████████| 57173/57173 [00:02<00:00, 21916.46it/s]\n",
      "  0%|          | 0/57173 [00:00<?, ?it/s]"
     ]
    },
    {
     "name": "stdout",
     "output_type": "stream",
     "text": [
      "299\n"
     ]
    },
    {
     "name": "stderr",
     "output_type": "stream",
     "text": [
      "100%|██████████| 57173/57173 [00:02<00:00, 22364.78it/s]\n",
      "  0%|          | 0/57173 [00:00<?, ?it/s]"
     ]
    },
    {
     "name": "stdout",
     "output_type": "stream",
     "text": [
      "300\n"
     ]
    },
    {
     "name": "stderr",
     "output_type": "stream",
     "text": [
      "100%|██████████| 57173/57173 [00:02<00:00, 22536.80it/s]\n",
      "  0%|          | 0/57173 [00:00<?, ?it/s]"
     ]
    },
    {
     "name": "stdout",
     "output_type": "stream",
     "text": [
      "301\n"
     ]
    },
    {
     "name": "stderr",
     "output_type": "stream",
     "text": [
      "100%|██████████| 57173/57173 [00:02<00:00, 22641.18it/s]\n",
      "  0%|          | 0/57173 [00:00<?, ?it/s]"
     ]
    },
    {
     "name": "stdout",
     "output_type": "stream",
     "text": [
      "302\n"
     ]
    },
    {
     "name": "stderr",
     "output_type": "stream",
     "text": [
      "100%|██████████| 57173/57173 [00:02<00:00, 22462.82it/s]\n",
      "  0%|          | 0/57173 [00:00<?, ?it/s]"
     ]
    },
    {
     "name": "stdout",
     "output_type": "stream",
     "text": [
      "303\n"
     ]
    },
    {
     "name": "stderr",
     "output_type": "stream",
     "text": [
      "100%|██████████| 57173/57173 [00:02<00:00, 22482.88it/s]\n",
      "  0%|          | 0/57173 [00:00<?, ?it/s]"
     ]
    },
    {
     "name": "stdout",
     "output_type": "stream",
     "text": [
      "304\n"
     ]
    },
    {
     "name": "stderr",
     "output_type": "stream",
     "text": [
      "100%|██████████| 57173/57173 [00:02<00:00, 22450.25it/s]"
     ]
    },
    {
     "name": "stdout",
     "output_type": "stream",
     "text": [
      "305\n"
     ]
    },
    {
     "name": "stderr",
     "output_type": "stream",
     "text": [
      "\n"
     ]
    }
   ],
   "source": [
    "for index, cat in enumerate(sortedCat):\n",
    "    if cat[1] < 8:\n",
    "        break\n",
    "        \n",
    "    res[cat[0]] = res.progress_apply(lambda row: (1 if cat[0] in row['categories'] else 0), axis=1)\n",
    "    print(index)"
   ]
  },
  {
   "cell_type": "code",
   "execution_count": 20,
   "metadata": {},
   "outputs": [
    {
     "name": "stdout",
     "output_type": "stream",
     "text": [
      "True\n"
     ]
    }
   ],
   "source": [
    "for index, row in res.head(1).iterrows():\n",
    "    print(row['attributes']['GoodForKids'])"
   ]
  },
  {
   "cell_type": "code",
   "execution_count": 11,
   "metadata": {},
   "outputs": [
    {
     "data": {
      "text/plain": [
       "{'BikeParking': 'False',\n",
       " 'BusinessAcceptsCreditCards': 'True',\n",
       " 'BusinessParking': \"{'garage': False, 'street': True, 'validated': False, 'lot': False, 'valet': False}\",\n",
       " 'GoodForKids': 'True',\n",
       " 'HasTV': 'True',\n",
       " 'NoiseLevel': 'average',\n",
       " 'OutdoorSeating': 'False',\n",
       " 'RestaurantsAttire': 'casual',\n",
       " 'RestaurantsDelivery': 'False',\n",
       " 'RestaurantsGoodForGroups': 'True',\n",
       " 'RestaurantsPriceRange2': '2',\n",
       " 'RestaurantsReservations': 'True',\n",
       " 'RestaurantsTakeOut': 'True'}"
      ]
     },
     "execution_count": 11,
     "metadata": {},
     "output_type": "execute_result"
    }
   ],
   "source": [
    "res['Alcohol'] = res.progress_apply(lambda row: (1 if cat[0] in row['categories'] else 0), axis=1)"
   ]
  },
  {
   "cell_type": "code",
   "execution_count": 38,
   "metadata": {},
   "outputs": [
    {
     "data": {
      "text/html": [
       "<div>\n",
       "<style scoped>\n",
       "    .dataframe tbody tr th:only-of-type {\n",
       "        vertical-align: middle;\n",
       "    }\n",
       "\n",
       "    .dataframe tbody tr th {\n",
       "        vertical-align: top;\n",
       "    }\n",
       "\n",
       "    .dataframe thead th {\n",
       "        text-align: right;\n",
       "    }\n",
       "</style>\n",
       "<table border=\"1\" class=\"dataframe\">\n",
       "  <thead>\n",
       "    <tr style=\"text-align: right;\">\n",
       "      <th></th>\n",
       "      <th>attributes</th>\n",
       "      <th>business_id</th>\n",
       "      <th>categories</th>\n",
       "      <th>hours</th>\n",
       "      <th>is_open</th>\n",
       "      <th>latitude</th>\n",
       "      <th>longitude</th>\n",
       "      <th>name</th>\n",
       "      <th>review_count</th>\n",
       "      <th>stars</th>\n",
       "    </tr>\n",
       "  </thead>\n",
       "  <tbody>\n",
       "    <tr>\n",
       "      <th>79645</th>\n",
       "      <td>{'BusinessAcceptsBitcoin': 'False', 'BusinessA...</td>\n",
       "      <td>Hfr6EzpQDozNFPH4By9Cyw</td>\n",
       "      <td>Real Estate, Hot Dogs, Property Management, Re...</td>\n",
       "      <td>{'Monday': '8:0-17:0', 'Tuesday': '8:0-17:0', ...</td>\n",
       "      <td>1</td>\n",
       "      <td>33.617367</td>\n",
       "      <td>-111.909230</td>\n",
       "      <td>MXP Real Estate Investment</td>\n",
       "      <td>4</td>\n",
       "      <td>4.0</td>\n",
       "    </tr>\n",
       "    <tr>\n",
       "      <th>140700</th>\n",
       "      <td>{'Alcohol': 'none', 'Ambience': '{'romantic': ...</td>\n",
       "      <td>AqWBhU6SM7n6iY_q6o46Tw</td>\n",
       "      <td>Restaurants, Lawyers, Breakfast &amp; Brunch, Bank...</td>\n",
       "      <td>{'Tuesday': '11:0-15:0', 'Wednesday': '11:0-15...</td>\n",
       "      <td>0</td>\n",
       "      <td>43.764516</td>\n",
       "      <td>-79.475644</td>\n",
       "      <td>Street Feast Grill</td>\n",
       "      <td>4</td>\n",
       "      <td>5.0</td>\n",
       "    </tr>\n",
       "  </tbody>\n",
       "</table>\n",
       "</div>"
      ],
      "text/plain": [
       "                                               attributes  \\\n",
       "79645   {'BusinessAcceptsBitcoin': 'False', 'BusinessA...   \n",
       "140700  {'Alcohol': 'none', 'Ambience': '{'romantic': ...   \n",
       "\n",
       "                   business_id  \\\n",
       "79645   Hfr6EzpQDozNFPH4By9Cyw   \n",
       "140700  AqWBhU6SM7n6iY_q6o46Tw   \n",
       "\n",
       "                                               categories  \\\n",
       "79645   Real Estate, Hot Dogs, Property Management, Re...   \n",
       "140700  Restaurants, Lawyers, Breakfast & Brunch, Bank...   \n",
       "\n",
       "                                                    hours  is_open   latitude  \\\n",
       "79645   {'Monday': '8:0-17:0', 'Tuesday': '8:0-17:0', ...        1  33.617367   \n",
       "140700  {'Tuesday': '11:0-15:0', 'Wednesday': '11:0-15...        0  43.764516   \n",
       "\n",
       "         longitude                        name  review_count  stars  \n",
       "79645  -111.909230  MXP Real Estate Investment             4    4.0  \n",
       "140700  -79.475644          Street Feast Grill             4    5.0  "
      ]
     },
     "execution_count": 38,
     "metadata": {},
     "output_type": "execute_result"
    }
   ],
   "source": [
    "res[res['categories'].str.contains('Investing')]#.iloc[0]['categories']"
   ]
  },
  {
   "cell_type": "code",
   "execution_count": null,
   "metadata": {},
   "outputs": [],
   "source": [
    "del res['attributes']\n",
    "del res['business_id']\n",
    "del res['categories']\n",
    "del res['name']\n",
    "del res['hours']\n",
    "del res['Restaurants']"
   ]
  },
  {
   "cell_type": "code",
   "execution_count": 16,
   "metadata": {},
   "outputs": [
    {
     "data": {
      "text/html": [
       "<div>\n",
       "<style scoped>\n",
       "    .dataframe tbody tr th:only-of-type {\n",
       "        vertical-align: middle;\n",
       "    }\n",
       "\n",
       "    .dataframe tbody tr th {\n",
       "        vertical-align: top;\n",
       "    }\n",
       "\n",
       "    .dataframe thead th {\n",
       "        text-align: right;\n",
       "    }\n",
       "</style>\n",
       "<table border=\"1\" class=\"dataframe\">\n",
       "  <thead>\n",
       "    <tr style=\"text-align: right;\">\n",
       "      <th></th>\n",
       "      <th>attributes</th>\n",
       "      <th>business_id</th>\n",
       "      <th>categories</th>\n",
       "      <th>hours</th>\n",
       "      <th>is_open</th>\n",
       "      <th>latitude</th>\n",
       "      <th>longitude</th>\n",
       "      <th>name</th>\n",
       "      <th>review_count</th>\n",
       "      <th>stars</th>\n",
       "      <th>...</th>\n",
       "      <th>Libraries</th>\n",
       "      <th>Armenian</th>\n",
       "      <th>Massage</th>\n",
       "      <th>Beer Garden</th>\n",
       "      <th>Coffee &amp; Tea Supplies</th>\n",
       "      <th>Syrian</th>\n",
       "      <th>Musicians</th>\n",
       "      <th>Airports</th>\n",
       "      <th>Appliances &amp; Repair</th>\n",
       "      <th>Financial Services</th>\n",
       "    </tr>\n",
       "  </thead>\n",
       "  <tbody>\n",
       "    <tr>\n",
       "      <th>0</th>\n",
       "      <td>{'BikeParking': 'False', 'BusinessAcceptsCredi...</td>\n",
       "      <td>Apn5Q_b6Nz61Tq4XzPdf9A</td>\n",
       "      <td>Tours, Breweries, Pizza, Restaurants, Food, Ho...</td>\n",
       "      <td>{'Monday': '8:30-17:0', 'Tuesday': '11:0-21:0'...</td>\n",
       "      <td>1</td>\n",
       "      <td>51.091813</td>\n",
       "      <td>-114.031675</td>\n",
       "      <td>Minhas Micro Brewery</td>\n",
       "      <td>24</td>\n",
       "      <td>4.0</td>\n",
       "      <td>...</td>\n",
       "      <td>0</td>\n",
       "      <td>0</td>\n",
       "      <td>0</td>\n",
       "      <td>0</td>\n",
       "      <td>0</td>\n",
       "      <td>0</td>\n",
       "      <td>0</td>\n",
       "      <td>0</td>\n",
       "      <td>0</td>\n",
       "      <td>0</td>\n",
       "    </tr>\n",
       "    <tr>\n",
       "      <th>1</th>\n",
       "      <td>{'Alcohol': 'none', 'BikeParking': 'False', 'B...</td>\n",
       "      <td>AjEbIBw6ZFfln7ePHha9PA</td>\n",
       "      <td>Chicken Wings, Burgers, Caterers, Street Vendo...</td>\n",
       "      <td>{'Friday': '17:0-23:0', 'Saturday': '17:0-23:0...</td>\n",
       "      <td>0</td>\n",
       "      <td>35.960734</td>\n",
       "      <td>-114.939821</td>\n",
       "      <td>CK'S BBQ &amp; Catering</td>\n",
       "      <td>3</td>\n",
       "      <td>4.5</td>\n",
       "      <td>...</td>\n",
       "      <td>0</td>\n",
       "      <td>0</td>\n",
       "      <td>0</td>\n",
       "      <td>0</td>\n",
       "      <td>0</td>\n",
       "      <td>0</td>\n",
       "      <td>0</td>\n",
       "      <td>0</td>\n",
       "      <td>0</td>\n",
       "      <td>0</td>\n",
       "    </tr>\n",
       "    <tr>\n",
       "      <th>2</th>\n",
       "      <td>{'Alcohol': 'beer_and_wine', 'Ambience': '{'ro...</td>\n",
       "      <td>O8S5hYJ1SMc8fA4QBtVujA</td>\n",
       "      <td>Breakfast &amp; Brunch, Restaurants, French, Sandw...</td>\n",
       "      <td>{'Monday': '10:0-22:0', 'Tuesday': '10:0-22:0'...</td>\n",
       "      <td>0</td>\n",
       "      <td>45.540503</td>\n",
       "      <td>-73.599300</td>\n",
       "      <td>La Bastringue</td>\n",
       "      <td>5</td>\n",
       "      <td>4.0</td>\n",
       "      <td>...</td>\n",
       "      <td>0</td>\n",
       "      <td>0</td>\n",
       "      <td>0</td>\n",
       "      <td>0</td>\n",
       "      <td>0</td>\n",
       "      <td>0</td>\n",
       "      <td>0</td>\n",
       "      <td>0</td>\n",
       "      <td>0</td>\n",
       "      <td>0</td>\n",
       "    </tr>\n",
       "    <tr>\n",
       "      <th>7</th>\n",
       "      <td>{'Alcohol': 'none', 'BusinessAcceptsCreditCard...</td>\n",
       "      <td>6OuOZAok8ikONMS_T3EzXg</td>\n",
       "      <td>Restaurants, Thai</td>\n",
       "      <td>None</td>\n",
       "      <td>1</td>\n",
       "      <td>43.712946</td>\n",
       "      <td>-79.632763</td>\n",
       "      <td>Thai One On</td>\n",
       "      <td>7</td>\n",
       "      <td>2.0</td>\n",
       "      <td>...</td>\n",
       "      <td>0</td>\n",
       "      <td>0</td>\n",
       "      <td>0</td>\n",
       "      <td>0</td>\n",
       "      <td>0</td>\n",
       "      <td>0</td>\n",
       "      <td>0</td>\n",
       "      <td>0</td>\n",
       "      <td>0</td>\n",
       "      <td>0</td>\n",
       "    </tr>\n",
       "    <tr>\n",
       "      <th>8</th>\n",
       "      <td>{'Alcohol': 'none', 'Ambience': '{'romantic': ...</td>\n",
       "      <td>8-NRKkPY1UiFXW20WXKiXg</td>\n",
       "      <td>Mexican, Restaurants</td>\n",
       "      <td>{'Monday': '0:0-0:0', 'Tuesday': '0:0-0:0', 'W...</td>\n",
       "      <td>1</td>\n",
       "      <td>33.448106</td>\n",
       "      <td>-112.341302</td>\n",
       "      <td>Filiberto's Mexican Food</td>\n",
       "      <td>40</td>\n",
       "      <td>2.5</td>\n",
       "      <td>...</td>\n",
       "      <td>0</td>\n",
       "      <td>0</td>\n",
       "      <td>0</td>\n",
       "      <td>0</td>\n",
       "      <td>0</td>\n",
       "      <td>0</td>\n",
       "      <td>0</td>\n",
       "      <td>0</td>\n",
       "      <td>0</td>\n",
       "      <td>0</td>\n",
       "    </tr>\n",
       "    <tr>\n",
       "      <th>10</th>\n",
       "      <td>{'GoodForKids': 'True', 'NoiseLevel': 'loud', ...</td>\n",
       "      <td>KapTdGyGs7RK0c68Z6hhhg</td>\n",
       "      <td>Restaurants, Japanese</td>\n",
       "      <td>{'Monday': '11:30-23:0', 'Tuesday': '11:30-23:...</td>\n",
       "      <td>0</td>\n",
       "      <td>43.862484</td>\n",
       "      <td>-79.306960</td>\n",
       "      <td>Sushi 8</td>\n",
       "      <td>12</td>\n",
       "      <td>1.5</td>\n",
       "      <td>...</td>\n",
       "      <td>0</td>\n",
       "      <td>0</td>\n",
       "      <td>0</td>\n",
       "      <td>0</td>\n",
       "      <td>0</td>\n",
       "      <td>0</td>\n",
       "      <td>0</td>\n",
       "      <td>0</td>\n",
       "      <td>0</td>\n",
       "      <td>0</td>\n",
       "    </tr>\n",
       "    <tr>\n",
       "      <th>11</th>\n",
       "      <td>{'Alcohol': 'full_bar', 'Ambience': '{'romanti...</td>\n",
       "      <td>tZnSodhPwNr4bzrwJ1CSbw</td>\n",
       "      <td>Cajun/Creole, Southern, Restaurants</td>\n",
       "      <td>{'Tuesday': '17:0-1:0', 'Wednesday': '17:0-1:0...</td>\n",
       "      <td>0</td>\n",
       "      <td>43.664125</td>\n",
       "      <td>-79.411886</td>\n",
       "      <td>Southern Accent Restaurant</td>\n",
       "      <td>146</td>\n",
       "      <td>4.0</td>\n",
       "      <td>...</td>\n",
       "      <td>0</td>\n",
       "      <td>0</td>\n",
       "      <td>0</td>\n",
       "      <td>0</td>\n",
       "      <td>0</td>\n",
       "      <td>0</td>\n",
       "      <td>0</td>\n",
       "      <td>0</td>\n",
       "      <td>0</td>\n",
       "      <td>0</td>\n",
       "    </tr>\n",
       "    <tr>\n",
       "      <th>12</th>\n",
       "      <td>{'Alcohol': 'full_bar', 'Ambience': '{'romanti...</td>\n",
       "      <td>_c3ixq9jYKxhLUB0czi0ug</td>\n",
       "      <td>Bars, Sports Bars, Dive Bars, Burgers, Nightli...</td>\n",
       "      <td>{'Monday': '11:0-22:0', 'Tuesday': '11:0-22:0'...</td>\n",
       "      <td>1</td>\n",
       "      <td>33.479807</td>\n",
       "      <td>-112.091188</td>\n",
       "      <td>Original Hamburger Works</td>\n",
       "      <td>277</td>\n",
       "      <td>4.0</td>\n",
       "      <td>...</td>\n",
       "      <td>0</td>\n",
       "      <td>0</td>\n",
       "      <td>0</td>\n",
       "      <td>0</td>\n",
       "      <td>0</td>\n",
       "      <td>0</td>\n",
       "      <td>0</td>\n",
       "      <td>0</td>\n",
       "      <td>0</td>\n",
       "      <td>0</td>\n",
       "    </tr>\n",
       "    <tr>\n",
       "      <th>13</th>\n",
       "      <td>{'Alcohol': 'full_bar', 'Ambience': '{'romanti...</td>\n",
       "      <td>bBUMib8l6Me1ZB1_Qkezkg</td>\n",
       "      <td>Restaurants, Pakistani, Indian, Middle Eastern</td>\n",
       "      <td>None</td>\n",
       "      <td>1</td>\n",
       "      <td>45.518036</td>\n",
       "      <td>-73.582174</td>\n",
       "      <td>Mysore Indian Cuisine</td>\n",
       "      <td>19</td>\n",
       "      <td>3.5</td>\n",
       "      <td>...</td>\n",
       "      <td>0</td>\n",
       "      <td>0</td>\n",
       "      <td>0</td>\n",
       "      <td>0</td>\n",
       "      <td>0</td>\n",
       "      <td>0</td>\n",
       "      <td>0</td>\n",
       "      <td>0</td>\n",
       "      <td>0</td>\n",
       "      <td>0</td>\n",
       "    </tr>\n",
       "    <tr>\n",
       "      <th>15</th>\n",
       "      <td>{'BusinessAcceptsCreditCards': 'True', 'Busine...</td>\n",
       "      <td>IbTDLI02Sq50C7B-EWK1sg</td>\n",
       "      <td>Delis, Restaurants, Sandwiches</td>\n",
       "      <td>None</td>\n",
       "      <td>1</td>\n",
       "      <td>51.042469</td>\n",
       "      <td>-114.139574</td>\n",
       "      <td>Safeway Food &amp; Drug</td>\n",
       "      <td>4</td>\n",
       "      <td>2.5</td>\n",
       "      <td>...</td>\n",
       "      <td>0</td>\n",
       "      <td>0</td>\n",
       "      <td>0</td>\n",
       "      <td>0</td>\n",
       "      <td>0</td>\n",
       "      <td>0</td>\n",
       "      <td>0</td>\n",
       "      <td>0</td>\n",
       "      <td>0</td>\n",
       "      <td>0</td>\n",
       "    </tr>\n",
       "    <tr>\n",
       "      <th>16</th>\n",
       "      <td>{'Alcohol': 'full_bar', 'BikeParking': 'True',...</td>\n",
       "      <td>r89Re4FNgVWHgBfjCVZyVw</td>\n",
       "      <td>Nightlife, Bars, American (Traditional), Tapas...</td>\n",
       "      <td>{'Monday': '11:30-23:0', 'Tuesday': '11:30-23:...</td>\n",
       "      <td>0</td>\n",
       "      <td>45.507699</td>\n",
       "      <td>-73.553407</td>\n",
       "      <td>Harlow</td>\n",
       "      <td>12</td>\n",
       "      <td>3.5</td>\n",
       "      <td>...</td>\n",
       "      <td>0</td>\n",
       "      <td>0</td>\n",
       "      <td>0</td>\n",
       "      <td>0</td>\n",
       "      <td>0</td>\n",
       "      <td>0</td>\n",
       "      <td>0</td>\n",
       "      <td>0</td>\n",
       "      <td>0</td>\n",
       "      <td>0</td>\n",
       "    </tr>\n",
       "    <tr>\n",
       "      <th>19</th>\n",
       "      <td>{'BikeParking': 'True', 'BusinessAcceptsCredit...</td>\n",
       "      <td>vJIuDBdu01vCA8y1fwR1OQ</td>\n",
       "      <td>American (Traditional), Food, Bakeries, Restau...</td>\n",
       "      <td>{'Tuesday': '11:0-18:0', 'Wednesday': '11:0-18...</td>\n",
       "      <td>0</td>\n",
       "      <td>36.192284</td>\n",
       "      <td>-115.159272</td>\n",
       "      <td>CakesbyToi</td>\n",
       "      <td>3</td>\n",
       "      <td>1.5</td>\n",
       "      <td>...</td>\n",
       "      <td>0</td>\n",
       "      <td>0</td>\n",
       "      <td>0</td>\n",
       "      <td>0</td>\n",
       "      <td>0</td>\n",
       "      <td>0</td>\n",
       "      <td>0</td>\n",
       "      <td>0</td>\n",
       "      <td>0</td>\n",
       "      <td>0</td>\n",
       "    </tr>\n",
       "    <tr>\n",
       "      <th>21</th>\n",
       "      <td>None</td>\n",
       "      <td>gJ5xSt6147gkcZ9Es0WxlA</td>\n",
       "      <td>Fast Food, Burgers, Restaurants</td>\n",
       "      <td>None</td>\n",
       "      <td>1</td>\n",
       "      <td>41.499989</td>\n",
       "      <td>-81.666375</td>\n",
       "      <td>Rally's Hamburgers</td>\n",
       "      <td>5</td>\n",
       "      <td>3.0</td>\n",
       "      <td>...</td>\n",
       "      <td>0</td>\n",
       "      <td>0</td>\n",
       "      <td>0</td>\n",
       "      <td>0</td>\n",
       "      <td>0</td>\n",
       "      <td>0</td>\n",
       "      <td>0</td>\n",
       "      <td>0</td>\n",
       "      <td>0</td>\n",
       "      <td>0</td>\n",
       "    </tr>\n",
       "    <tr>\n",
       "      <th>22</th>\n",
       "      <td>{'Ambience': '{'romantic': False, 'intimate': ...</td>\n",
       "      <td>3ByGQOVgds2YEu6kzl-XEQ</td>\n",
       "      <td>Nightlife, Bars, American (Traditional), Sport...</td>\n",
       "      <td>None</td>\n",
       "      <td>1</td>\n",
       "      <td>33.495298</td>\n",
       "      <td>-112.236076</td>\n",
       "      <td>Rib Shop</td>\n",
       "      <td>3</td>\n",
       "      <td>2.5</td>\n",
       "      <td>...</td>\n",
       "      <td>0</td>\n",
       "      <td>0</td>\n",
       "      <td>0</td>\n",
       "      <td>0</td>\n",
       "      <td>0</td>\n",
       "      <td>0</td>\n",
       "      <td>0</td>\n",
       "      <td>0</td>\n",
       "      <td>0</td>\n",
       "      <td>0</td>\n",
       "    </tr>\n",
       "    <tr>\n",
       "      <th>24</th>\n",
       "      <td>{'BusinessAcceptsCreditCards': 'True', 'GoodFo...</td>\n",
       "      <td>CeuTRtwsq6w5rztGOyNMPg</td>\n",
       "      <td>Mexican, Restaurants</td>\n",
       "      <td>None</td>\n",
       "      <td>1</td>\n",
       "      <td>33.479671</td>\n",
       "      <td>-112.225173</td>\n",
       "      <td>Salsitas</td>\n",
       "      <td>14</td>\n",
       "      <td>2.5</td>\n",
       "      <td>...</td>\n",
       "      <td>0</td>\n",
       "      <td>0</td>\n",
       "      <td>0</td>\n",
       "      <td>0</td>\n",
       "      <td>0</td>\n",
       "      <td>0</td>\n",
       "      <td>0</td>\n",
       "      <td>0</td>\n",
       "      <td>0</td>\n",
       "      <td>0</td>\n",
       "    </tr>\n",
       "    <tr>\n",
       "      <th>25</th>\n",
       "      <td>{'GoodForKids': 'True', 'RestaurantsGoodForGro...</td>\n",
       "      <td>gsoSAb9t7Ar7Ww6O_3GuOg</td>\n",
       "      <td>Mexican, Restaurants</td>\n",
       "      <td>{'Tuesday': '11:0-21:0', 'Wednesday': '11:0-21...</td>\n",
       "      <td>0</td>\n",
       "      <td>40.009328</td>\n",
       "      <td>-88.576386</td>\n",
       "      <td>Los Toros Numero 2</td>\n",
       "      <td>6</td>\n",
       "      <td>3.5</td>\n",
       "      <td>...</td>\n",
       "      <td>0</td>\n",
       "      <td>0</td>\n",
       "      <td>0</td>\n",
       "      <td>0</td>\n",
       "      <td>0</td>\n",
       "      <td>0</td>\n",
       "      <td>0</td>\n",
       "      <td>0</td>\n",
       "      <td>0</td>\n",
       "      <td>0</td>\n",
       "    </tr>\n",
       "    <tr>\n",
       "      <th>27</th>\n",
       "      <td>{'Ambience': '{'romantic': False, 'intimate': ...</td>\n",
       "      <td>PMDlKLd0Mxj0ngCpuUmE5Q</td>\n",
       "      <td>Restaurants, Food, Canadian (New), Coffee &amp; Tea</td>\n",
       "      <td>None</td>\n",
       "      <td>0</td>\n",
       "      <td>43.670885</td>\n",
       "      <td>-79.392379</td>\n",
       "      <td>The Coffee Mill Restaurant</td>\n",
       "      <td>25</td>\n",
       "      <td>3.5</td>\n",
       "      <td>...</td>\n",
       "      <td>0</td>\n",
       "      <td>0</td>\n",
       "      <td>0</td>\n",
       "      <td>0</td>\n",
       "      <td>0</td>\n",
       "      <td>0</td>\n",
       "      <td>0</td>\n",
       "      <td>0</td>\n",
       "      <td>0</td>\n",
       "      <td>0</td>\n",
       "    </tr>\n",
       "    <tr>\n",
       "      <th>29</th>\n",
       "      <td>{'BusinessAcceptsCreditCards': 'True', 'Busine...</td>\n",
       "      <td>6YC6CsXRrmPv_iwfvc9onA</td>\n",
       "      <td>Pizza, Restaurants</td>\n",
       "      <td>{'Monday': '11:0-22:0', 'Tuesday': '11:0-22:0'...</td>\n",
       "      <td>1</td>\n",
       "      <td>41.243783</td>\n",
       "      <td>-81.356661</td>\n",
       "      <td>Teresas Pizzeria</td>\n",
       "      <td>11</td>\n",
       "      <td>3.0</td>\n",
       "      <td>...</td>\n",
       "      <td>0</td>\n",
       "      <td>0</td>\n",
       "      <td>0</td>\n",
       "      <td>0</td>\n",
       "      <td>0</td>\n",
       "      <td>0</td>\n",
       "      <td>0</td>\n",
       "      <td>0</td>\n",
       "      <td>0</td>\n",
       "      <td>0</td>\n",
       "    </tr>\n",
       "    <tr>\n",
       "      <th>30</th>\n",
       "      <td>{'Alcohol': 'full_bar', 'Ambience': '{'romanti...</td>\n",
       "      <td>42uRhhQDzbtKrUYoBPXS8A</td>\n",
       "      <td>Nightlife, Restaurants, Bars, Chicken Wings, A...</td>\n",
       "      <td>{'Monday': '11:0-0:0', 'Tuesday': '11:0-0:0', ...</td>\n",
       "      <td>1</td>\n",
       "      <td>43.149488</td>\n",
       "      <td>-89.206641</td>\n",
       "      <td>Chicken Lips</td>\n",
       "      <td>102</td>\n",
       "      <td>4.5</td>\n",
       "      <td>...</td>\n",
       "      <td>0</td>\n",
       "      <td>0</td>\n",
       "      <td>0</td>\n",
       "      <td>0</td>\n",
       "      <td>0</td>\n",
       "      <td>0</td>\n",
       "      <td>0</td>\n",
       "      <td>0</td>\n",
       "      <td>0</td>\n",
       "      <td>0</td>\n",
       "    </tr>\n",
       "    <tr>\n",
       "      <th>32</th>\n",
       "      <td>{'Alcohol': 'none', 'Ambience': '{'romantic': ...</td>\n",
       "      <td>kgffcoxT6BQp-gJ-UQ7Czw</td>\n",
       "      <td>Fast Food, Restaurants, Sandwiches</td>\n",
       "      <td>{'Monday': '9:0-21:0', 'Tuesday': '9:0-21:0', ...</td>\n",
       "      <td>1</td>\n",
       "      <td>36.201794</td>\n",
       "      <td>-115.281981</td>\n",
       "      <td>Subway</td>\n",
       "      <td>13</td>\n",
       "      <td>2.5</td>\n",
       "      <td>...</td>\n",
       "      <td>0</td>\n",
       "      <td>0</td>\n",
       "      <td>0</td>\n",
       "      <td>0</td>\n",
       "      <td>0</td>\n",
       "      <td>0</td>\n",
       "      <td>0</td>\n",
       "      <td>0</td>\n",
       "      <td>0</td>\n",
       "      <td>0</td>\n",
       "    </tr>\n",
       "    <tr>\n",
       "      <th>33</th>\n",
       "      <td>{'Alcohol': 'beer_and_wine', 'Ambience': '{'ro...</td>\n",
       "      <td>0jtRI7hVMpQHpUVtUy4ITw</td>\n",
       "      <td>Beer, Wine &amp; Spirits, Italian, Food, American ...</td>\n",
       "      <td>{'Monday': '7:0-14:30', 'Tuesday': '7:0-19:0',...</td>\n",
       "      <td>1</td>\n",
       "      <td>36.201990</td>\n",
       "      <td>-115.283122</td>\n",
       "      <td>Omelet House Summerlin</td>\n",
       "      <td>242</td>\n",
       "      <td>4.0</td>\n",
       "      <td>...</td>\n",
       "      <td>0</td>\n",
       "      <td>0</td>\n",
       "      <td>0</td>\n",
       "      <td>0</td>\n",
       "      <td>0</td>\n",
       "      <td>0</td>\n",
       "      <td>0</td>\n",
       "      <td>0</td>\n",
       "      <td>0</td>\n",
       "      <td>0</td>\n",
       "    </tr>\n",
       "    <tr>\n",
       "      <th>35</th>\n",
       "      <td>{'Alcohol': 'none', 'Ambience': '{'romantic': ...</td>\n",
       "      <td>UeyHx5LMFjjI4d-NTYkX9Q</td>\n",
       "      <td>Restaurants, Cafes</td>\n",
       "      <td>{'Monday': '5:30-14:0', 'Tuesday': '5:30-14:0'...</td>\n",
       "      <td>1</td>\n",
       "      <td>41.462443</td>\n",
       "      <td>-81.074991</td>\n",
       "      <td>Crossroads Country Cafe'</td>\n",
       "      <td>3</td>\n",
       "      <td>2.5</td>\n",
       "      <td>...</td>\n",
       "      <td>0</td>\n",
       "      <td>0</td>\n",
       "      <td>0</td>\n",
       "      <td>0</td>\n",
       "      <td>0</td>\n",
       "      <td>0</td>\n",
       "      <td>0</td>\n",
       "      <td>0</td>\n",
       "      <td>0</td>\n",
       "      <td>0</td>\n",
       "    </tr>\n",
       "    <tr>\n",
       "      <th>37</th>\n",
       "      <td>{'Alcohol': 'none', 'Ambience': '{'romantic': ...</td>\n",
       "      <td>qHF2s8U2yzPLgIOGH_IMBw</td>\n",
       "      <td>Seafood, Restaurants</td>\n",
       "      <td>{'Monday': '10:0-23:0', 'Tuesday': '10:0-23:0'...</td>\n",
       "      <td>1</td>\n",
       "      <td>41.541571</td>\n",
       "      <td>-81.569901</td>\n",
       "      <td>John John's Seafood</td>\n",
       "      <td>3</td>\n",
       "      <td>4.5</td>\n",
       "      <td>...</td>\n",
       "      <td>0</td>\n",
       "      <td>0</td>\n",
       "      <td>0</td>\n",
       "      <td>0</td>\n",
       "      <td>0</td>\n",
       "      <td>0</td>\n",
       "      <td>0</td>\n",
       "      <td>0</td>\n",
       "      <td>0</td>\n",
       "      <td>0</td>\n",
       "    </tr>\n",
       "    <tr>\n",
       "      <th>39</th>\n",
       "      <td>{'Alcohol': 'none', 'Ambience': '{'romantic': ...</td>\n",
       "      <td>AcGRSWCpb7YB95MTsHlGEw</td>\n",
       "      <td>Pizza, Fast Food, Restaurants</td>\n",
       "      <td>{'Monday': '10:30-22:0', 'Tuesday': '10:30-22:...</td>\n",
       "      <td>1</td>\n",
       "      <td>33.495422</td>\n",
       "      <td>-112.235798</td>\n",
       "      <td>Little Caesars Pizza</td>\n",
       "      <td>4</td>\n",
       "      <td>2.0</td>\n",
       "      <td>...</td>\n",
       "      <td>0</td>\n",
       "      <td>0</td>\n",
       "      <td>0</td>\n",
       "      <td>0</td>\n",
       "      <td>0</td>\n",
       "      <td>0</td>\n",
       "      <td>0</td>\n",
       "      <td>0</td>\n",
       "      <td>0</td>\n",
       "      <td>0</td>\n",
       "    </tr>\n",
       "    <tr>\n",
       "      <th>41</th>\n",
       "      <td>{'BusinessAcceptsCreditCards': 'True', 'Outdoo...</td>\n",
       "      <td>7A6mfqSfG3AG3WZcr45m-Q</td>\n",
       "      <td>Coffee &amp; Tea, Food, Breakfast &amp; Brunch, Restau...</td>\n",
       "      <td>{'Monday': '5:0-0:0', 'Tuesday': '5:0-0:0', 'W...</td>\n",
       "      <td>1</td>\n",
       "      <td>40.326016</td>\n",
       "      <td>-80.065199</td>\n",
       "      <td>Dunkin Donuts</td>\n",
       "      <td>5</td>\n",
       "      <td>2.0</td>\n",
       "      <td>...</td>\n",
       "      <td>0</td>\n",
       "      <td>0</td>\n",
       "      <td>0</td>\n",
       "      <td>0</td>\n",
       "      <td>0</td>\n",
       "      <td>0</td>\n",
       "      <td>0</td>\n",
       "      <td>0</td>\n",
       "      <td>0</td>\n",
       "      <td>0</td>\n",
       "    </tr>\n",
       "    <tr>\n",
       "      <th>47</th>\n",
       "      <td>{'Alcohol': 'full_bar', 'Ambience': '{'romanti...</td>\n",
       "      <td>cKRMmytHxaSt8F0SMEzKqg</td>\n",
       "      <td>Event Planning &amp; Services, Soup, Salad, Mexica...</td>\n",
       "      <td>{'Monday': '11:0-22:0', 'Tuesday': '11:0-22:0'...</td>\n",
       "      <td>1</td>\n",
       "      <td>33.639774</td>\n",
       "      <td>-112.087738</td>\n",
       "      <td>Manuel's Mexican Restaurant &amp; Cantina - Bell Rd</td>\n",
       "      <td>230</td>\n",
       "      <td>3.5</td>\n",
       "      <td>...</td>\n",
       "      <td>0</td>\n",
       "      <td>0</td>\n",
       "      <td>0</td>\n",
       "      <td>0</td>\n",
       "      <td>0</td>\n",
       "      <td>0</td>\n",
       "      <td>0</td>\n",
       "      <td>0</td>\n",
       "      <td>0</td>\n",
       "      <td>0</td>\n",
       "    </tr>\n",
       "    <tr>\n",
       "      <th>53</th>\n",
       "      <td>{'BusinessAcceptsCreditCards': 'False', 'GoodF...</td>\n",
       "      <td>Be7Mwq06nf1eNLblo1ekow</td>\n",
       "      <td>Bakeries, Food, Latin American, Restaurants, S...</td>\n",
       "      <td>None</td>\n",
       "      <td>1</td>\n",
       "      <td>43.731316</td>\n",
       "      <td>-79.465133</td>\n",
       "      <td>La Rosa Chilena</td>\n",
       "      <td>5</td>\n",
       "      <td>2.5</td>\n",
       "      <td>...</td>\n",
       "      <td>0</td>\n",
       "      <td>0</td>\n",
       "      <td>0</td>\n",
       "      <td>0</td>\n",
       "      <td>0</td>\n",
       "      <td>0</td>\n",
       "      <td>0</td>\n",
       "      <td>0</td>\n",
       "      <td>0</td>\n",
       "      <td>0</td>\n",
       "    </tr>\n",
       "    <tr>\n",
       "      <th>57</th>\n",
       "      <td>{'Alcohol': 'none', 'Ambience': '{'romantic': ...</td>\n",
       "      <td>AYL_y8ahquUW0o-cvIyLbg</td>\n",
       "      <td>Restaurants, Pizza</td>\n",
       "      <td>None</td>\n",
       "      <td>1</td>\n",
       "      <td>35.190366</td>\n",
       "      <td>-80.922471</td>\n",
       "      <td>Junior's Pizzeria</td>\n",
       "      <td>85</td>\n",
       "      <td>3.5</td>\n",
       "      <td>...</td>\n",
       "      <td>0</td>\n",
       "      <td>0</td>\n",
       "      <td>0</td>\n",
       "      <td>0</td>\n",
       "      <td>0</td>\n",
       "      <td>0</td>\n",
       "      <td>0</td>\n",
       "      <td>0</td>\n",
       "      <td>0</td>\n",
       "      <td>0</td>\n",
       "    </tr>\n",
       "    <tr>\n",
       "      <th>59</th>\n",
       "      <td>{'BusinessParking': '{'garage': False, 'street...</td>\n",
       "      <td>Aws6VX-PDsZoCw9oHpBMCg</td>\n",
       "      <td>Fast Food, Restaurants, Sandwiches, Food</td>\n",
       "      <td>{'Monday': '7:0-21:30', 'Tuesday': '7:0-21:30'...</td>\n",
       "      <td>1</td>\n",
       "      <td>35.301882</td>\n",
       "      <td>-80.801484</td>\n",
       "      <td>Subway</td>\n",
       "      <td>3</td>\n",
       "      <td>2.0</td>\n",
       "      <td>...</td>\n",
       "      <td>0</td>\n",
       "      <td>0</td>\n",
       "      <td>0</td>\n",
       "      <td>0</td>\n",
       "      <td>0</td>\n",
       "      <td>0</td>\n",
       "      <td>0</td>\n",
       "      <td>0</td>\n",
       "      <td>0</td>\n",
       "      <td>0</td>\n",
       "    </tr>\n",
       "    <tr>\n",
       "      <th>61</th>\n",
       "      <td>{'HasTV': 'False', 'RestaurantsReservations': ...</td>\n",
       "      <td>JJEx5wIqs9iGGATOagE8Sg</td>\n",
       "      <td>Mexican, Restaurants</td>\n",
       "      <td>None</td>\n",
       "      <td>0</td>\n",
       "      <td>36.271169</td>\n",
       "      <td>-115.267759</td>\n",
       "      <td>Baja Fresh Mexican Grill</td>\n",
       "      <td>4</td>\n",
       "      <td>2.0</td>\n",
       "      <td>...</td>\n",
       "      <td>0</td>\n",
       "      <td>0</td>\n",
       "      <td>0</td>\n",
       "      <td>0</td>\n",
       "      <td>0</td>\n",
       "      <td>0</td>\n",
       "      <td>0</td>\n",
       "      <td>0</td>\n",
       "      <td>0</td>\n",
       "      <td>0</td>\n",
       "    </tr>\n",
       "    <tr>\n",
       "      <th>...</th>\n",
       "      <td>...</td>\n",
       "      <td>...</td>\n",
       "      <td>...</td>\n",
       "      <td>...</td>\n",
       "      <td>...</td>\n",
       "      <td>...</td>\n",
       "      <td>...</td>\n",
       "      <td>...</td>\n",
       "      <td>...</td>\n",
       "      <td>...</td>\n",
       "      <td>...</td>\n",
       "      <td>...</td>\n",
       "      <td>...</td>\n",
       "      <td>...</td>\n",
       "      <td>...</td>\n",
       "      <td>...</td>\n",
       "      <td>...</td>\n",
       "      <td>...</td>\n",
       "      <td>...</td>\n",
       "      <td>...</td>\n",
       "      <td>...</td>\n",
       "    </tr>\n",
       "    <tr>\n",
       "      <th>188460</th>\n",
       "      <td>None</td>\n",
       "      <td>stQRYRukNusyWZr9J88zqA</td>\n",
       "      <td>Hotels, Hotels &amp; Travel, Event Planning &amp; Serv...</td>\n",
       "      <td>None</td>\n",
       "      <td>1</td>\n",
       "      <td>41.984616</td>\n",
       "      <td>-77.213441</td>\n",
       "      <td>Lakeview Lodge</td>\n",
       "      <td>3</td>\n",
       "      <td>3.5</td>\n",
       "      <td>...</td>\n",
       "      <td>0</td>\n",
       "      <td>0</td>\n",
       "      <td>0</td>\n",
       "      <td>0</td>\n",
       "      <td>0</td>\n",
       "      <td>0</td>\n",
       "      <td>0</td>\n",
       "      <td>0</td>\n",
       "      <td>0</td>\n",
       "      <td>0</td>\n",
       "    </tr>\n",
       "    <tr>\n",
       "      <th>188461</th>\n",
       "      <td>{'Ambience': '{'romantic': False, 'intimate': ...</td>\n",
       "      <td>ptm6zVTCzdRGlpLUQL6kQQ</td>\n",
       "      <td>Restaurants, Fast Food, American (New), Chinese</td>\n",
       "      <td>{'Monday': '11:0-22:0', 'Tuesday': '11:0-22:0'...</td>\n",
       "      <td>1</td>\n",
       "      <td>34.974427</td>\n",
       "      <td>-80.516252</td>\n",
       "      <td>Hong Kong #1</td>\n",
       "      <td>6</td>\n",
       "      <td>3.5</td>\n",
       "      <td>...</td>\n",
       "      <td>0</td>\n",
       "      <td>0</td>\n",
       "      <td>0</td>\n",
       "      <td>0</td>\n",
       "      <td>0</td>\n",
       "      <td>0</td>\n",
       "      <td>0</td>\n",
       "      <td>0</td>\n",
       "      <td>0</td>\n",
       "      <td>0</td>\n",
       "    </tr>\n",
       "    <tr>\n",
       "      <th>188467</th>\n",
       "      <td>{'RestaurantsDelivery': 'False'}</td>\n",
       "      <td>lyg_0ArnX4fXed1cqCDAWA</td>\n",
       "      <td>Pizza, Restaurants, Italian</td>\n",
       "      <td>None</td>\n",
       "      <td>1</td>\n",
       "      <td>35.367583</td>\n",
       "      <td>-80.665421</td>\n",
       "      <td>Papa John's Pizza</td>\n",
       "      <td>3</td>\n",
       "      <td>2.5</td>\n",
       "      <td>...</td>\n",
       "      <td>0</td>\n",
       "      <td>0</td>\n",
       "      <td>0</td>\n",
       "      <td>0</td>\n",
       "      <td>0</td>\n",
       "      <td>0</td>\n",
       "      <td>0</td>\n",
       "      <td>0</td>\n",
       "      <td>0</td>\n",
       "      <td>0</td>\n",
       "    </tr>\n",
       "    <tr>\n",
       "      <th>188470</th>\n",
       "      <td>{'Alcohol': 'full_bar', 'Ambience': '{'romanti...</td>\n",
       "      <td>9EytPnh_lzU6STtd6cljCQ</td>\n",
       "      <td>Cinema, Event Planning &amp; Services, Restaurants...</td>\n",
       "      <td>None</td>\n",
       "      <td>0</td>\n",
       "      <td>33.615794</td>\n",
       "      <td>-111.926277</td>\n",
       "      <td>Farrelli's Cinema Supper Club</td>\n",
       "      <td>44</td>\n",
       "      <td>4.0</td>\n",
       "      <td>...</td>\n",
       "      <td>0</td>\n",
       "      <td>0</td>\n",
       "      <td>0</td>\n",
       "      <td>0</td>\n",
       "      <td>0</td>\n",
       "      <td>0</td>\n",
       "      <td>0</td>\n",
       "      <td>0</td>\n",
       "      <td>0</td>\n",
       "      <td>0</td>\n",
       "    </tr>\n",
       "    <tr>\n",
       "      <th>188471</th>\n",
       "      <td>{'Alcohol': 'full_bar', 'Ambience': '{'romanti...</td>\n",
       "      <td>wWDQDPuuwQ5kFeT2a72b6Q</td>\n",
       "      <td>Italian, Restaurants</td>\n",
       "      <td>{'Monday': '11:0-22:0', 'Tuesday': '11:0-22:0'...</td>\n",
       "      <td>1</td>\n",
       "      <td>36.060675</td>\n",
       "      <td>-115.046756</td>\n",
       "      <td>Romano's Macaroni Grill</td>\n",
       "      <td>243</td>\n",
       "      <td>2.5</td>\n",
       "      <td>...</td>\n",
       "      <td>0</td>\n",
       "      <td>0</td>\n",
       "      <td>0</td>\n",
       "      <td>0</td>\n",
       "      <td>0</td>\n",
       "      <td>0</td>\n",
       "      <td>0</td>\n",
       "      <td>0</td>\n",
       "      <td>0</td>\n",
       "      <td>0</td>\n",
       "    </tr>\n",
       "    <tr>\n",
       "      <th>188474</th>\n",
       "      <td>{'Alcohol': 'full_bar', 'Ambience': '{'romanti...</td>\n",
       "      <td>Y22IfhXChXoRp3vKi6QwaQ</td>\n",
       "      <td>Chinese, Restaurants</td>\n",
       "      <td>{'Monday': '11:0-22:0', 'Tuesday': '11:0-22:0'...</td>\n",
       "      <td>1</td>\n",
       "      <td>45.508144</td>\n",
       "      <td>-73.561406</td>\n",
       "      <td>KanBai</td>\n",
       "      <td>43</td>\n",
       "      <td>4.0</td>\n",
       "      <td>...</td>\n",
       "      <td>0</td>\n",
       "      <td>0</td>\n",
       "      <td>0</td>\n",
       "      <td>0</td>\n",
       "      <td>0</td>\n",
       "      <td>0</td>\n",
       "      <td>0</td>\n",
       "      <td>0</td>\n",
       "      <td>0</td>\n",
       "      <td>0</td>\n",
       "    </tr>\n",
       "    <tr>\n",
       "      <th>188483</th>\n",
       "      <td>{'Alcohol': 'none', 'Ambience': '{'romantic': ...</td>\n",
       "      <td>L8IxNYtrSkItLbsH7giFIQ</td>\n",
       "      <td>Thai, Cambodian, Restaurants, Cafes</td>\n",
       "      <td>{'Monday': '11:0-22:0', 'Tuesday': '11:0-22:0'...</td>\n",
       "      <td>1</td>\n",
       "      <td>40.428969</td>\n",
       "      <td>-79.981737</td>\n",
       "      <td>Apsara Cafe</td>\n",
       "      <td>81</td>\n",
       "      <td>4.0</td>\n",
       "      <td>...</td>\n",
       "      <td>0</td>\n",
       "      <td>0</td>\n",
       "      <td>0</td>\n",
       "      <td>0</td>\n",
       "      <td>0</td>\n",
       "      <td>0</td>\n",
       "      <td>0</td>\n",
       "      <td>0</td>\n",
       "      <td>0</td>\n",
       "      <td>0</td>\n",
       "    </tr>\n",
       "    <tr>\n",
       "      <th>188484</th>\n",
       "      <td>{'Alcohol': 'none', 'Ambience': '{'romantic': ...</td>\n",
       "      <td>t4qEsqfsL26p6s2Q42OydA</td>\n",
       "      <td>Latin American, Restaurants</td>\n",
       "      <td>None</td>\n",
       "      <td>0</td>\n",
       "      <td>40.428672</td>\n",
       "      <td>-79.993406</td>\n",
       "      <td>Rivas Nicaraguan Restaurant</td>\n",
       "      <td>8</td>\n",
       "      <td>4.0</td>\n",
       "      <td>...</td>\n",
       "      <td>0</td>\n",
       "      <td>0</td>\n",
       "      <td>0</td>\n",
       "      <td>0</td>\n",
       "      <td>0</td>\n",
       "      <td>0</td>\n",
       "      <td>0</td>\n",
       "      <td>0</td>\n",
       "      <td>0</td>\n",
       "      <td>0</td>\n",
       "    </tr>\n",
       "    <tr>\n",
       "      <th>188485</th>\n",
       "      <td>{'Ambience': '{'romantic': False, 'intimate': ...</td>\n",
       "      <td>G6aNyWVp2UjgKRidP_U2jw</td>\n",
       "      <td>Juice Bars &amp; Smoothies, Food Stands, Restauran...</td>\n",
       "      <td>{'Wednesday': '11:30-19:30', 'Thursday': '11:3...</td>\n",
       "      <td>1</td>\n",
       "      <td>43.655400</td>\n",
       "      <td>-79.418187</td>\n",
       "      <td>La Limonada</td>\n",
       "      <td>8</td>\n",
       "      <td>5.0</td>\n",
       "      <td>...</td>\n",
       "      <td>0</td>\n",
       "      <td>0</td>\n",
       "      <td>0</td>\n",
       "      <td>0</td>\n",
       "      <td>0</td>\n",
       "      <td>0</td>\n",
       "      <td>0</td>\n",
       "      <td>0</td>\n",
       "      <td>0</td>\n",
       "      <td>0</td>\n",
       "    </tr>\n",
       "    <tr>\n",
       "      <th>188488</th>\n",
       "      <td>{'Alcohol': 'full_bar', 'Ambience': '{'romanti...</td>\n",
       "      <td>g62SlImzhs6_1t-knPjd8w</td>\n",
       "      <td>Casinos, Steakhouses, Bars, Nightlife, Restaur...</td>\n",
       "      <td>{'Monday': '16:0-23:0', 'Tuesday': '16:0-23:0'...</td>\n",
       "      <td>1</td>\n",
       "      <td>36.092789</td>\n",
       "      <td>-115.176156</td>\n",
       "      <td>Red Square Restaurant &amp; Vodka Lounge</td>\n",
       "      <td>619</td>\n",
       "      <td>4.0</td>\n",
       "      <td>...</td>\n",
       "      <td>0</td>\n",
       "      <td>0</td>\n",
       "      <td>0</td>\n",
       "      <td>0</td>\n",
       "      <td>0</td>\n",
       "      <td>0</td>\n",
       "      <td>0</td>\n",
       "      <td>0</td>\n",
       "      <td>0</td>\n",
       "      <td>0</td>\n",
       "    </tr>\n",
       "    <tr>\n",
       "      <th>188491</th>\n",
       "      <td>{'Alcohol': 'none', 'Ambience': '{'romantic': ...</td>\n",
       "      <td>hLJMEO0tedRf-M4txUBGxQ</td>\n",
       "      <td>Restaurants, Chinese</td>\n",
       "      <td>None</td>\n",
       "      <td>0</td>\n",
       "      <td>35.085837</td>\n",
       "      <td>-80.634936</td>\n",
       "      <td>Li's Chinese Cafe</td>\n",
       "      <td>4</td>\n",
       "      <td>3.5</td>\n",
       "      <td>...</td>\n",
       "      <td>0</td>\n",
       "      <td>0</td>\n",
       "      <td>0</td>\n",
       "      <td>0</td>\n",
       "      <td>0</td>\n",
       "      <td>0</td>\n",
       "      <td>0</td>\n",
       "      <td>0</td>\n",
       "      <td>0</td>\n",
       "      <td>0</td>\n",
       "    </tr>\n",
       "    <tr>\n",
       "      <th>188496</th>\n",
       "      <td>{'Alcohol': 'beer_and_wine', 'Ambience': '{'ro...</td>\n",
       "      <td>JePoHo0qm7lHd2Nsg3zA3w</td>\n",
       "      <td>Delis, Appliances, Pasta Shops, Grocery, Soup,...</td>\n",
       "      <td>{'Monday': '9:0-20:0', 'Tuesday': '9:0-20:0', ...</td>\n",
       "      <td>1</td>\n",
       "      <td>35.186468</td>\n",
       "      <td>-80.822013</td>\n",
       "      <td>Pasta &amp; Provisions</td>\n",
       "      <td>100</td>\n",
       "      <td>4.5</td>\n",
       "      <td>...</td>\n",
       "      <td>0</td>\n",
       "      <td>0</td>\n",
       "      <td>0</td>\n",
       "      <td>0</td>\n",
       "      <td>0</td>\n",
       "      <td>0</td>\n",
       "      <td>0</td>\n",
       "      <td>0</td>\n",
       "      <td>0</td>\n",
       "      <td>0</td>\n",
       "    </tr>\n",
       "    <tr>\n",
       "      <th>188497</th>\n",
       "      <td>{'Alcohol': 'none', 'Ambience': '{'romantic': ...</td>\n",
       "      <td>UNsvHecpu_sPBeQGFxSCUA</td>\n",
       "      <td>Restaurants, Thai</td>\n",
       "      <td>{'Monday': '9:0-21:0'}</td>\n",
       "      <td>1</td>\n",
       "      <td>36.097298</td>\n",
       "      <td>-115.101378</td>\n",
       "      <td>Monthathong Thai Restaurant</td>\n",
       "      <td>5</td>\n",
       "      <td>4.5</td>\n",
       "      <td>...</td>\n",
       "      <td>0</td>\n",
       "      <td>0</td>\n",
       "      <td>0</td>\n",
       "      <td>0</td>\n",
       "      <td>0</td>\n",
       "      <td>0</td>\n",
       "      <td>0</td>\n",
       "      <td>0</td>\n",
       "      <td>0</td>\n",
       "      <td>0</td>\n",
       "    </tr>\n",
       "    <tr>\n",
       "      <th>188504</th>\n",
       "      <td>{'Alcohol': 'full_bar', 'Ambience': '{'romanti...</td>\n",
       "      <td>F0c7tv_7Ypftyb9FKM1zOA</td>\n",
       "      <td>Sushi Bars, Restaurants, Japanese</td>\n",
       "      <td>{'Monday': '10:30-22:0', 'Tuesday': '10:30-22:...</td>\n",
       "      <td>0</td>\n",
       "      <td>35.429511</td>\n",
       "      <td>-80.607802</td>\n",
       "      <td>Fuji</td>\n",
       "      <td>14</td>\n",
       "      <td>3.5</td>\n",
       "      <td>...</td>\n",
       "      <td>0</td>\n",
       "      <td>0</td>\n",
       "      <td>0</td>\n",
       "      <td>0</td>\n",
       "      <td>0</td>\n",
       "      <td>0</td>\n",
       "      <td>0</td>\n",
       "      <td>0</td>\n",
       "      <td>0</td>\n",
       "      <td>0</td>\n",
       "    </tr>\n",
       "    <tr>\n",
       "      <th>188506</th>\n",
       "      <td>{'Alcohol': 'none', 'Ambience': '{'romantic': ...</td>\n",
       "      <td>1bPL4k_Ti8to01tI_Tw80g</td>\n",
       "      <td>Greek, Restaurants, Diners, Southern, Desserts...</td>\n",
       "      <td>{'Monday': '6:0-21:0', 'Tuesday': '6:0-21:0', ...</td>\n",
       "      <td>1</td>\n",
       "      <td>35.011228</td>\n",
       "      <td>-80.564601</td>\n",
       "      <td>Showmars</td>\n",
       "      <td>10</td>\n",
       "      <td>3.0</td>\n",
       "      <td>...</td>\n",
       "      <td>0</td>\n",
       "      <td>0</td>\n",
       "      <td>0</td>\n",
       "      <td>0</td>\n",
       "      <td>0</td>\n",
       "      <td>0</td>\n",
       "      <td>0</td>\n",
       "      <td>0</td>\n",
       "      <td>0</td>\n",
       "      <td>0</td>\n",
       "    </tr>\n",
       "    <tr>\n",
       "      <th>188511</th>\n",
       "      <td>{'Alcohol': 'none', 'Ambience': '{'romantic': ...</td>\n",
       "      <td>IYedXxcwJJwxv-6DpMPvtA</td>\n",
       "      <td>Sushi Bars, Restaurants, Mexican</td>\n",
       "      <td>{'Monday': '10:0-23:0', 'Tuesday': '10:0-23:0'...</td>\n",
       "      <td>1</td>\n",
       "      <td>33.464078</td>\n",
       "      <td>-112.013154</td>\n",
       "      <td>Sushi Sonora</td>\n",
       "      <td>19</td>\n",
       "      <td>4.5</td>\n",
       "      <td>...</td>\n",
       "      <td>0</td>\n",
       "      <td>0</td>\n",
       "      <td>0</td>\n",
       "      <td>0</td>\n",
       "      <td>0</td>\n",
       "      <td>0</td>\n",
       "      <td>0</td>\n",
       "      <td>0</td>\n",
       "      <td>0</td>\n",
       "      <td>0</td>\n",
       "    </tr>\n",
       "    <tr>\n",
       "      <th>188514</th>\n",
       "      <td>{'AgesAllowed': '21plus', 'Alcohol': 'full_bar...</td>\n",
       "      <td>rEozJ3U7VnUxdrNykFWhqA</td>\n",
       "      <td>Dance Clubs, Chicken Wings, Bars, Sports Bars,...</td>\n",
       "      <td>{'Monday': '11:0-2:0', 'Tuesday': '11:0-2:0', ...</td>\n",
       "      <td>1</td>\n",
       "      <td>33.336696</td>\n",
       "      <td>-111.841073</td>\n",
       "      <td>The Reef 2</td>\n",
       "      <td>40</td>\n",
       "      <td>3.0</td>\n",
       "      <td>...</td>\n",
       "      <td>0</td>\n",
       "      <td>0</td>\n",
       "      <td>0</td>\n",
       "      <td>0</td>\n",
       "      <td>0</td>\n",
       "      <td>0</td>\n",
       "      <td>0</td>\n",
       "      <td>0</td>\n",
       "      <td>0</td>\n",
       "      <td>0</td>\n",
       "    </tr>\n",
       "    <tr>\n",
       "      <th>188518</th>\n",
       "      <td>{'HasTV': 'False', 'RestaurantsDelivery': 'Fal...</td>\n",
       "      <td>P4atiaghQt2lnMUtO-SLwQ</td>\n",
       "      <td>Restaurants, Fast Food, Sandwiches</td>\n",
       "      <td>None</td>\n",
       "      <td>1</td>\n",
       "      <td>33.480112</td>\n",
       "      <td>-112.012566</td>\n",
       "      <td>Subway</td>\n",
       "      <td>8</td>\n",
       "      <td>3.0</td>\n",
       "      <td>...</td>\n",
       "      <td>0</td>\n",
       "      <td>0</td>\n",
       "      <td>0</td>\n",
       "      <td>0</td>\n",
       "      <td>0</td>\n",
       "      <td>0</td>\n",
       "      <td>0</td>\n",
       "      <td>0</td>\n",
       "      <td>0</td>\n",
       "      <td>0</td>\n",
       "    </tr>\n",
       "    <tr>\n",
       "      <th>188519</th>\n",
       "      <td>{'Alcohol': 'full_bar', 'Ambience': '{'romanti...</td>\n",
       "      <td>dGDkqrsZNyZdRwaJtF3HwQ</td>\n",
       "      <td>Restaurants, Mexican</td>\n",
       "      <td>{'Friday': '16:0-22:0', 'Saturday': '16:0-22:0'}</td>\n",
       "      <td>0</td>\n",
       "      <td>36.032039</td>\n",
       "      <td>-114.983474</td>\n",
       "      <td>Mariana's Cantina</td>\n",
       "      <td>3</td>\n",
       "      <td>2.0</td>\n",
       "      <td>...</td>\n",
       "      <td>0</td>\n",
       "      <td>0</td>\n",
       "      <td>0</td>\n",
       "      <td>0</td>\n",
       "      <td>0</td>\n",
       "      <td>0</td>\n",
       "      <td>0</td>\n",
       "      <td>0</td>\n",
       "      <td>0</td>\n",
       "      <td>0</td>\n",
       "    </tr>\n",
       "    <tr>\n",
       "      <th>188520</th>\n",
       "      <td>{'Alcohol': 'none', 'Ambience': '{'romantic': ...</td>\n",
       "      <td>8w2Mzdz-JKy3qOpndK1Wqw</td>\n",
       "      <td>Sandwiches, Fast Food, Restaurants</td>\n",
       "      <td>None</td>\n",
       "      <td>1</td>\n",
       "      <td>36.125669</td>\n",
       "      <td>-115.137639</td>\n",
       "      <td>Subway</td>\n",
       "      <td>12</td>\n",
       "      <td>2.0</td>\n",
       "      <td>...</td>\n",
       "      <td>0</td>\n",
       "      <td>0</td>\n",
       "      <td>0</td>\n",
       "      <td>0</td>\n",
       "      <td>0</td>\n",
       "      <td>0</td>\n",
       "      <td>0</td>\n",
       "      <td>0</td>\n",
       "      <td>0</td>\n",
       "      <td>0</td>\n",
       "    </tr>\n",
       "    <tr>\n",
       "      <th>188523</th>\n",
       "      <td>{'BusinessAcceptsCreditCards': 'True', 'Busine...</td>\n",
       "      <td>eVyEkAUx0BIFf_c1MVeUhw</td>\n",
       "      <td>Restaurants, Pizza</td>\n",
       "      <td>None</td>\n",
       "      <td>1</td>\n",
       "      <td>40.388518</td>\n",
       "      <td>-80.049589</td>\n",
       "      <td>Little Nipper's Pizza</td>\n",
       "      <td>11</td>\n",
       "      <td>2.5</td>\n",
       "      <td>...</td>\n",
       "      <td>0</td>\n",
       "      <td>0</td>\n",
       "      <td>0</td>\n",
       "      <td>0</td>\n",
       "      <td>0</td>\n",
       "      <td>0</td>\n",
       "      <td>0</td>\n",
       "      <td>0</td>\n",
       "      <td>0</td>\n",
       "      <td>0</td>\n",
       "    </tr>\n",
       "    <tr>\n",
       "      <th>188537</th>\n",
       "      <td>{'Alcohol': 'none', 'Ambience': '{'romantic': ...</td>\n",
       "      <td>WZyzRSrueI4H2OERcHEBqA</td>\n",
       "      <td>Hotels, Hotels &amp; Travel, American (Traditional...</td>\n",
       "      <td>None</td>\n",
       "      <td>1</td>\n",
       "      <td>38.743658</td>\n",
       "      <td>-85.417778</td>\n",
       "      <td>Falls Restaurant at Clifty Inn</td>\n",
       "      <td>25</td>\n",
       "      <td>3.5</td>\n",
       "      <td>...</td>\n",
       "      <td>0</td>\n",
       "      <td>0</td>\n",
       "      <td>0</td>\n",
       "      <td>0</td>\n",
       "      <td>0</td>\n",
       "      <td>0</td>\n",
       "      <td>0</td>\n",
       "      <td>0</td>\n",
       "      <td>0</td>\n",
       "      <td>0</td>\n",
       "    </tr>\n",
       "    <tr>\n",
       "      <th>188538</th>\n",
       "      <td>{'Alcohol': 'full_bar', 'Ambience': '{'romanti...</td>\n",
       "      <td>W5d8iNog90R-qw43m5dGwg</td>\n",
       "      <td>Polish, Food, Specialty Food, Breakfast &amp; Brun...</td>\n",
       "      <td>{'Monday': '11:0-22:0', 'Tuesday': '11:0-22:0'...</td>\n",
       "      <td>1</td>\n",
       "      <td>43.645129</td>\n",
       "      <td>-79.448348</td>\n",
       "      <td>Café Polonez</td>\n",
       "      <td>211</td>\n",
       "      <td>4.5</td>\n",
       "      <td>...</td>\n",
       "      <td>0</td>\n",
       "      <td>0</td>\n",
       "      <td>0</td>\n",
       "      <td>0</td>\n",
       "      <td>0</td>\n",
       "      <td>0</td>\n",
       "      <td>0</td>\n",
       "      <td>0</td>\n",
       "      <td>0</td>\n",
       "      <td>0</td>\n",
       "    </tr>\n",
       "    <tr>\n",
       "      <th>188543</th>\n",
       "      <td>{'Alcohol': 'none', 'Ambience': '{'romantic': ...</td>\n",
       "      <td>-PkxxFbXpu0xBUB3rc0O6Q</td>\n",
       "      <td>Mediterranean, Turkish, Restaurants, Kebab, Greek</td>\n",
       "      <td>{'Monday': '11:0-21:0', 'Tuesday': '11:0-21:0'...</td>\n",
       "      <td>1</td>\n",
       "      <td>41.377889</td>\n",
       "      <td>-82.077015</td>\n",
       "      <td>Gyro kebab House</td>\n",
       "      <td>43</td>\n",
       "      <td>4.5</td>\n",
       "      <td>...</td>\n",
       "      <td>0</td>\n",
       "      <td>0</td>\n",
       "      <td>0</td>\n",
       "      <td>0</td>\n",
       "      <td>0</td>\n",
       "      <td>0</td>\n",
       "      <td>0</td>\n",
       "      <td>0</td>\n",
       "      <td>0</td>\n",
       "      <td>0</td>\n",
       "    </tr>\n",
       "    <tr>\n",
       "      <th>188560</th>\n",
       "      <td>{'Alcohol': 'beer_and_wine', 'Ambience': '{'ro...</td>\n",
       "      <td>1UmZSifNBsygSWzbfKiAew</td>\n",
       "      <td>Restaurants, Italian</td>\n",
       "      <td>{'Monday': '15:0-21:0', 'Tuesday': '15:0-21:0'...</td>\n",
       "      <td>0</td>\n",
       "      <td>36.261224</td>\n",
       "      <td>-115.180262</td>\n",
       "      <td>Spaghetti &amp; Company</td>\n",
       "      <td>20</td>\n",
       "      <td>3.5</td>\n",
       "      <td>...</td>\n",
       "      <td>0</td>\n",
       "      <td>0</td>\n",
       "      <td>0</td>\n",
       "      <td>0</td>\n",
       "      <td>0</td>\n",
       "      <td>0</td>\n",
       "      <td>0</td>\n",
       "      <td>0</td>\n",
       "      <td>0</td>\n",
       "      <td>0</td>\n",
       "    </tr>\n",
       "    <tr>\n",
       "      <th>188563</th>\n",
       "      <td>{'GoodForKids': 'True', 'HasTV': 'True', 'Outd...</td>\n",
       "      <td>eLExQY6_KOYaayapWNp5IQ</td>\n",
       "      <td>Barbeque, Restaurants, Chinese</td>\n",
       "      <td>{'Monday': '11:0-22:0', 'Tuesday': '11:0-22:0'...</td>\n",
       "      <td>0</td>\n",
       "      <td>43.797454</td>\n",
       "      <td>-79.425888</td>\n",
       "      <td>NCE BBQ</td>\n",
       "      <td>13</td>\n",
       "      <td>3.5</td>\n",
       "      <td>...</td>\n",
       "      <td>0</td>\n",
       "      <td>0</td>\n",
       "      <td>0</td>\n",
       "      <td>0</td>\n",
       "      <td>0</td>\n",
       "      <td>0</td>\n",
       "      <td>0</td>\n",
       "      <td>0</td>\n",
       "      <td>0</td>\n",
       "      <td>0</td>\n",
       "    </tr>\n",
       "    <tr>\n",
       "      <th>188567</th>\n",
       "      <td>{'Ambience': '{'romantic': False, 'intimate': ...</td>\n",
       "      <td>0zGeYN8ReYwVj27U7EHOJA</td>\n",
       "      <td>Delis, Restaurants, American (Traditional)</td>\n",
       "      <td>None</td>\n",
       "      <td>1</td>\n",
       "      <td>36.131516</td>\n",
       "      <td>-115.164565</td>\n",
       "      <td>American Cafe</td>\n",
       "      <td>7</td>\n",
       "      <td>2.5</td>\n",
       "      <td>...</td>\n",
       "      <td>0</td>\n",
       "      <td>0</td>\n",
       "      <td>0</td>\n",
       "      <td>0</td>\n",
       "      <td>0</td>\n",
       "      <td>0</td>\n",
       "      <td>0</td>\n",
       "      <td>0</td>\n",
       "      <td>0</td>\n",
       "      <td>0</td>\n",
       "    </tr>\n",
       "    <tr>\n",
       "      <th>188571</th>\n",
       "      <td>{'Alcohol': 'none', 'Ambience': '{'romantic': ...</td>\n",
       "      <td>G8mz50lT484Ak6qP2N-whQ</td>\n",
       "      <td>Chicken Wings, Fast Food, Restaurants</td>\n",
       "      <td>{'Monday': '11:0-21:0', 'Tuesday': '11:0-21:0'...</td>\n",
       "      <td>1</td>\n",
       "      <td>43.718455</td>\n",
       "      <td>-79.455328</td>\n",
       "      <td>Mary Brown's Famous Chicken &amp; Tater</td>\n",
       "      <td>20</td>\n",
       "      <td>3.0</td>\n",
       "      <td>...</td>\n",
       "      <td>0</td>\n",
       "      <td>0</td>\n",
       "      <td>0</td>\n",
       "      <td>0</td>\n",
       "      <td>0</td>\n",
       "      <td>0</td>\n",
       "      <td>0</td>\n",
       "      <td>0</td>\n",
       "      <td>0</td>\n",
       "      <td>0</td>\n",
       "    </tr>\n",
       "    <tr>\n",
       "      <th>188577</th>\n",
       "      <td>{'Alcohol': 'beer_and_wine', 'Ambience': '{'ro...</td>\n",
       "      <td>kbaXNZLUyVuWbeQxH-NNKw</td>\n",
       "      <td>American (Traditional), American (New), Restau...</td>\n",
       "      <td>{'Monday': '11:0-21:0', 'Tuesday': '11:0-21:0'...</td>\n",
       "      <td>1</td>\n",
       "      <td>35.993777</td>\n",
       "      <td>-115.101582</td>\n",
       "      <td>Bell's BBQ</td>\n",
       "      <td>447</td>\n",
       "      <td>4.0</td>\n",
       "      <td>...</td>\n",
       "      <td>0</td>\n",
       "      <td>0</td>\n",
       "      <td>0</td>\n",
       "      <td>0</td>\n",
       "      <td>0</td>\n",
       "      <td>0</td>\n",
       "      <td>0</td>\n",
       "      <td>0</td>\n",
       "      <td>0</td>\n",
       "      <td>0</td>\n",
       "    </tr>\n",
       "    <tr>\n",
       "      <th>188586</th>\n",
       "      <td>{'Caters': 'True'}</td>\n",
       "      <td>OAmRh1fSiTgtR1e0D4JsVQ</td>\n",
       "      <td>Restaurants, Indian, Caterers, Event Planning ...</td>\n",
       "      <td>None</td>\n",
       "      <td>0</td>\n",
       "      <td>43.628947</td>\n",
       "      <td>-79.394420</td>\n",
       "      <td>Authentic Taste Of Indian Cuisine</td>\n",
       "      <td>3</td>\n",
       "      <td>3.0</td>\n",
       "      <td>...</td>\n",
       "      <td>0</td>\n",
       "      <td>0</td>\n",
       "      <td>0</td>\n",
       "      <td>0</td>\n",
       "      <td>0</td>\n",
       "      <td>0</td>\n",
       "      <td>0</td>\n",
       "      <td>0</td>\n",
       "      <td>0</td>\n",
       "      <td>0</td>\n",
       "    </tr>\n",
       "  </tbody>\n",
       "</table>\n",
       "<p>57173 rows × 316 columns</p>\n",
       "</div>"
      ],
      "text/plain": [
       "                                               attributes  \\\n",
       "0       {'BikeParking': 'False', 'BusinessAcceptsCredi...   \n",
       "1       {'Alcohol': 'none', 'BikeParking': 'False', 'B...   \n",
       "2       {'Alcohol': 'beer_and_wine', 'Ambience': '{'ro...   \n",
       "7       {'Alcohol': 'none', 'BusinessAcceptsCreditCard...   \n",
       "8       {'Alcohol': 'none', 'Ambience': '{'romantic': ...   \n",
       "10      {'GoodForKids': 'True', 'NoiseLevel': 'loud', ...   \n",
       "11      {'Alcohol': 'full_bar', 'Ambience': '{'romanti...   \n",
       "12      {'Alcohol': 'full_bar', 'Ambience': '{'romanti...   \n",
       "13      {'Alcohol': 'full_bar', 'Ambience': '{'romanti...   \n",
       "15      {'BusinessAcceptsCreditCards': 'True', 'Busine...   \n",
       "16      {'Alcohol': 'full_bar', 'BikeParking': 'True',...   \n",
       "19      {'BikeParking': 'True', 'BusinessAcceptsCredit...   \n",
       "21                                                   None   \n",
       "22      {'Ambience': '{'romantic': False, 'intimate': ...   \n",
       "24      {'BusinessAcceptsCreditCards': 'True', 'GoodFo...   \n",
       "25      {'GoodForKids': 'True', 'RestaurantsGoodForGro...   \n",
       "27      {'Ambience': '{'romantic': False, 'intimate': ...   \n",
       "29      {'BusinessAcceptsCreditCards': 'True', 'Busine...   \n",
       "30      {'Alcohol': 'full_bar', 'Ambience': '{'romanti...   \n",
       "32      {'Alcohol': 'none', 'Ambience': '{'romantic': ...   \n",
       "33      {'Alcohol': 'beer_and_wine', 'Ambience': '{'ro...   \n",
       "35      {'Alcohol': 'none', 'Ambience': '{'romantic': ...   \n",
       "37      {'Alcohol': 'none', 'Ambience': '{'romantic': ...   \n",
       "39      {'Alcohol': 'none', 'Ambience': '{'romantic': ...   \n",
       "41      {'BusinessAcceptsCreditCards': 'True', 'Outdoo...   \n",
       "47      {'Alcohol': 'full_bar', 'Ambience': '{'romanti...   \n",
       "53      {'BusinessAcceptsCreditCards': 'False', 'GoodF...   \n",
       "57      {'Alcohol': 'none', 'Ambience': '{'romantic': ...   \n",
       "59      {'BusinessParking': '{'garage': False, 'street...   \n",
       "61      {'HasTV': 'False', 'RestaurantsReservations': ...   \n",
       "...                                                   ...   \n",
       "188460                                               None   \n",
       "188461  {'Ambience': '{'romantic': False, 'intimate': ...   \n",
       "188467                   {'RestaurantsDelivery': 'False'}   \n",
       "188470  {'Alcohol': 'full_bar', 'Ambience': '{'romanti...   \n",
       "188471  {'Alcohol': 'full_bar', 'Ambience': '{'romanti...   \n",
       "188474  {'Alcohol': 'full_bar', 'Ambience': '{'romanti...   \n",
       "188483  {'Alcohol': 'none', 'Ambience': '{'romantic': ...   \n",
       "188484  {'Alcohol': 'none', 'Ambience': '{'romantic': ...   \n",
       "188485  {'Ambience': '{'romantic': False, 'intimate': ...   \n",
       "188488  {'Alcohol': 'full_bar', 'Ambience': '{'romanti...   \n",
       "188491  {'Alcohol': 'none', 'Ambience': '{'romantic': ...   \n",
       "188496  {'Alcohol': 'beer_and_wine', 'Ambience': '{'ro...   \n",
       "188497  {'Alcohol': 'none', 'Ambience': '{'romantic': ...   \n",
       "188504  {'Alcohol': 'full_bar', 'Ambience': '{'romanti...   \n",
       "188506  {'Alcohol': 'none', 'Ambience': '{'romantic': ...   \n",
       "188511  {'Alcohol': 'none', 'Ambience': '{'romantic': ...   \n",
       "188514  {'AgesAllowed': '21plus', 'Alcohol': 'full_bar...   \n",
       "188518  {'HasTV': 'False', 'RestaurantsDelivery': 'Fal...   \n",
       "188519  {'Alcohol': 'full_bar', 'Ambience': '{'romanti...   \n",
       "188520  {'Alcohol': 'none', 'Ambience': '{'romantic': ...   \n",
       "188523  {'BusinessAcceptsCreditCards': 'True', 'Busine...   \n",
       "188537  {'Alcohol': 'none', 'Ambience': '{'romantic': ...   \n",
       "188538  {'Alcohol': 'full_bar', 'Ambience': '{'romanti...   \n",
       "188543  {'Alcohol': 'none', 'Ambience': '{'romantic': ...   \n",
       "188560  {'Alcohol': 'beer_and_wine', 'Ambience': '{'ro...   \n",
       "188563  {'GoodForKids': 'True', 'HasTV': 'True', 'Outd...   \n",
       "188567  {'Ambience': '{'romantic': False, 'intimate': ...   \n",
       "188571  {'Alcohol': 'none', 'Ambience': '{'romantic': ...   \n",
       "188577  {'Alcohol': 'beer_and_wine', 'Ambience': '{'ro...   \n",
       "188586                                 {'Caters': 'True'}   \n",
       "\n",
       "                   business_id  \\\n",
       "0       Apn5Q_b6Nz61Tq4XzPdf9A   \n",
       "1       AjEbIBw6ZFfln7ePHha9PA   \n",
       "2       O8S5hYJ1SMc8fA4QBtVujA   \n",
       "7       6OuOZAok8ikONMS_T3EzXg   \n",
       "8       8-NRKkPY1UiFXW20WXKiXg   \n",
       "10      KapTdGyGs7RK0c68Z6hhhg   \n",
       "11      tZnSodhPwNr4bzrwJ1CSbw   \n",
       "12      _c3ixq9jYKxhLUB0czi0ug   \n",
       "13      bBUMib8l6Me1ZB1_Qkezkg   \n",
       "15      IbTDLI02Sq50C7B-EWK1sg   \n",
       "16      r89Re4FNgVWHgBfjCVZyVw   \n",
       "19      vJIuDBdu01vCA8y1fwR1OQ   \n",
       "21      gJ5xSt6147gkcZ9Es0WxlA   \n",
       "22      3ByGQOVgds2YEu6kzl-XEQ   \n",
       "24      CeuTRtwsq6w5rztGOyNMPg   \n",
       "25      gsoSAb9t7Ar7Ww6O_3GuOg   \n",
       "27      PMDlKLd0Mxj0ngCpuUmE5Q   \n",
       "29      6YC6CsXRrmPv_iwfvc9onA   \n",
       "30      42uRhhQDzbtKrUYoBPXS8A   \n",
       "32      kgffcoxT6BQp-gJ-UQ7Czw   \n",
       "33      0jtRI7hVMpQHpUVtUy4ITw   \n",
       "35      UeyHx5LMFjjI4d-NTYkX9Q   \n",
       "37      qHF2s8U2yzPLgIOGH_IMBw   \n",
       "39      AcGRSWCpb7YB95MTsHlGEw   \n",
       "41      7A6mfqSfG3AG3WZcr45m-Q   \n",
       "47      cKRMmytHxaSt8F0SMEzKqg   \n",
       "53      Be7Mwq06nf1eNLblo1ekow   \n",
       "57      AYL_y8ahquUW0o-cvIyLbg   \n",
       "59      Aws6VX-PDsZoCw9oHpBMCg   \n",
       "61      JJEx5wIqs9iGGATOagE8Sg   \n",
       "...                        ...   \n",
       "188460  stQRYRukNusyWZr9J88zqA   \n",
       "188461  ptm6zVTCzdRGlpLUQL6kQQ   \n",
       "188467  lyg_0ArnX4fXed1cqCDAWA   \n",
       "188470  9EytPnh_lzU6STtd6cljCQ   \n",
       "188471  wWDQDPuuwQ5kFeT2a72b6Q   \n",
       "188474  Y22IfhXChXoRp3vKi6QwaQ   \n",
       "188483  L8IxNYtrSkItLbsH7giFIQ   \n",
       "188484  t4qEsqfsL26p6s2Q42OydA   \n",
       "188485  G6aNyWVp2UjgKRidP_U2jw   \n",
       "188488  g62SlImzhs6_1t-knPjd8w   \n",
       "188491  hLJMEO0tedRf-M4txUBGxQ   \n",
       "188496  JePoHo0qm7lHd2Nsg3zA3w   \n",
       "188497  UNsvHecpu_sPBeQGFxSCUA   \n",
       "188504  F0c7tv_7Ypftyb9FKM1zOA   \n",
       "188506  1bPL4k_Ti8to01tI_Tw80g   \n",
       "188511  IYedXxcwJJwxv-6DpMPvtA   \n",
       "188514  rEozJ3U7VnUxdrNykFWhqA   \n",
       "188518  P4atiaghQt2lnMUtO-SLwQ   \n",
       "188519  dGDkqrsZNyZdRwaJtF3HwQ   \n",
       "188520  8w2Mzdz-JKy3qOpndK1Wqw   \n",
       "188523  eVyEkAUx0BIFf_c1MVeUhw   \n",
       "188537  WZyzRSrueI4H2OERcHEBqA   \n",
       "188538  W5d8iNog90R-qw43m5dGwg   \n",
       "188543  -PkxxFbXpu0xBUB3rc0O6Q   \n",
       "188560  1UmZSifNBsygSWzbfKiAew   \n",
       "188563  eLExQY6_KOYaayapWNp5IQ   \n",
       "188567  0zGeYN8ReYwVj27U7EHOJA   \n",
       "188571  G8mz50lT484Ak6qP2N-whQ   \n",
       "188577  kbaXNZLUyVuWbeQxH-NNKw   \n",
       "188586  OAmRh1fSiTgtR1e0D4JsVQ   \n",
       "\n",
       "                                               categories  \\\n",
       "0       Tours, Breweries, Pizza, Restaurants, Food, Ho...   \n",
       "1       Chicken Wings, Burgers, Caterers, Street Vendo...   \n",
       "2       Breakfast & Brunch, Restaurants, French, Sandw...   \n",
       "7                                       Restaurants, Thai   \n",
       "8                                    Mexican, Restaurants   \n",
       "10                                  Restaurants, Japanese   \n",
       "11                    Cajun/Creole, Southern, Restaurants   \n",
       "12      Bars, Sports Bars, Dive Bars, Burgers, Nightli...   \n",
       "13         Restaurants, Pakistani, Indian, Middle Eastern   \n",
       "15                         Delis, Restaurants, Sandwiches   \n",
       "16      Nightlife, Bars, American (Traditional), Tapas...   \n",
       "19      American (Traditional), Food, Bakeries, Restau...   \n",
       "21                        Fast Food, Burgers, Restaurants   \n",
       "22      Nightlife, Bars, American (Traditional), Sport...   \n",
       "24                                   Mexican, Restaurants   \n",
       "25                                   Mexican, Restaurants   \n",
       "27        Restaurants, Food, Canadian (New), Coffee & Tea   \n",
       "29                                     Pizza, Restaurants   \n",
       "30      Nightlife, Restaurants, Bars, Chicken Wings, A...   \n",
       "32                     Fast Food, Restaurants, Sandwiches   \n",
       "33      Beer, Wine & Spirits, Italian, Food, American ...   \n",
       "35                                     Restaurants, Cafes   \n",
       "37                                   Seafood, Restaurants   \n",
       "39                          Pizza, Fast Food, Restaurants   \n",
       "41      Coffee & Tea, Food, Breakfast & Brunch, Restau...   \n",
       "47      Event Planning & Services, Soup, Salad, Mexica...   \n",
       "53      Bakeries, Food, Latin American, Restaurants, S...   \n",
       "57                                     Restaurants, Pizza   \n",
       "59               Fast Food, Restaurants, Sandwiches, Food   \n",
       "61                                   Mexican, Restaurants   \n",
       "...                                                   ...   \n",
       "188460  Hotels, Hotels & Travel, Event Planning & Serv...   \n",
       "188461    Restaurants, Fast Food, American (New), Chinese   \n",
       "188467                        Pizza, Restaurants, Italian   \n",
       "188470  Cinema, Event Planning & Services, Restaurants...   \n",
       "188471                               Italian, Restaurants   \n",
       "188474                               Chinese, Restaurants   \n",
       "188483                Thai, Cambodian, Restaurants, Cafes   \n",
       "188484                        Latin American, Restaurants   \n",
       "188485  Juice Bars & Smoothies, Food Stands, Restauran...   \n",
       "188488  Casinos, Steakhouses, Bars, Nightlife, Restaur...   \n",
       "188491                               Restaurants, Chinese   \n",
       "188496  Delis, Appliances, Pasta Shops, Grocery, Soup,...   \n",
       "188497                                  Restaurants, Thai   \n",
       "188504                  Sushi Bars, Restaurants, Japanese   \n",
       "188506  Greek, Restaurants, Diners, Southern, Desserts...   \n",
       "188511                   Sushi Bars, Restaurants, Mexican   \n",
       "188514  Dance Clubs, Chicken Wings, Bars, Sports Bars,...   \n",
       "188518                 Restaurants, Fast Food, Sandwiches   \n",
       "188519                               Restaurants, Mexican   \n",
       "188520                 Sandwiches, Fast Food, Restaurants   \n",
       "188523                                 Restaurants, Pizza   \n",
       "188537  Hotels, Hotels & Travel, American (Traditional...   \n",
       "188538  Polish, Food, Specialty Food, Breakfast & Brun...   \n",
       "188543  Mediterranean, Turkish, Restaurants, Kebab, Greek   \n",
       "188560                               Restaurants, Italian   \n",
       "188563                     Barbeque, Restaurants, Chinese   \n",
       "188567         Delis, Restaurants, American (Traditional)   \n",
       "188571              Chicken Wings, Fast Food, Restaurants   \n",
       "188577  American (Traditional), American (New), Restau...   \n",
       "188586  Restaurants, Indian, Caterers, Event Planning ...   \n",
       "\n",
       "                                                    hours  is_open   latitude  \\\n",
       "0       {'Monday': '8:30-17:0', 'Tuesday': '11:0-21:0'...        1  51.091813   \n",
       "1       {'Friday': '17:0-23:0', 'Saturday': '17:0-23:0...        0  35.960734   \n",
       "2       {'Monday': '10:0-22:0', 'Tuesday': '10:0-22:0'...        0  45.540503   \n",
       "7                                                    None        1  43.712946   \n",
       "8       {'Monday': '0:0-0:0', 'Tuesday': '0:0-0:0', 'W...        1  33.448106   \n",
       "10      {'Monday': '11:30-23:0', 'Tuesday': '11:30-23:...        0  43.862484   \n",
       "11      {'Tuesday': '17:0-1:0', 'Wednesday': '17:0-1:0...        0  43.664125   \n",
       "12      {'Monday': '11:0-22:0', 'Tuesday': '11:0-22:0'...        1  33.479807   \n",
       "13                                                   None        1  45.518036   \n",
       "15                                                   None        1  51.042469   \n",
       "16      {'Monday': '11:30-23:0', 'Tuesday': '11:30-23:...        0  45.507699   \n",
       "19      {'Tuesday': '11:0-18:0', 'Wednesday': '11:0-18...        0  36.192284   \n",
       "21                                                   None        1  41.499989   \n",
       "22                                                   None        1  33.495298   \n",
       "24                                                   None        1  33.479671   \n",
       "25      {'Tuesday': '11:0-21:0', 'Wednesday': '11:0-21...        0  40.009328   \n",
       "27                                                   None        0  43.670885   \n",
       "29      {'Monday': '11:0-22:0', 'Tuesday': '11:0-22:0'...        1  41.243783   \n",
       "30      {'Monday': '11:0-0:0', 'Tuesday': '11:0-0:0', ...        1  43.149488   \n",
       "32      {'Monday': '9:0-21:0', 'Tuesday': '9:0-21:0', ...        1  36.201794   \n",
       "33      {'Monday': '7:0-14:30', 'Tuesday': '7:0-19:0',...        1  36.201990   \n",
       "35      {'Monday': '5:30-14:0', 'Tuesday': '5:30-14:0'...        1  41.462443   \n",
       "37      {'Monday': '10:0-23:0', 'Tuesday': '10:0-23:0'...        1  41.541571   \n",
       "39      {'Monday': '10:30-22:0', 'Tuesday': '10:30-22:...        1  33.495422   \n",
       "41      {'Monday': '5:0-0:0', 'Tuesday': '5:0-0:0', 'W...        1  40.326016   \n",
       "47      {'Monday': '11:0-22:0', 'Tuesday': '11:0-22:0'...        1  33.639774   \n",
       "53                                                   None        1  43.731316   \n",
       "57                                                   None        1  35.190366   \n",
       "59      {'Monday': '7:0-21:30', 'Tuesday': '7:0-21:30'...        1  35.301882   \n",
       "61                                                   None        0  36.271169   \n",
       "...                                                   ...      ...        ...   \n",
       "188460                                               None        1  41.984616   \n",
       "188461  {'Monday': '11:0-22:0', 'Tuesday': '11:0-22:0'...        1  34.974427   \n",
       "188467                                               None        1  35.367583   \n",
       "188470                                               None        0  33.615794   \n",
       "188471  {'Monday': '11:0-22:0', 'Tuesday': '11:0-22:0'...        1  36.060675   \n",
       "188474  {'Monday': '11:0-22:0', 'Tuesday': '11:0-22:0'...        1  45.508144   \n",
       "188483  {'Monday': '11:0-22:0', 'Tuesday': '11:0-22:0'...        1  40.428969   \n",
       "188484                                               None        0  40.428672   \n",
       "188485  {'Wednesday': '11:30-19:30', 'Thursday': '11:3...        1  43.655400   \n",
       "188488  {'Monday': '16:0-23:0', 'Tuesday': '16:0-23:0'...        1  36.092789   \n",
       "188491                                               None        0  35.085837   \n",
       "188496  {'Monday': '9:0-20:0', 'Tuesday': '9:0-20:0', ...        1  35.186468   \n",
       "188497                             {'Monday': '9:0-21:0'}        1  36.097298   \n",
       "188504  {'Monday': '10:30-22:0', 'Tuesday': '10:30-22:...        0  35.429511   \n",
       "188506  {'Monday': '6:0-21:0', 'Tuesday': '6:0-21:0', ...        1  35.011228   \n",
       "188511  {'Monday': '10:0-23:0', 'Tuesday': '10:0-23:0'...        1  33.464078   \n",
       "188514  {'Monday': '11:0-2:0', 'Tuesday': '11:0-2:0', ...        1  33.336696   \n",
       "188518                                               None        1  33.480112   \n",
       "188519   {'Friday': '16:0-22:0', 'Saturday': '16:0-22:0'}        0  36.032039   \n",
       "188520                                               None        1  36.125669   \n",
       "188523                                               None        1  40.388518   \n",
       "188537                                               None        1  38.743658   \n",
       "188538  {'Monday': '11:0-22:0', 'Tuesday': '11:0-22:0'...        1  43.645129   \n",
       "188543  {'Monday': '11:0-21:0', 'Tuesday': '11:0-21:0'...        1  41.377889   \n",
       "188560  {'Monday': '15:0-21:0', 'Tuesday': '15:0-21:0'...        0  36.261224   \n",
       "188563  {'Monday': '11:0-22:0', 'Tuesday': '11:0-22:0'...        0  43.797454   \n",
       "188567                                               None        1  36.131516   \n",
       "188571  {'Monday': '11:0-21:0', 'Tuesday': '11:0-21:0'...        1  43.718455   \n",
       "188577  {'Monday': '11:0-21:0', 'Tuesday': '11:0-21:0'...        1  35.993777   \n",
       "188586                                               None        0  43.628947   \n",
       "\n",
       "         longitude                                             name  \\\n",
       "0      -114.031675                             Minhas Micro Brewery   \n",
       "1      -114.939821                              CK'S BBQ & Catering   \n",
       "2       -73.599300                                    La Bastringue   \n",
       "7       -79.632763                                      Thai One On   \n",
       "8      -112.341302                         Filiberto's Mexican Food   \n",
       "10      -79.306960                                          Sushi 8   \n",
       "11      -79.411886                       Southern Accent Restaurant   \n",
       "12     -112.091188                         Original Hamburger Works   \n",
       "13      -73.582174                            Mysore Indian Cuisine   \n",
       "15     -114.139574                              Safeway Food & Drug   \n",
       "16      -73.553407                                           Harlow   \n",
       "19     -115.159272                                       CakesbyToi   \n",
       "21      -81.666375                               Rally's Hamburgers   \n",
       "22     -112.236076                                         Rib Shop   \n",
       "24     -112.225173                                         Salsitas   \n",
       "25      -88.576386                               Los Toros Numero 2   \n",
       "27      -79.392379                       The Coffee Mill Restaurant   \n",
       "29      -81.356661                                 Teresas Pizzeria   \n",
       "30      -89.206641                                     Chicken Lips   \n",
       "32     -115.281981                                           Subway   \n",
       "33     -115.283122                           Omelet House Summerlin   \n",
       "35      -81.074991                         Crossroads Country Cafe'   \n",
       "37      -81.569901                              John John's Seafood   \n",
       "39     -112.235798                             Little Caesars Pizza   \n",
       "41      -80.065199                                    Dunkin Donuts   \n",
       "47     -112.087738  Manuel's Mexican Restaurant & Cantina - Bell Rd   \n",
       "53      -79.465133                                  La Rosa Chilena   \n",
       "57      -80.922471                                Junior's Pizzeria   \n",
       "59      -80.801484                                           Subway   \n",
       "61     -115.267759                         Baja Fresh Mexican Grill   \n",
       "...            ...                                              ...   \n",
       "188460  -77.213441                                   Lakeview Lodge   \n",
       "188461  -80.516252                                     Hong Kong #1   \n",
       "188467  -80.665421                                Papa John's Pizza   \n",
       "188470 -111.926277                    Farrelli's Cinema Supper Club   \n",
       "188471 -115.046756                          Romano's Macaroni Grill   \n",
       "188474  -73.561406                                           KanBai   \n",
       "188483  -79.981737                                      Apsara Cafe   \n",
       "188484  -79.993406                      Rivas Nicaraguan Restaurant   \n",
       "188485  -79.418187                                      La Limonada   \n",
       "188488 -115.176156             Red Square Restaurant & Vodka Lounge   \n",
       "188491  -80.634936                                Li's Chinese Cafe   \n",
       "188496  -80.822013                               Pasta & Provisions   \n",
       "188497 -115.101378                      Monthathong Thai Restaurant   \n",
       "188504  -80.607802                                             Fuji   \n",
       "188506  -80.564601                                         Showmars   \n",
       "188511 -112.013154                                     Sushi Sonora   \n",
       "188514 -111.841073                                       The Reef 2   \n",
       "188518 -112.012566                                           Subway   \n",
       "188519 -114.983474                                Mariana's Cantina   \n",
       "188520 -115.137639                                           Subway   \n",
       "188523  -80.049589                            Little Nipper's Pizza   \n",
       "188537  -85.417778                   Falls Restaurant at Clifty Inn   \n",
       "188538  -79.448348                                     Café Polonez   \n",
       "188543  -82.077015                                 Gyro kebab House   \n",
       "188560 -115.180262                              Spaghetti & Company   \n",
       "188563  -79.425888                                          NCE BBQ   \n",
       "188567 -115.164565                                    American Cafe   \n",
       "188571  -79.455328              Mary Brown's Famous Chicken & Tater   \n",
       "188577 -115.101582                                       Bell's BBQ   \n",
       "188586  -79.394420                Authentic Taste Of Indian Cuisine   \n",
       "\n",
       "        review_count  stars         ...          Libraries  Armenian  Massage  \\\n",
       "0                 24    4.0         ...                  0         0        0   \n",
       "1                  3    4.5         ...                  0         0        0   \n",
       "2                  5    4.0         ...                  0         0        0   \n",
       "7                  7    2.0         ...                  0         0        0   \n",
       "8                 40    2.5         ...                  0         0        0   \n",
       "10                12    1.5         ...                  0         0        0   \n",
       "11               146    4.0         ...                  0         0        0   \n",
       "12               277    4.0         ...                  0         0        0   \n",
       "13                19    3.5         ...                  0         0        0   \n",
       "15                 4    2.5         ...                  0         0        0   \n",
       "16                12    3.5         ...                  0         0        0   \n",
       "19                 3    1.5         ...                  0         0        0   \n",
       "21                 5    3.0         ...                  0         0        0   \n",
       "22                 3    2.5         ...                  0         0        0   \n",
       "24                14    2.5         ...                  0         0        0   \n",
       "25                 6    3.5         ...                  0         0        0   \n",
       "27                25    3.5         ...                  0         0        0   \n",
       "29                11    3.0         ...                  0         0        0   \n",
       "30               102    4.5         ...                  0         0        0   \n",
       "32                13    2.5         ...                  0         0        0   \n",
       "33               242    4.0         ...                  0         0        0   \n",
       "35                 3    2.5         ...                  0         0        0   \n",
       "37                 3    4.5         ...                  0         0        0   \n",
       "39                 4    2.0         ...                  0         0        0   \n",
       "41                 5    2.0         ...                  0         0        0   \n",
       "47               230    3.5         ...                  0         0        0   \n",
       "53                 5    2.5         ...                  0         0        0   \n",
       "57                85    3.5         ...                  0         0        0   \n",
       "59                 3    2.0         ...                  0         0        0   \n",
       "61                 4    2.0         ...                  0         0        0   \n",
       "...              ...    ...         ...                ...       ...      ...   \n",
       "188460             3    3.5         ...                  0         0        0   \n",
       "188461             6    3.5         ...                  0         0        0   \n",
       "188467             3    2.5         ...                  0         0        0   \n",
       "188470            44    4.0         ...                  0         0        0   \n",
       "188471           243    2.5         ...                  0         0        0   \n",
       "188474            43    4.0         ...                  0         0        0   \n",
       "188483            81    4.0         ...                  0         0        0   \n",
       "188484             8    4.0         ...                  0         0        0   \n",
       "188485             8    5.0         ...                  0         0        0   \n",
       "188488           619    4.0         ...                  0         0        0   \n",
       "188491             4    3.5         ...                  0         0        0   \n",
       "188496           100    4.5         ...                  0         0        0   \n",
       "188497             5    4.5         ...                  0         0        0   \n",
       "188504            14    3.5         ...                  0         0        0   \n",
       "188506            10    3.0         ...                  0         0        0   \n",
       "188511            19    4.5         ...                  0         0        0   \n",
       "188514            40    3.0         ...                  0         0        0   \n",
       "188518             8    3.0         ...                  0         0        0   \n",
       "188519             3    2.0         ...                  0         0        0   \n",
       "188520            12    2.0         ...                  0         0        0   \n",
       "188523            11    2.5         ...                  0         0        0   \n",
       "188537            25    3.5         ...                  0         0        0   \n",
       "188538           211    4.5         ...                  0         0        0   \n",
       "188543            43    4.5         ...                  0         0        0   \n",
       "188560            20    3.5         ...                  0         0        0   \n",
       "188563            13    3.5         ...                  0         0        0   \n",
       "188567             7    2.5         ...                  0         0        0   \n",
       "188571            20    3.0         ...                  0         0        0   \n",
       "188577           447    4.0         ...                  0         0        0   \n",
       "188586             3    3.0         ...                  0         0        0   \n",
       "\n",
       "        Beer Garden  Coffee & Tea Supplies  Syrian  Musicians  Airports  \\\n",
       "0                 0                      0       0          0         0   \n",
       "1                 0                      0       0          0         0   \n",
       "2                 0                      0       0          0         0   \n",
       "7                 0                      0       0          0         0   \n",
       "8                 0                      0       0          0         0   \n",
       "10                0                      0       0          0         0   \n",
       "11                0                      0       0          0         0   \n",
       "12                0                      0       0          0         0   \n",
       "13                0                      0       0          0         0   \n",
       "15                0                      0       0          0         0   \n",
       "16                0                      0       0          0         0   \n",
       "19                0                      0       0          0         0   \n",
       "21                0                      0       0          0         0   \n",
       "22                0                      0       0          0         0   \n",
       "24                0                      0       0          0         0   \n",
       "25                0                      0       0          0         0   \n",
       "27                0                      0       0          0         0   \n",
       "29                0                      0       0          0         0   \n",
       "30                0                      0       0          0         0   \n",
       "32                0                      0       0          0         0   \n",
       "33                0                      0       0          0         0   \n",
       "35                0                      0       0          0         0   \n",
       "37                0                      0       0          0         0   \n",
       "39                0                      0       0          0         0   \n",
       "41                0                      0       0          0         0   \n",
       "47                0                      0       0          0         0   \n",
       "53                0                      0       0          0         0   \n",
       "57                0                      0       0          0         0   \n",
       "59                0                      0       0          0         0   \n",
       "61                0                      0       0          0         0   \n",
       "...             ...                    ...     ...        ...       ...   \n",
       "188460            0                      0       0          0         0   \n",
       "188461            0                      0       0          0         0   \n",
       "188467            0                      0       0          0         0   \n",
       "188470            0                      0       0          0         0   \n",
       "188471            0                      0       0          0         0   \n",
       "188474            0                      0       0          0         0   \n",
       "188483            0                      0       0          0         0   \n",
       "188484            0                      0       0          0         0   \n",
       "188485            0                      0       0          0         0   \n",
       "188488            0                      0       0          0         0   \n",
       "188491            0                      0       0          0         0   \n",
       "188496            0                      0       0          0         0   \n",
       "188497            0                      0       0          0         0   \n",
       "188504            0                      0       0          0         0   \n",
       "188506            0                      0       0          0         0   \n",
       "188511            0                      0       0          0         0   \n",
       "188514            0                      0       0          0         0   \n",
       "188518            0                      0       0          0         0   \n",
       "188519            0                      0       0          0         0   \n",
       "188520            0                      0       0          0         0   \n",
       "188523            0                      0       0          0         0   \n",
       "188537            0                      0       0          0         0   \n",
       "188538            0                      0       0          0         0   \n",
       "188543            0                      0       0          0         0   \n",
       "188560            0                      0       0          0         0   \n",
       "188563            0                      0       0          0         0   \n",
       "188567            0                      0       0          0         0   \n",
       "188571            0                      0       0          0         0   \n",
       "188577            0                      0       0          0         0   \n",
       "188586            0                      0       0          0         0   \n",
       "\n",
       "        Appliances & Repair  Financial Services  \n",
       "0                         0                   0  \n",
       "1                         0                   0  \n",
       "2                         0                   0  \n",
       "7                         0                   0  \n",
       "8                         0                   0  \n",
       "10                        0                   0  \n",
       "11                        0                   0  \n",
       "12                        0                   0  \n",
       "13                        0                   0  \n",
       "15                        0                   0  \n",
       "16                        0                   0  \n",
       "19                        0                   0  \n",
       "21                        0                   0  \n",
       "22                        0                   0  \n",
       "24                        0                   0  \n",
       "25                        0                   0  \n",
       "27                        0                   0  \n",
       "29                        0                   0  \n",
       "30                        0                   0  \n",
       "32                        0                   0  \n",
       "33                        0                   0  \n",
       "35                        0                   0  \n",
       "37                        0                   0  \n",
       "39                        0                   0  \n",
       "41                        0                   0  \n",
       "47                        0                   0  \n",
       "53                        0                   0  \n",
       "57                        0                   0  \n",
       "59                        0                   0  \n",
       "61                        0                   0  \n",
       "...                     ...                 ...  \n",
       "188460                    0                   0  \n",
       "188461                    0                   0  \n",
       "188467                    0                   0  \n",
       "188470                    0                   0  \n",
       "188471                    0                   0  \n",
       "188474                    0                   0  \n",
       "188483                    0                   0  \n",
       "188484                    0                   0  \n",
       "188485                    0                   0  \n",
       "188488                    0                   0  \n",
       "188491                    0                   0  \n",
       "188496                    0                   0  \n",
       "188497                    0                   0  \n",
       "188504                    0                   0  \n",
       "188506                    0                   0  \n",
       "188511                    0                   0  \n",
       "188514                    0                   0  \n",
       "188518                    0                   0  \n",
       "188519                    0                   0  \n",
       "188520                    0                   0  \n",
       "188523                    0                   0  \n",
       "188537                    0                   0  \n",
       "188538                    0                   0  \n",
       "188543                    0                   0  \n",
       "188560                    0                   0  \n",
       "188563                    0                   0  \n",
       "188567                    0                   0  \n",
       "188571                    0                   0  \n",
       "188577                    0                   0  \n",
       "188586                    0                   0  \n",
       "\n",
       "[57173 rows x 316 columns]"
      ]
     },
     "execution_count": 16,
     "metadata": {},
     "output_type": "execute_result"
    }
   ],
   "source": [
    "res"
   ]
  },
  {
   "cell_type": "code",
   "execution_count": null,
   "metadata": {},
   "outputs": [],
   "source": []
  }
 ],
 "metadata": {
  "kernelspec": {
   "display_name": "Python 3",
   "language": "python",
   "name": "python3"
  },
  "language_info": {
   "codemirror_mode": {
    "name": "ipython",
    "version": 3
   },
   "file_extension": ".py",
   "mimetype": "text/x-python",
   "name": "python",
   "nbconvert_exporter": "python",
   "pygments_lexer": "ipython3",
   "version": "3.6.7"
  }
 },
 "nbformat": 4,
 "nbformat_minor": 2
}
